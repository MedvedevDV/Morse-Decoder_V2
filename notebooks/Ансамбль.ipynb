{
 "cells": [
  {
   "cell_type": "code",
   "execution_count": 1,
   "id": "d761d8f5",
   "metadata": {},
   "outputs": [
    {
     "name": "stdout",
     "output_type": "stream",
     "text": [
      "CNN размерность выхода: torch.Size([1, 32, 16, 89])\n",
      "CNN число фичей: 512\n",
      "Проекция из 512 в 512\n",
      "CNN размерность выхода: torch.Size([1, 32, 32, 89])\n",
      "CNN число фичей: 1024\n",
      "\n",
      "MorseNet - инициалицация модели. Число обучаемых параметров: 8,690,588\n"
     ]
    }
   ],
   "source": [
    "import numpy as np\n",
    "import pandas as pd\n",
    "import os\n",
    "import random\n",
    "from pathlib import Path as pt\n",
    "import torch\n",
    "import torchaudio\n",
    "from torch import nn\n",
    "import torch.optim as optim\n",
    "from torch.utils.data import Dataset, DataLoader, random_split\n",
    "from torchaudio import transforms\n",
    "from torchvision.transforms import v2\n",
    "# from Moduls.MosreDataset import MosreDataset\n",
    "from sklearn.model_selection import train_test_split\n",
    "import matplotlib.pyplot as plt\n",
    "from tqdm import tqdm\n",
    "from torch.nn.parallel import DataParallel\n",
    "from collections import Counter\n",
    "\n",
    "DIVICE = torch.device(\"cuda\")\n",
    "\n",
    "MAIN = pt(os.getcwd())\n",
    "DATASET_PATCH = MAIN / 'morse_dataset'\n",
    "AUDIO_FILES = DATASET_PATCH / 'morse_dataset'\n",
    "\n",
    "# Поятоянные значения выявленные в процессе анализа\n",
    "MORSEALP = \"АБВГДЕЁЖЗИЙКЛМНОПРСТУФХЦЧШЩЪЫЬЭЮЯ 1234567890#\"\n",
    "MAX_TIME = 48\n",
    "SAMPLE_RATE = 8000\n",
    "N_MELS = 128\n",
    "N_FFT = 400\n",
    "HOP_LENGTH = 180\n",
    "TOP_DB = 80\n",
    "FREQ_MASK = 15\n",
    "TIME_MASK = 20\n",
    "\n",
    "# Гиперпараметы обучения\n",
    "SEED = 42\n",
    "BATCH_SIZE = 32\n",
    "EPOCHS = 50\n",
    "LEARNING_RATE = 0.002 #2e-4\n",
    "WEIGHT_DECAY = 0.00001\n",
    "# int_to_alph = dict(enumerate(MORSEALP))\n",
    "# alph_to_int = {char:enum for enum, char in int_to_alph.items()}\n",
    "\n",
    "#===== Import data =====\n",
    "train_data = pd.read_csv(pt.joinpath(DATASET_PATCH,'train.csv'))\n",
    "test_data = pd.read_csv(pt.joinpath(DATASET_PATCH,'test.csv'))\n",
    "sample_data = pd.read_csv(pt.joinpath(DATASET_PATCH,'sample_submission.csv'))\n",
    "\n",
    "all_chars = Counter(\"\".join(train_data['message']))\n",
    "BLANK_CHAR = \"_\"\n",
    "vocab_list = sorted(all_chars.keys()) + [BLANK_CHAR]\n",
    "num_classes = len(vocab_list)\n",
    "char_to_int = {char: i for i, char in enumerate(vocab_list)}\n",
    "int_to_char = {i: char for i, char in enumerate(vocab_list)}\n",
    "BLANK_IDX = char_to_int[BLANK_CHAR]\n",
    "\n",
    "class MosreDataset(Dataset):\n",
    "    \"\"\"\n",
    "    Класс для обработки \n",
    "    \"\"\"\n",
    "    def __init__(self, df, data_patch,char_to_int, train=True, transforms=None, prev_chars = 1):\n",
    "        self.df = df\n",
    "        self.is_train = train\n",
    "\n",
    "        self.data_path = data_patch\n",
    "        self.audio_paths = self.data_path / 'morse_dataset'\n",
    "\n",
    "        self.transforms = transforms\n",
    "\n",
    "        self.char_to_int = char_to_int\n",
    "        self.prev_chars = prev_chars\n",
    "\n",
    "        if self.is_train:\n",
    "            self.messeges = self.df.message.values\n",
    "\n",
    "    def __len__(self):\n",
    "        return len(self.df)\n",
    "    \n",
    "    def __getitem__(self, index):\n",
    "        #Получение аугментрованых спектрограмм\n",
    "        try:\n",
    "            audio_file = self.audio_paths / self.df.id.values[index]\n",
    "            waveform, sample_rate = torchaudio.load(audio_file)\n",
    "            augmented_spectrogram = self.transforms(waveform)\n",
    "\n",
    "            if self.is_train:\n",
    "                message = self.messeges[index]\n",
    "                #Получение списка индексов секта - как требует CTC los\n",
    "                '''\n",
    "                При обработке dataloader labels будут выравниваться по макс длине для выравнивания батча\n",
    "                Т.е. будет padding 0. что в будующем будет пустым значением для ctc loss\n",
    "                '''\n",
    "                target = torch.tensor([self.char_to_int[char] for char in message], dtype=torch.long); \n",
    "                target_len = torch.tensor(len(target), dtype=torch.long)\n",
    "                return augmented_spectrogram, target, target_len, message\n",
    "            else:\n",
    "                return augmented_spectrogram, None, None, None\n",
    "        except Exception as ex:\n",
    "            print(str(ex))\n",
    "        \n",
    "    def change_time(self, audio_file, max_len = 384000):\n",
    "        waveform, sample_rate = torchaudio.load(audio_file)\n",
    "        cahanal, sig_len = waveform.shape\n",
    "\n",
    "        if sig_len < max_len:\n",
    "            pad_len = torch.zeros(max_len - sig_len).unsqueeze(0)\n",
    "            waveform = torch.cat([waveform, pad_len], dim=1)\n",
    "\n",
    "        return waveform\n",
    "    \n",
    "FIRST_FE_COUNT = 16\n",
    "SECOND_FE_COUNT = 32\n",
    "THIRD_FE_COUNT = 32\n",
    "QAD_FE_COUNT = 32\n",
    "PADDING = 'same'\n",
    "MAXPOOL_KERNEL = 2\n",
    "KERTNEL_SIZE = 3\n",
    "NERON_COUNT = 128\n",
    "GRU_HIDEN = 256\n",
    "# Start with 4 transforms\n",
    "class MorseNet(nn.Module):\n",
    "    def __init__(self, num_classes):\n",
    "        super().__init__()\n",
    "        self.net_conv = nn.Sequential(\n",
    "            nn.Conv2d(in_channels=1, \n",
    "                      out_channels=FIRST_FE_COUNT, \n",
    "                      kernel_size=KERTNEL_SIZE , stride=1, padding=PADDING),\n",
    "            nn.BatchNorm2d(FIRST_FE_COUNT),\n",
    "            nn.GELU(),\n",
    "            nn.MaxPool2d((1, 2), (1, 2)), # [batch, FIRST_FE_COUNT = 16, 64, 960]\n",
    "\n",
    "            nn.Conv2d(in_channels=FIRST_FE_COUNT, \n",
    "                      out_channels=SECOND_FE_COUNT, \n",
    "                      kernel_size=KERTNEL_SIZE , stride=1, padding=PADDING),\n",
    "            nn.BatchNorm2d(SECOND_FE_COUNT),\n",
    "            nn.GELU(),\n",
    "            nn.MaxPool2d((2, 1), (2, 1)), # [batch, SECOND_FE_COUNT = 32, 32, 480]\n",
    "\n",
    "            nn.Conv2d(in_channels=SECOND_FE_COUNT, \n",
    "                      out_channels=THIRD_FE_COUNT, \n",
    "                      kernel_size=KERTNEL_SIZE , stride=1, padding=PADDING),\n",
    "            nn.BatchNorm2d(THIRD_FE_COUNT),\n",
    "            nn.GELU(),\n",
    "            nn.MaxPool2d((2, 2), (2, 2)), # [batch, THIRD_FE_COUNT = 32, 16, 240]\n",
    "\n",
    "            nn.Conv2d(in_channels=THIRD_FE_COUNT, \n",
    "                      out_channels=QAD_FE_COUNT, \n",
    "                      kernel_size=KERTNEL_SIZE , stride=1, padding=PADDING),\n",
    "            nn.BatchNorm2d(QAD_FE_COUNT),\n",
    "            nn.GELU(),\n",
    "            nn.MaxPool2d((2, 1), (2, 1)) # [batch=32, QAD_FE_COUNT = 32, 8, 80](что юы сохраниить большще признаков по горизонтали)\n",
    "        )\n",
    "        with torch.no_grad(): \n",
    "            dummy_input = torch.randn(1, 1, N_MELS, 356); \n",
    "            cnn_out = self.net_conv(dummy_input); \n",
    "            self.cnn_output_features = cnn_out.shape[1] * cnn_out.shape[2]\n",
    "\n",
    "        print(f\"CNN размерность выхода: {cnn_out.shape}\"); \n",
    "        print(f\"CNN число фичей: {self.cnn_output_features}\")\n",
    "\n",
    "        # Добавлен лоейный слой и функция активации. Для чего? расписать потом \n",
    "        self.layer1 = nn.Linear(self.cnn_output_features, N_MELS*2); \n",
    "        self.gelu = nn.GELU()\n",
    "        print(f\"Проекция из {self.cnn_output_features} в {GRU_HIDEN*2}\")\n",
    "        self.rnn = nn.LSTM(\n",
    "                input_size=N_MELS*2,\n",
    "                hidden_size=GRU_HIDEN,\n",
    "                num_layers=2,\n",
    "                bidirectional=True,\n",
    "                dropout=0.3,\n",
    "                batch_first=True \n",
    "            )\n",
    "\n",
    "        \n",
    "        self.embed_dim = GRU_HIDEN * 2\n",
    "        self.layer_norm = nn.LayerNorm(self.embed_dim)      \n",
    "        self.dropout = nn.Dropout(0.3)   \n",
    "        self.layer2 = nn.Linear(self.embed_dim, num_classes)       \n",
    "        # self.layer3 = nn.Linear(GRU_HIDEN, GRU_HIDEN // 2)       \n",
    "        # self.layer4 = nn.Linear(GRU_HIDEN // 2, 45)             \n",
    "\n",
    "    def name(self):\n",
    "        return 'MorseNet1'\n",
    "\n",
    "    def forward(self, x):\n",
    "        x = self.net_conv(x)\n",
    "\n",
    "        batch, channels, reduced_mels, reduced_time = x.shape\n",
    "        x = x.permute(0, 3, 1, 2)  # [batch, time, channels, mels]\n",
    "\n",
    "        # В частности, каждый вектор признаков в последовательности признаков генерируется \n",
    "        # слева направо на картах признаков. Это означает, что i-й вектор признаков представляет \n",
    "        # собой объединение столбцов всех карт. \n",
    "        # Таким образом, форма тензора может быть изменена, например, на (размер_пакета, 80, 256)\n",
    "        \n",
    "        x = x.reshape(batch, reduced_time, -1)  # to GRU [batch=32, seq_len=89, features/hiden_dim=512]\n",
    "        x = self.layer1(x)\n",
    "        x = self.gelu(x)\n",
    "\n",
    "        self.rnn.flatten_parameters()\n",
    "\n",
    "        x = self.rnn(x) # [batch=32, seq_len=89, features/hiden_dim=256 * 2]\n",
    "        x, _ = x # берем информацию со всез состояний\n",
    "        x = self.layer_norm(x)\n",
    "        x = self.dropout(x)\n",
    "        x = self.layer2(x) # logits - [batch, sequence, num_classes] \n",
    "        x = nn.functional.log_softmax(x.permute(1,0,2), dim=2) # pertime так как CTC loss требует на взод (sequence/T,batch/N,num_classes/C)\n",
    "        '''\n",
    "        по одному прогнозу для каждого из признаков в последовательности, \n",
    "        в итоге получается 89 прогнозов символов для каждой секунды звука.\n",
    "        '''\n",
    "        return x\n",
    "    \n",
    "    \n",
    "class SEBlock(nn.Module):\n",
    "    def __init__(self, channels, reduction=16):\n",
    "        super().__init__()\n",
    "        self.squeeze = nn.AdaptiveAvgPool2d(1)  # [B, C, 1, 1]\n",
    "        self.excitation = nn.Sequential(\n",
    "            nn.Linear(channels, channels // reduction),  # [B, C/reduction]\n",
    "            nn.GELU(),\n",
    "            nn.Linear(channels // reduction, channels),  # [B, C]\n",
    "            nn.Sigmoid()\n",
    "        )\n",
    "    \n",
    "    def forward(self, x):\n",
    "        B, C, _, _ = x.shape\n",
    "        squeezed = self.squeeze(x).view(B, C)  # [B, C]\n",
    "        weights = self.excitation(squeezed).view(B, C, 1, 1)  # [B, C, 1, 1]\n",
    "        return x * weights  # Масштабируем каналы\n",
    "    \n",
    "\n",
    "class MorseNet2(nn.Module):\n",
    "    def __init__(self, num_classes):\n",
    "        super().__init__()\n",
    "        # start - [1, 128, 356]\n",
    "        self.net_conv = nn.Sequential(\n",
    "            nn.Conv2d(in_channels=1, \n",
    "                      out_channels=FIRST_FE_COUNT, \n",
    "                      kernel_size=KERTNEL_SIZE , stride=1, padding=PADDING),\n",
    "            nn.BatchNorm2d(FIRST_FE_COUNT),\n",
    "            nn.GELU(),\n",
    "            SEBlock(FIRST_FE_COUNT),\n",
    "            nn.MaxPool2d(kernel_size=2, stride=2), # [batch, FIRST_FE_COUNT = 16, 64, 178]\n",
    "\n",
    "            nn.Conv2d(in_channels=FIRST_FE_COUNT, \n",
    "                      out_channels=SECOND_FE_COUNT, \n",
    "                      kernel_size=KERTNEL_SIZE , stride=1, padding=PADDING),\n",
    "            nn.BatchNorm2d(SECOND_FE_COUNT),\n",
    "            nn.GELU(),\n",
    "            SEBlock(SECOND_FE_COUNT),\n",
    "            # nn.MaxPool2d(2, 2), #\n",
    "\n",
    "            nn.Conv2d(in_channels=SECOND_FE_COUNT, \n",
    "                      out_channels=THIRD_FE_COUNT, \n",
    "                      kernel_size=KERTNEL_SIZE , stride=1, padding=PADDING),\n",
    "            nn.BatchNorm2d(THIRD_FE_COUNT),\n",
    "            nn.GELU(),\n",
    "            SEBlock(THIRD_FE_COUNT),\n",
    "            # nn.MaxPool2d((2, 2), (2, 2)), \n",
    "\n",
    "            nn.Conv2d(in_channels=THIRD_FE_COUNT, \n",
    "                      out_channels=QAD_FE_COUNT, \n",
    "                      kernel_size=KERTNEL_SIZE , stride=1, padding=PADDING),\n",
    "            nn.BatchNorm2d(QAD_FE_COUNT),\n",
    "            # SEBlock(QAD_FE_COUNT),\n",
    "            nn.GELU(),\n",
    "            nn.MaxPool2d(kernel_size=2, stride=2) # [batch=32, QAD_FE_COUNT = 32, 32, 89]\n",
    "        )\n",
    "        with torch.no_grad(): \n",
    "            dummy_input = torch.randn(1, 1, N_MELS, 356); \n",
    "            cnn_out = self.net_conv(dummy_input); \n",
    "            self.cnn_output_features = cnn_out.shape[1] * cnn_out.shape[2]\n",
    "\n",
    "        print(f\"CNN размерность выхода: {cnn_out.shape}\"); \n",
    "        print(f\"CNN число фичей: {self.cnn_output_features}\")\n",
    "\n",
    "        # Добавлен лоейный слой и функция активации. Для чего? расписать потом \n",
    "        self.layer1 = nn.Linear(self.cnn_output_features, N_MELS*2, bias=False); \n",
    "        self.gelu = nn.GELU()\n",
    "        self.rnn = nn.LSTM(\n",
    "                input_size=N_MELS*2,\n",
    "                hidden_size=GRU_HIDEN,\n",
    "                num_layers=2,\n",
    "                bidirectional=True,\n",
    "                dropout=0.3,\n",
    "                batch_first=True \n",
    "            )\n",
    "\n",
    "        \n",
    "        self.embed_dim = GRU_HIDEN * 2\n",
    "        self.layer_norm = nn.LayerNorm(self.embed_dim)      \n",
    "        self.dropout = nn.Dropout(0.5)   \n",
    "        self.layer2 = nn.Linear(self.embed_dim, num_classes)      \n",
    "\n",
    "    def name(self):\n",
    "        return 'MorseNet2'\n",
    "\n",
    "    def forward(self, x):\n",
    "        x = self.net_conv(x)\n",
    "\n",
    "        batch, channels, reduced_mels, reduced_time = x.shape\n",
    "        x = x.permute(0, 3, 1, 2)  # [batch, time, channels, mels]\n",
    "\n",
    "        # В частности, каждый вектор признаков в последовательности признаков генерируется \n",
    "        # слева направо на картах признаков. Это означает, что i-й вектор признаков представляет \n",
    "        # собой объединение столбцов всех карт. \n",
    "        # Таким образом, форма тензора может быть изменена, например, на (размер_пакета, 80, 256)\n",
    "        \n",
    "        x = x.reshape(batch, reduced_time, -1)  # to GRU [batch=32, seq_len=89, features/hiden_dim=512]\n",
    "        x = self.layer1(x)\n",
    "        x = self.gelu(x)\n",
    "\n",
    "        self.rnn.flatten_parameters()\n",
    "\n",
    "        x = self.rnn(x) # [batch=32, seq_len=89, features/hiden_dim=256 * 2]\n",
    "        x, _ = x # берем информацию со всез состояний\n",
    "        x = self.layer_norm(x)\n",
    "        x = self.dropout(x)\n",
    "        x = self.layer2(x) # logits - [batch, sequence, num_classes] \n",
    "        x = nn.functional.log_softmax(x.permute(1,0,2), dim=2) # pertime так как CTC loss требует на взод (sequence/T,batch/N,num_classes/C)\n",
    "        '''\n",
    "        по одному прогнозу для каждого из признаков в последовательности, \n",
    "        в итоге получается 89 прогнозов символов для каждой секунды звука.\n",
    "        # '''\n",
    "        return x\n",
    "\n",
    "class MorseNet3(nn.Module):\n",
    "    def __init__(self, num_classes):\n",
    "        super().__init__()\n",
    "        self.net_conv = nn.Sequential(\n",
    "            nn.Conv2d(in_channels=1, \n",
    "                      out_channels=FIRST_FE_COUNT, \n",
    "                      kernel_size=KERTNEL_SIZE , stride=1, padding=PADDING),\n",
    "            nn.BatchNorm2d(FIRST_FE_COUNT),\n",
    "            nn.GELU(),\n",
    "            nn.MaxPool2d((1,2)), # [batch, FIRST_FE_COUNT = 16, 64, 960]\n",
    "\n",
    "            nn.Conv2d(in_channels=FIRST_FE_COUNT, \n",
    "                      out_channels=SECOND_FE_COUNT, \n",
    "                      kernel_size=KERTNEL_SIZE , stride=1, padding=PADDING),\n",
    "            nn.BatchNorm2d(SECOND_FE_COUNT),\n",
    "            nn.GELU(),\n",
    "            nn.MaxPool2d((2,1)), # [batch, SECOND_FE_COUNT = 32, 32, 480]\n",
    "\n",
    "            nn.Conv2d(in_channels=SECOND_FE_COUNT, \n",
    "                      out_channels=THIRD_FE_COUNT, \n",
    "                      kernel_size=KERTNEL_SIZE , stride=1, padding=PADDING),\n",
    "            nn.BatchNorm2d(THIRD_FE_COUNT),\n",
    "            nn.GELU(),\n",
    "            nn.MaxPool2d((2,2)), # [batch, THIRD_FE_COUNT = 32, 16, 240]\n",
    "\n",
    "            nn.Conv2d(in_channels=THIRD_FE_COUNT, \n",
    "                      out_channels=QAD_FE_COUNT, \n",
    "                      kernel_size=KERTNEL_SIZE , stride=1, padding=PADDING),\n",
    "            nn.BatchNorm2d(QAD_FE_COUNT),\n",
    "            nn.GELU(),\n",
    "            nn.MaxPool2d((1,2)) # [batch=32, QAD_FE_COUNT = 32, 8, 80](что юы сохраниить большще признаков по горизонтали)\n",
    "        )\n",
    "\n",
    "        with torch.no_grad(): \n",
    "            dummy_input = torch.randn(1, 1, N_MELS, 356)\n",
    "            cnn_out = self.net_conv(dummy_input)\n",
    "            self.cnn_output_features = cnn_out.shape[1] * cnn_out.shape[2]\n",
    "        \n",
    "        self.cnn_ln = nn.LayerNorm(self.cnn_output_features)  # NEW\n",
    "        \n",
    "        self.layer1 = nn.Linear(self.cnn_output_features, N_MELS*2)\n",
    "        self.gelu = nn.GELU()\n",
    "        self.ln1 = nn.LayerNorm(N_MELS*2)\n",
    "        \n",
    "        self.rnn = nn.LSTM(\n",
    "            input_size=N_MELS*2,\n",
    "            hidden_size=GRU_HIDEN,\n",
    "            num_layers=2,\n",
    "            bidirectional=True,\n",
    "            dropout=0.3,\n",
    "            batch_first=True\n",
    "        )\n",
    "        \n",
    "        self.rnn_ln = nn.LayerNorm(GRU_HIDEN*2)\n",
    "        self.dropout = nn.Dropout(0.3)\n",
    "        self.layer2 = nn.Linear(GRU_HIDEN*2, num_classes)\n",
    "\n",
    "    def name(self):\n",
    "        return 'MorseNet3'\n",
    "    \n",
    "    def forward(self, x):\n",
    "        x = self.net_conv(x)\n",
    "        batch, channels, reduced_mels, reduced_time = x.shape\n",
    "        x = x.permute(0, 3, 1, 2)\n",
    "        x = x.reshape(batch, reduced_time, -1)\n",
    "        \n",
    "        x = self.cnn_ln(x)\n",
    "        \n",
    "        x = self.layer1(x)\n",
    "        x = self.gelu(x)\n",
    "        x = self.ln1(x)\n",
    "        \n",
    "        self.rnn.flatten_parameters()\n",
    "        x, _ = self.rnn(x)\n",
    "        x = self.rnn_ln(x)\n",
    "        \n",
    "        x = self.dropout(x)\n",
    "        x = self.layer2(x)\n",
    "        x = nn.functional.log_softmax(x.permute(1,0,2), dim=2)\n",
    "        return x\n",
    "    \n",
    "  \n",
    "train_audio_transforms = nn.Sequential(\n",
    "    transforms.MelSpectrogram(sample_rate=SAMPLE_RATE, n_fft=N_FFT, hop_length=HOP_LENGTH, n_mels=N_MELS),\n",
    "    transforms.AmplitudeToDB(top_db=TOP_DB),\n",
    "    transforms.FrequencyMasking(freq_mask_param=FREQ_MASK),\n",
    "    transforms.TimeMasking(time_mask_param=TIME_MASK),\n",
    "    # v2.RandomCrop((N_MELS, 1920)) # Обрезает последний кадр спектрограммы, в идеале надобы считать а не прописывать число\n",
    "    ) # заметка - Данные трансформации не создают довых обучаемых параметров. Но есть и те что создают. В будущем это стоит учитывать\n",
    "\n",
    "valid_audio_transforms = nn.Sequential(\n",
    "    transforms.MelSpectrogram(sample_rate=SAMPLE_RATE, n_fft=N_FFT, hop_length=HOP_LENGTH, n_mels=N_MELS),\n",
    "    transforms.AmplitudeToDB(top_db=TOP_DB),\n",
    "    # v2.CenterCrop((N_MELS, 1920)) \n",
    "    )\n",
    "\n",
    "train_dataframe, val_dataframe = train_test_split(train_data, test_size=0.15, random_state=SEED)\n",
    "\n",
    "train_ds = MosreDataset(df=train_dataframe,\n",
    "                        data_patch=DATASET_PATCH,\n",
    "                        char_to_int=char_to_int,\n",
    "                        train=True,\n",
    "                        transforms=train_audio_transforms)\n",
    "\n",
    "val_ds = MosreDataset(df=val_dataframe,\n",
    "                        data_patch=DATASET_PATCH,\n",
    "                        char_to_int=char_to_int,\n",
    "                        train=True,\n",
    "                        transforms=valid_audio_transforms)\n",
    "\n",
    "\n",
    "def my_collate(batch):\n",
    "    spectrograms = [item[0].squeeze(0) for item in batch]\n",
    "    # Падинг спектрограмм по максимальной длине\n",
    "    spectrograms_permuted = [s.permute(1, 0) for s in spectrograms]\n",
    "    spectrograms_padded = nn.utils.rnn.pad_sequence(spectrograms_permuted, batch_first=True, padding_value=0.0)\n",
    "    spectrograms_padded = spectrograms_padded.permute(0, 2, 1).unsqueeze(1)\n",
    "\n",
    "    if batch[0][3] is not None:\n",
    "        target = torch.nn.utils.rnn.pad_sequence(\n",
    "                                                [item[1] for item in batch], \n",
    "                                                batch_first=True, \n",
    "                                                padding_value=BLANK_IDX)# выравнивает последовательность до макс \n",
    "                                                                        # длины в батче заполняя пропуски нулем\n",
    "        label_len = torch.stack([item[2] for item in batch])\n",
    "        msg = [item[3] for item in batch]\n",
    "        \n",
    "        return [spectrograms_padded, target, label_len, msg]\n",
    "    else: \n",
    "        return spectrograms_padded\n",
    "\n",
    "train_dl = torch.utils.data.DataLoader(train_ds, batch_size=BATCH_SIZE, shuffle=True, collate_fn=my_collate, drop_last=True)\n",
    "val_dl = torch.utils.data.DataLoader(val_ds, batch_size=BATCH_SIZE, shuffle=True, collate_fn=my_collate, drop_last=True)\n",
    "\n",
    "test, test_target, _, mess = next(iter(train_dl))\n",
    "test, test_target= test.to(DIVICE), test_target.to(DIVICE)\n",
    "\n",
    "test_val, val_target, __, val_mess = next(iter(val_dl))\n",
    "test_val, val_target = test_val.to(DIVICE), val_target.to(DIVICE)\n",
    "# test.shape \n",
    "\n",
    "#===== начало обучения =====\n",
    "models = [\n",
    "    MorseNet(num_classes=num_classes).to(DIVICE),\n",
    "    MorseNet2(num_classes=num_classes).to(DIVICE),\n",
    "    MorseNet3(num_classes=num_classes).to(DIVICE)\n",
    "]\n",
    "\n",
    "optimizers = [\n",
    "    optim.Adam(params=models[0].parameters(), lr=0.0002, weight_decay=WEIGHT_DECAY),\n",
    "    optim.Adam(params=models[1].parameters(), lr=0.0002, weight_decay=WEIGHT_DECAY),\n",
    "    optim.AdamW(params=models[2].parameters(), lr=0.0002, weight_decay=WEIGHT_DECAY),\n",
    "]\n",
    "\n",
    "schedulers = [\n",
    "    optim.lr_scheduler.ReduceLROnPlateau(optimizer, mode='min', factor=0.5, patience=3)\n",
    "    for optimizer in optimizers\n",
    "]\n",
    "\n",
    "# model = MorseNet(num_classes=num_classes).to(DIVICE)\n",
    "# # model = DataParallel(model)\n",
    "# optimizer = optim.Adam(params=model.parameters(), lr=0.002)  # Было 0.002\n",
    "# scheduler = optim.lr_scheduler.ReduceLROnPlateau(optimizer, mode='min', factor=0.5, patience=3)\n",
    "loss_func = nn.CTCLoss(blank=BLANK_IDX, reduction='mean', zero_infinity=True).to(DIVICE)\n",
    "\n",
    "total_params = sum(p.numel() for m in models for p in m.parameters() if p.requires_grad)\n",
    "print(f\"\\nMorseNet - инициалицация модели. Число обучаемых параметров: {total_params:,}\")"
   ]
  },
  {
   "cell_type": "code",
   "execution_count": 7,
   "id": "e2502814",
   "metadata": {},
   "outputs": [
    {
     "name": "stdout",
     "output_type": "stream",
     "text": [
      "MorseNet1\n",
      "MorseNet2\n",
      "MorseNet3\n"
     ]
    }
   ],
   "source": [
    "for model, optimizer, scheduler in zip(model, optimizers, schedulers):\n",
    "    print(model.name())"
   ]
  },
  {
   "cell_type": "code",
   "execution_count": 26,
   "id": "08e52f21",
   "metadata": {},
   "outputs": [],
   "source": [
    "# BLANK_CHAR = \"_\"\n",
    "# vocab_list = sorted(all_chars.keys()) + [BLANK_CHAR]\n",
    "# num_classes = len(vocab_list)\n",
    "# char_to_int = {char: i for i, char in enumerate(vocab_list)}\n",
    "# int_to_char = {i: char for i, char in enumerate(vocab_list)}\n",
    "# BLANK_IDX = char_to_int[BLANK_CHAR]\n",
    "# vocab_list"
   ]
  },
  {
   "cell_type": "code",
   "execution_count": 3,
   "id": "be51c697",
   "metadata": {},
   "outputs": [],
   "source": [
    "# a= model(test)\n",
    "# a.shape, a"
   ]
  },
  {
   "cell_type": "code",
   "execution_count": 54,
   "id": "297d2357",
   "metadata": {},
   "outputs": [
    {
     "data": {
      "text/plain": [
       "tensor([ 8, 12,  7, 11,  9, 10,  8, 11,  8,  9,  8,  8, 11, 10,  9, 11, 11,  9,\n",
       "         7,  8,  8,  9, 11,  8,  9,  9,  9,  8, 10,  8,  6, 11])"
      ]
     },
     "execution_count": 54,
     "metadata": {},
     "output_type": "execute_result"
    }
   ],
   "source": [
    "_.reshape(BATCH_SIZE)"
   ]
  },
  {
   "cell_type": "markdown",
   "id": "fa77922d",
   "metadata": {},
   "source": [
    "Подсказка по ctc loss"
   ]
  },
  {
   "cell_type": "code",
   "execution_count": 5,
   "id": "222c0bfd",
   "metadata": {},
   "outputs": [
    {
     "name": "stderr",
     "output_type": "stream",
     "text": [
      "C:\\Users\\homer\\AppData\\Local\\Temp\\ipykernel_20744\\2733710114.py:15: UserWarning: The .grad attribute of a Tensor that is not a leaf Tensor is being accessed. Its .grad attribute won't be populated during autograd.backward(). If you indeed want the .grad field to be populated for a non-leaf Tensor, use .retain_grad() on the non-leaf Tensor. If you access the non-leaf Tensor by mistake, make sure you access the leaf Tensor instead. See github.com/pytorch/pytorch/pull/30531 for more informations. (Triggered internally at C:\\actions-runner\\_work\\pytorch\\pytorch\\pytorch\\build\\aten\\src\\ATen/core/TensorBody.h:494.)\n",
      "  loss.grad\n"
     ]
    }
   ],
   "source": [
    "# Target are to be un-padded\n",
    "T = 50      # Input sequence length\n",
    "C = 20      # Number of classes (including blank)\n",
    "N = 16      # Batch size\n",
    "# Initialize random batch of input vectors, for *size = (T,N,C)\n",
    "input = torch.randn(T, N, C).log_softmax(2).detach().requires_grad_()\n",
    "input_lengths = torch.full(size=(N,), fill_value=T, dtype=torch.long)\n",
    "# Initialize random batch of targets (0 = blank, 1:C = classes)\n",
    "target_lengths = torch.randint(low=1, high=T, size=(N,), dtype=torch.long)\n",
    "target = torch.randint(low=1, high=C, size=(sum(target_lengths),), dtype=torch.long)\n",
    "ctc_loss = nn.CTCLoss()\n",
    "loss = ctc_loss(input, target, input_lengths, target_lengths)\n",
    "loss.backward()\n",
    "# input.detach().numpy().shape\n",
    "loss.grad"
   ]
  },
  {
   "cell_type": "code",
   "execution_count": 9,
   "id": "89dc4bd0",
   "metadata": {},
   "outputs": [
    {
     "data": {
      "text/plain": [
       "(torch.Size([50, 16, 20]), torch.Size([334]))"
      ]
     },
     "execution_count": 9,
     "metadata": {},
     "output_type": "execute_result"
    }
   ],
   "source": [
    "input.shape, target.shape"
   ]
  },
  {
   "cell_type": "markdown",
   "id": "7fa7f726",
   "metadata": {},
   "source": [
    "# Обучение модели"
   ]
  },
  {
   "cell_type": "code",
   "execution_count": 2,
   "id": "422ea6ef",
   "metadata": {},
   "outputs": [
    {
     "name": "stderr",
     "output_type": "stream",
     "text": [
      "                                                                                   \r"
     ]
    },
    {
     "name": "stdout",
     "output_type": "stream",
     "text": [
      "\n",
      "===== MorseNet1-Эпоха 1/50  =====\n",
      "MorseNet1-Mean grad norm: 0.079942\n",
      "MorseNet1-Max grad norm: 0.634814\n",
      "MorseNet1-Min grad norm: 0.000000\n",
      "MorseNet1-Current LR: 0.000200\n",
      "---- MorseNet1-Train Loss: 3.3026\n",
      "---- MorseNet1-Val Loss: 0.9308\n",
      "--------------------------------------------------\n"
     ]
    },
    {
     "name": "stderr",
     "output_type": "stream",
     "text": [
      "                                                                                   \r"
     ]
    },
    {
     "name": "stdout",
     "output_type": "stream",
     "text": [
      "\n",
      "===== MorseNet2-Эпоха 1/50  =====\n",
      "MorseNet2-Mean grad norm: 0.071480\n",
      "MorseNet2-Max grad norm: 0.588758\n",
      "MorseNet2-Min grad norm: 0.000000\n",
      "MorseNet2-Current LR: 0.000200\n",
      "---- MorseNet2-Train Loss: 3.5699\n",
      "---- MorseNet2-Val Loss: 1.1367\n",
      "--------------------------------------------------\n"
     ]
    },
    {
     "name": "stderr",
     "output_type": "stream",
     "text": [
      "                                                                                   \r"
     ]
    },
    {
     "name": "stdout",
     "output_type": "stream",
     "text": [
      "\n",
      "===== MorseNet3-Эпоха 1/50  =====\n",
      "MorseNet3-Mean grad norm: 0.078951\n",
      "MorseNet3-Max grad norm: 0.535720\n",
      "MorseNet3-Min grad norm: 0.000000\n",
      "MorseNet3-Current LR: 0.000200\n",
      "---- MorseNet3-Train Loss: 2.7226\n",
      "---- MorseNet3-Val Loss: 0.8702\n",
      "--------------------------------------------------\n"
     ]
    },
    {
     "name": "stderr",
     "output_type": "stream",
     "text": [
      "                                                                                   \r"
     ]
    },
    {
     "name": "stdout",
     "output_type": "stream",
     "text": [
      "\n",
      "===== MorseNet1-Эпоха 2/50  =====\n",
      "MorseNet1-Mean grad norm: 0.071358\n",
      "MorseNet1-Max grad norm: 0.600421\n",
      "MorseNet1-Min grad norm: 0.000000\n",
      "MorseNet1-Current LR: 0.000200\n",
      "---- MorseNet1-Train Loss: 0.8781\n",
      "---- MorseNet1-Val Loss: 0.6600\n",
      "--------------------------------------------------\n"
     ]
    },
    {
     "name": "stderr",
     "output_type": "stream",
     "text": [
      "                                                                                   \r"
     ]
    },
    {
     "name": "stdout",
     "output_type": "stream",
     "text": [
      "\n",
      "===== MorseNet2-Эпоха 2/50  =====\n",
      "MorseNet2-Mean grad norm: 0.060102\n",
      "MorseNet2-Max grad norm: 0.653088\n",
      "MorseNet2-Min grad norm: 0.000000\n",
      "MorseNet2-Current LR: 0.000200\n",
      "---- MorseNet2-Train Loss: 1.0002\n",
      "---- MorseNet2-Val Loss: 0.5530\n",
      "--------------------------------------------------\n"
     ]
    },
    {
     "name": "stderr",
     "output_type": "stream",
     "text": [
      "                                                                                   \r"
     ]
    },
    {
     "name": "stdout",
     "output_type": "stream",
     "text": [
      "\n",
      "===== MorseNet3-Эпоха 2/50  =====\n",
      "MorseNet3-Mean grad norm: 0.071266\n",
      "MorseNet3-Max grad norm: 0.663711\n",
      "MorseNet3-Min grad norm: 0.000000\n",
      "MorseNet3-Current LR: 0.000200\n",
      "---- MorseNet3-Train Loss: 0.9632\n",
      "---- MorseNet3-Val Loss: 0.5846\n",
      "--------------------------------------------------\n"
     ]
    },
    {
     "name": "stderr",
     "output_type": "stream",
     "text": [
      "                                                                                   \r"
     ]
    },
    {
     "name": "stdout",
     "output_type": "stream",
     "text": [
      "\n",
      "===== MorseNet1-Эпоха 3/50  =====\n",
      "MorseNet1-Mean grad norm: 0.076056\n",
      "MorseNet1-Max grad norm: 0.581200\n",
      "MorseNet1-Min grad norm: 0.000000\n",
      "MorseNet1-Current LR: 0.000200\n",
      "---- MorseNet1-Train Loss: 0.6158\n",
      "---- MorseNet1-Val Loss: 0.3554\n",
      "--------------------------------------------------\n"
     ]
    },
    {
     "name": "stderr",
     "output_type": "stream",
     "text": [
      "                                                                                   \r"
     ]
    },
    {
     "name": "stdout",
     "output_type": "stream",
     "text": [
      "\n",
      "===== MorseNet2-Эпоха 3/50  =====\n",
      "MorseNet2-Mean grad norm: 0.062949\n",
      "MorseNet2-Max grad norm: 0.590566\n",
      "MorseNet2-Min grad norm: 0.000000\n",
      "MorseNet2-Current LR: 0.000200\n",
      "---- MorseNet2-Train Loss: 0.6731\n",
      "---- MorseNet2-Val Loss: 0.3663\n",
      "--------------------------------------------------\n"
     ]
    },
    {
     "name": "stderr",
     "output_type": "stream",
     "text": [
      "                                                                                   \r"
     ]
    },
    {
     "name": "stdout",
     "output_type": "stream",
     "text": [
      "\n",
      "===== MorseNet3-Эпоха 3/50  =====\n",
      "MorseNet3-Mean grad norm: 0.071118\n",
      "MorseNet3-Max grad norm: 0.660433\n",
      "MorseNet3-Min grad norm: 0.000000\n",
      "MorseNet3-Current LR: 0.000200\n",
      "---- MorseNet3-Train Loss: 0.7228\n",
      "---- MorseNet3-Val Loss: 0.4769\n",
      "--------------------------------------------------\n"
     ]
    },
    {
     "name": "stderr",
     "output_type": "stream",
     "text": [
      "                                                                                   \r"
     ]
    },
    {
     "name": "stdout",
     "output_type": "stream",
     "text": [
      "\n",
      "===== MorseNet1-Эпоха 4/50  =====\n",
      "MorseNet1-Mean grad norm: 0.078827\n",
      "MorseNet1-Max grad norm: 0.580675\n",
      "MorseNet1-Min grad norm: 0.000000\n",
      "MorseNet1-Current LR: 0.000200\n",
      "---- MorseNet1-Train Loss: 0.5051\n",
      "---- MorseNet1-Val Loss: 0.3105\n",
      "--------------------------------------------------\n"
     ]
    },
    {
     "name": "stderr",
     "output_type": "stream",
     "text": [
      "                                                                                   \r"
     ]
    },
    {
     "name": "stdout",
     "output_type": "stream",
     "text": [
      "\n",
      "===== MorseNet2-Эпоха 4/50  =====\n",
      "MorseNet2-Mean grad norm: 0.065533\n",
      "MorseNet2-Max grad norm: 0.545776\n",
      "MorseNet2-Min grad norm: 0.000000\n",
      "MorseNet2-Current LR: 0.000200\n",
      "---- MorseNet2-Train Loss: 0.5590\n",
      "---- MorseNet2-Val Loss: 0.2928\n",
      "--------------------------------------------------\n"
     ]
    },
    {
     "name": "stderr",
     "output_type": "stream",
     "text": [
      "                                                                                   \r"
     ]
    },
    {
     "name": "stdout",
     "output_type": "stream",
     "text": [
      "\n",
      "===== MorseNet3-Эпоха 4/50  =====\n",
      "MorseNet3-Mean grad norm: 0.070424\n",
      "MorseNet3-Max grad norm: 0.602802\n",
      "MorseNet3-Min grad norm: 0.000000\n",
      "MorseNet3-Current LR: 0.000200\n",
      "---- MorseNet3-Train Loss: 0.5951\n",
      "---- MorseNet3-Val Loss: 0.3922\n",
      "--------------------------------------------------\n"
     ]
    },
    {
     "name": "stderr",
     "output_type": "stream",
     "text": [
      "                                                                                   \r"
     ]
    },
    {
     "name": "stdout",
     "output_type": "stream",
     "text": [
      "\n",
      "===== MorseNet1-Эпоха 5/50  =====\n",
      "MorseNet1-Mean grad norm: 0.080159\n",
      "MorseNet1-Max grad norm: 0.570423\n",
      "MorseNet1-Min grad norm: 0.000000\n",
      "MorseNet1-Current LR: 0.000200\n",
      "---- MorseNet1-Train Loss: 0.4408\n",
      "---- MorseNet1-Val Loss: 0.2405\n",
      "--------------------------------------------------\n"
     ]
    },
    {
     "name": "stderr",
     "output_type": "stream",
     "text": [
      "                                                                                   \r"
     ]
    },
    {
     "name": "stdout",
     "output_type": "stream",
     "text": [
      "\n",
      "===== MorseNet2-Эпоха 5/50  =====\n",
      "MorseNet2-Mean grad norm: 0.063471\n",
      "MorseNet2-Max grad norm: 0.590019\n",
      "MorseNet2-Min grad norm: 0.000000\n",
      "MorseNet2-Current LR: 0.000200\n",
      "---- MorseNet2-Train Loss: 0.4796\n",
      "---- MorseNet2-Val Loss: 0.2378\n",
      "--------------------------------------------------\n"
     ]
    },
    {
     "name": "stderr",
     "output_type": "stream",
     "text": [
      "                                                                                   \r"
     ]
    },
    {
     "name": "stdout",
     "output_type": "stream",
     "text": [
      "\n",
      "===== MorseNet3-Эпоха 5/50  =====\n",
      "MorseNet3-Mean grad norm: 0.074173\n",
      "MorseNet3-Max grad norm: 0.580537\n",
      "MorseNet3-Min grad norm: 0.000000\n",
      "MorseNet3-Current LR: 0.000200\n",
      "---- MorseNet3-Train Loss: 0.5122\n",
      "---- MorseNet3-Val Loss: 0.3121\n",
      "--------------------------------------------------\n"
     ]
    },
    {
     "name": "stderr",
     "output_type": "stream",
     "text": [
      "                                                                                   \r"
     ]
    },
    {
     "name": "stdout",
     "output_type": "stream",
     "text": [
      "\n",
      "===== MorseNet1-Эпоха 6/50  =====\n",
      "MorseNet1-Mean grad norm: 0.078580\n",
      "MorseNet1-Max grad norm: 0.560039\n",
      "MorseNet1-Min grad norm: 0.000000\n",
      "MorseNet1-Current LR: 0.000200\n",
      "---- MorseNet1-Train Loss: 0.4019\n",
      "---- MorseNet1-Val Loss: 0.2155\n",
      "--------------------------------------------------\n"
     ]
    },
    {
     "name": "stderr",
     "output_type": "stream",
     "text": [
      "                                                                                   \r"
     ]
    },
    {
     "name": "stdout",
     "output_type": "stream",
     "text": [
      "\n",
      "===== MorseNet2-Эпоха 6/50  =====\n",
      "MorseNet2-Mean grad norm: 0.069352\n",
      "MorseNet2-Max grad norm: 0.559042\n",
      "MorseNet2-Min grad norm: 0.000000\n",
      "MorseNet2-Current LR: 0.000200\n",
      "---- MorseNet2-Train Loss: 0.4390\n",
      "---- MorseNet2-Val Loss: 0.2208\n",
      "--------------------------------------------------\n"
     ]
    },
    {
     "name": "stderr",
     "output_type": "stream",
     "text": [
      "                                                                                   \r"
     ]
    },
    {
     "name": "stdout",
     "output_type": "stream",
     "text": [
      "\n",
      "===== MorseNet3-Эпоха 6/50  =====\n",
      "MorseNet3-Mean grad norm: 0.074625\n",
      "MorseNet3-Max grad norm: 0.518538\n",
      "MorseNet3-Min grad norm: 0.000000\n",
      "MorseNet3-Current LR: 0.000200\n",
      "---- MorseNet3-Train Loss: 0.4567\n",
      "---- MorseNet3-Val Loss: 0.2625\n",
      "--------------------------------------------------\n"
     ]
    },
    {
     "name": "stderr",
     "output_type": "stream",
     "text": [
      "                                                                                   \r"
     ]
    },
    {
     "name": "stdout",
     "output_type": "stream",
     "text": [
      "\n",
      "===== MorseNet1-Эпоха 7/50  =====\n",
      "MorseNet1-Mean grad norm: 0.079775\n",
      "MorseNet1-Max grad norm: 0.568206\n",
      "MorseNet1-Min grad norm: 0.000000\n",
      "MorseNet1-Current LR: 0.000200\n",
      "---- MorseNet1-Train Loss: 0.3710\n",
      "---- MorseNet1-Val Loss: 0.1973\n",
      "--------------------------------------------------\n"
     ]
    },
    {
     "name": "stderr",
     "output_type": "stream",
     "text": [
      "                                                                                   \r"
     ]
    },
    {
     "name": "stdout",
     "output_type": "stream",
     "text": [
      "\n",
      "===== MorseNet2-Эпоха 7/50  =====\n",
      "MorseNet2-Mean grad norm: 0.064889\n",
      "MorseNet2-Max grad norm: 0.533643\n",
      "MorseNet2-Min grad norm: 0.000000\n",
      "MorseNet2-Current LR: 0.000200\n",
      "---- MorseNet2-Train Loss: 0.4035\n",
      "---- MorseNet2-Val Loss: 0.2127\n",
      "--------------------------------------------------\n"
     ]
    },
    {
     "name": "stderr",
     "output_type": "stream",
     "text": [
      "                                                                                   \r"
     ]
    },
    {
     "name": "stdout",
     "output_type": "stream",
     "text": [
      "\n",
      "===== MorseNet3-Эпоха 7/50  =====\n",
      "MorseNet3-Mean grad norm: 0.075149\n",
      "MorseNet3-Max grad norm: 0.548846\n",
      "MorseNet3-Min grad norm: 0.000000\n",
      "MorseNet3-Current LR: 0.000200\n",
      "---- MorseNet3-Train Loss: 0.4146\n",
      "---- MorseNet3-Val Loss: 0.2425\n",
      "--------------------------------------------------\n"
     ]
    },
    {
     "name": "stderr",
     "output_type": "stream",
     "text": [
      "                                                                                   \r"
     ]
    },
    {
     "name": "stdout",
     "output_type": "stream",
     "text": [
      "\n",
      "===== MorseNet1-Эпоха 8/50  =====\n",
      "MorseNet1-Mean grad norm: 0.082021\n",
      "MorseNet1-Max grad norm: 0.634982\n",
      "MorseNet1-Min grad norm: 0.000000\n",
      "MorseNet1-Current LR: 0.000200\n",
      "---- MorseNet1-Train Loss: 0.3488\n",
      "---- MorseNet1-Val Loss: 0.1988\n",
      "--------------------------------------------------\n"
     ]
    },
    {
     "name": "stderr",
     "output_type": "stream",
     "text": [
      "                                                                                   \r"
     ]
    },
    {
     "name": "stdout",
     "output_type": "stream",
     "text": [
      "\n",
      "===== MorseNet2-Эпоха 8/50  =====\n",
      "MorseNet2-Mean grad norm: 0.068864\n",
      "MorseNet2-Max grad norm: 0.527978\n",
      "MorseNet2-Min grad norm: 0.000000\n",
      "MorseNet2-Current LR: 0.000200\n",
      "---- MorseNet2-Train Loss: 0.3768\n",
      "---- MorseNet2-Val Loss: 0.1918\n",
      "--------------------------------------------------\n"
     ]
    },
    {
     "name": "stderr",
     "output_type": "stream",
     "text": [
      "                                                                                   \r"
     ]
    },
    {
     "name": "stdout",
     "output_type": "stream",
     "text": [
      "\n",
      "===== MorseNet3-Эпоха 8/50  =====\n",
      "MorseNet3-Mean grad norm: 0.074468\n",
      "MorseNet3-Max grad norm: 0.542440\n",
      "MorseNet3-Min grad norm: 0.000000\n",
      "MorseNet3-Current LR: 0.000200\n",
      "---- MorseNet3-Train Loss: 0.3799\n",
      "---- MorseNet3-Val Loss: 0.2344\n",
      "--------------------------------------------------\n"
     ]
    },
    {
     "name": "stderr",
     "output_type": "stream",
     "text": [
      "                                                                                   \r"
     ]
    },
    {
     "name": "stdout",
     "output_type": "stream",
     "text": [
      "\n",
      "===== MorseNet1-Эпоха 9/50  =====\n",
      "MorseNet1-Mean grad norm: 0.083418\n",
      "MorseNet1-Max grad norm: 0.599647\n",
      "MorseNet1-Min grad norm: 0.000000\n",
      "MorseNet1-Current LR: 0.000200\n",
      "---- MorseNet1-Train Loss: 0.3287\n",
      "---- MorseNet1-Val Loss: 0.1819\n",
      "--------------------------------------------------\n"
     ]
    },
    {
     "name": "stderr",
     "output_type": "stream",
     "text": [
      "                                                                                   \r"
     ]
    },
    {
     "name": "stdout",
     "output_type": "stream",
     "text": [
      "\n",
      "===== MorseNet2-Эпоха 9/50  =====\n",
      "MorseNet2-Mean grad norm: 0.070420\n",
      "MorseNet2-Max grad norm: 0.517608\n",
      "MorseNet2-Min grad norm: 0.000000\n",
      "MorseNet2-Current LR: 0.000200\n",
      "---- MorseNet2-Train Loss: 0.3565\n",
      "---- MorseNet2-Val Loss: 0.1903\n",
      "--------------------------------------------------\n"
     ]
    },
    {
     "name": "stderr",
     "output_type": "stream",
     "text": [
      "                                                                                   \r"
     ]
    },
    {
     "name": "stdout",
     "output_type": "stream",
     "text": [
      "\n",
      "===== MorseNet3-Эпоха 9/50  =====\n",
      "MorseNet3-Mean grad norm: 0.076509\n",
      "MorseNet3-Max grad norm: 0.523572\n",
      "MorseNet3-Min grad norm: 0.000000\n",
      "MorseNet3-Current LR: 0.000200\n",
      "---- MorseNet3-Train Loss: 0.3539\n",
      "---- MorseNet3-Val Loss: 0.2234\n",
      "--------------------------------------------------\n"
     ]
    },
    {
     "name": "stderr",
     "output_type": "stream",
     "text": [
      "                                                                                    \r"
     ]
    },
    {
     "name": "stdout",
     "output_type": "stream",
     "text": [
      "\n",
      "===== MorseNet1-Эпоха 10/50  =====\n",
      "MorseNet1-Mean grad norm: 0.081074\n",
      "MorseNet1-Max grad norm: 0.587059\n",
      "MorseNet1-Min grad norm: 0.000000\n",
      "MorseNet1-Current LR: 0.000200\n",
      "---- MorseNet1-Train Loss: 0.3140\n",
      "---- MorseNet1-Val Loss: 0.1752\n",
      "--------------------------------------------------\n"
     ]
    },
    {
     "name": "stderr",
     "output_type": "stream",
     "text": [
      "                                                                                    \r"
     ]
    },
    {
     "name": "stdout",
     "output_type": "stream",
     "text": [
      "\n",
      "===== MorseNet2-Эпоха 10/50  =====\n",
      "MorseNet2-Mean grad norm: 0.066072\n",
      "MorseNet2-Max grad norm: 0.555758\n",
      "MorseNet2-Min grad norm: 0.000000\n",
      "MorseNet2-Current LR: 0.000200\n",
      "---- MorseNet2-Train Loss: 0.3405\n",
      "---- MorseNet2-Val Loss: 0.1866\n",
      "--------------------------------------------------\n"
     ]
    },
    {
     "name": "stderr",
     "output_type": "stream",
     "text": [
      "                                                                                    \r"
     ]
    },
    {
     "name": "stdout",
     "output_type": "stream",
     "text": [
      "\n",
      "===== MorseNet3-Эпоха 10/50  =====\n",
      "MorseNet3-Mean grad norm: 0.076069\n",
      "MorseNet3-Max grad norm: 0.477760\n",
      "MorseNet3-Min grad norm: 0.000000\n",
      "MorseNet3-Current LR: 0.000200\n",
      "---- MorseNet3-Train Loss: 0.3345\n",
      "---- MorseNet3-Val Loss: 0.2207\n",
      "--------------------------------------------------\n"
     ]
    },
    {
     "name": "stderr",
     "output_type": "stream",
     "text": [
      "                                                                                    \r"
     ]
    },
    {
     "name": "stdout",
     "output_type": "stream",
     "text": [
      "\n",
      "===== MorseNet1-Эпоха 11/50  =====\n",
      "MorseNet1-Mean grad norm: 0.090451\n",
      "MorseNet1-Max grad norm: 0.489724\n",
      "MorseNet1-Min grad norm: 0.000000\n",
      "MorseNet1-Current LR: 0.000200\n",
      "---- MorseNet1-Train Loss: 0.3055\n",
      "---- MorseNet1-Val Loss: 0.1828\n",
      "--------------------------------------------------\n"
     ]
    },
    {
     "name": "stderr",
     "output_type": "stream",
     "text": [
      "                                                                                    \r"
     ]
    },
    {
     "name": "stdout",
     "output_type": "stream",
     "text": [
      "\n",
      "===== MorseNet2-Эпоха 11/50  =====\n",
      "MorseNet2-Mean grad norm: 0.065095\n",
      "MorseNet2-Max grad norm: 0.599292\n",
      "MorseNet2-Min grad norm: 0.000000\n",
      "MorseNet2-Current LR: 0.000200\n",
      "---- MorseNet2-Train Loss: 0.3280\n",
      "---- MorseNet2-Val Loss: 0.1824\n",
      "--------------------------------------------------\n"
     ]
    },
    {
     "name": "stderr",
     "output_type": "stream",
     "text": [
      "                                                                                    \r"
     ]
    },
    {
     "name": "stdout",
     "output_type": "stream",
     "text": [
      "\n",
      "===== MorseNet3-Эпоха 11/50  =====\n",
      "MorseNet3-Mean grad norm: 0.076011\n",
      "MorseNet3-Max grad norm: 0.529031\n",
      "MorseNet3-Min grad norm: 0.000000\n",
      "MorseNet3-Current LR: 0.000200\n",
      "---- MorseNet3-Train Loss: 0.3173\n",
      "---- MorseNet3-Val Loss: 0.2164\n",
      "--------------------------------------------------\n"
     ]
    },
    {
     "name": "stderr",
     "output_type": "stream",
     "text": [
      "                                                                                    \r"
     ]
    },
    {
     "name": "stdout",
     "output_type": "stream",
     "text": [
      "\n",
      "===== MorseNet1-Эпоха 12/50  =====\n",
      "MorseNet1-Mean grad norm: 0.085452\n",
      "MorseNet1-Max grad norm: 0.539247\n",
      "MorseNet1-Min grad norm: 0.000000\n",
      "MorseNet1-Current LR: 0.000200\n",
      "---- MorseNet1-Train Loss: 0.2949\n",
      "---- MorseNet1-Val Loss: 0.1804\n",
      "--------------------------------------------------\n"
     ]
    },
    {
     "name": "stderr",
     "output_type": "stream",
     "text": [
      "                                                                                    \r"
     ]
    },
    {
     "name": "stdout",
     "output_type": "stream",
     "text": [
      "\n",
      "===== MorseNet2-Эпоха 12/50  =====\n",
      "MorseNet2-Mean grad norm: 0.067789\n",
      "MorseNet2-Max grad norm: 0.505860\n",
      "MorseNet2-Min grad norm: 0.000000\n",
      "MorseNet2-Current LR: 0.000200\n",
      "---- MorseNet2-Train Loss: 0.3127\n",
      "---- MorseNet2-Val Loss: 0.1800\n",
      "--------------------------------------------------\n"
     ]
    },
    {
     "name": "stderr",
     "output_type": "stream",
     "text": [
      "                                                                                    \r"
     ]
    },
    {
     "name": "stdout",
     "output_type": "stream",
     "text": [
      "\n",
      "===== MorseNet3-Эпоха 12/50  =====\n",
      "MorseNet3-Mean grad norm: 0.077532\n",
      "MorseNet3-Max grad norm: 0.494733\n",
      "MorseNet3-Min grad norm: 0.000000\n",
      "MorseNet3-Current LR: 0.000200\n",
      "---- MorseNet3-Train Loss: 0.2997\n",
      "---- MorseNet3-Val Loss: 0.2177\n",
      "--------------------------------------------------\n"
     ]
    },
    {
     "name": "stderr",
     "output_type": "stream",
     "text": [
      "                                                                                    \r"
     ]
    },
    {
     "name": "stdout",
     "output_type": "stream",
     "text": [
      "\n",
      "===== MorseNet1-Эпоха 13/50  =====\n",
      "MorseNet1-Mean grad norm: 0.085734\n",
      "MorseNet1-Max grad norm: 0.598864\n",
      "MorseNet1-Min grad norm: 0.000000\n",
      "MorseNet1-Current LR: 0.000200\n",
      "---- MorseNet1-Train Loss: 0.2866\n",
      "---- MorseNet1-Val Loss: 0.1590\n",
      "--------------------------------------------------\n"
     ]
    },
    {
     "name": "stderr",
     "output_type": "stream",
     "text": [
      "                                                                                    \r"
     ]
    },
    {
     "name": "stdout",
     "output_type": "stream",
     "text": [
      "\n",
      "===== MorseNet2-Эпоха 13/50  =====\n",
      "MorseNet2-Mean grad norm: 0.072170\n",
      "MorseNet2-Max grad norm: 0.501750\n",
      "MorseNet2-Min grad norm: 0.000000\n",
      "MorseNet2-Current LR: 0.000200\n",
      "---- MorseNet2-Train Loss: 0.3043\n",
      "---- MorseNet2-Val Loss: 0.1648\n",
      "--------------------------------------------------\n"
     ]
    },
    {
     "name": "stderr",
     "output_type": "stream",
     "text": [
      "                                                                                    \r"
     ]
    },
    {
     "name": "stdout",
     "output_type": "stream",
     "text": [
      "\n",
      "===== MorseNet3-Эпоха 13/50  =====\n",
      "MorseNet3-Mean grad norm: 0.075567\n",
      "MorseNet3-Max grad norm: 0.552114\n",
      "MorseNet3-Min grad norm: 0.000000\n",
      "MorseNet3-Current LR: 0.000200\n",
      "---- MorseNet3-Train Loss: 0.2870\n",
      "---- MorseNet3-Val Loss: 0.2158\n",
      "--------------------------------------------------\n"
     ]
    },
    {
     "name": "stderr",
     "output_type": "stream",
     "text": [
      "                                                                                    \r"
     ]
    },
    {
     "name": "stdout",
     "output_type": "stream",
     "text": [
      "\n",
      "===== MorseNet1-Эпоха 14/50  =====\n",
      "MorseNet1-Mean grad norm: 0.083899\n",
      "MorseNet1-Max grad norm: 0.523483\n",
      "MorseNet1-Min grad norm: 0.000000\n",
      "MorseNet1-Current LR: 0.000200\n",
      "---- MorseNet1-Train Loss: 0.2799\n",
      "---- MorseNet1-Val Loss: 0.1605\n",
      "--------------------------------------------------\n"
     ]
    },
    {
     "name": "stderr",
     "output_type": "stream",
     "text": [
      "                                                                                    \r"
     ]
    },
    {
     "name": "stdout",
     "output_type": "stream",
     "text": [
      "\n",
      "===== MorseNet2-Эпоха 14/50  =====\n",
      "MorseNet2-Mean grad norm: 0.067156\n",
      "MorseNet2-Max grad norm: 0.567042\n",
      "MorseNet2-Min grad norm: 0.000000\n",
      "MorseNet2-Current LR: 0.000200\n",
      "---- MorseNet2-Train Loss: 0.2952\n",
      "---- MorseNet2-Val Loss: 0.1698\n",
      "--------------------------------------------------\n"
     ]
    },
    {
     "name": "stderr",
     "output_type": "stream",
     "text": [
      "                                                                                    \r"
     ]
    },
    {
     "name": "stdout",
     "output_type": "stream",
     "text": [
      "\n",
      "===== MorseNet3-Эпоха 14/50  =====\n",
      "MorseNet3-Mean grad norm: 0.075880\n",
      "MorseNet3-Max grad norm: 0.518920\n",
      "MorseNet3-Min grad norm: 0.000000\n",
      "MorseNet3-Current LR: 0.000200\n",
      "---- MorseNet3-Train Loss: 0.2737\n",
      "---- MorseNet3-Val Loss: 0.2107\n",
      "--------------------------------------------------\n"
     ]
    },
    {
     "name": "stderr",
     "output_type": "stream",
     "text": [
      "                                                                                    \r"
     ]
    },
    {
     "name": "stdout",
     "output_type": "stream",
     "text": [
      "\n",
      "===== MorseNet1-Эпоха 15/50  =====\n",
      "MorseNet1-Mean grad norm: 0.087088\n",
      "MorseNet1-Max grad norm: 0.647770\n",
      "MorseNet1-Min grad norm: 0.000000\n",
      "MorseNet1-Current LR: 0.000200\n",
      "---- MorseNet1-Train Loss: 0.2710\n",
      "---- MorseNet1-Val Loss: 0.1618\n",
      "--------------------------------------------------\n"
     ]
    },
    {
     "name": "stderr",
     "output_type": "stream",
     "text": [
      "                                                                                    \r"
     ]
    },
    {
     "name": "stdout",
     "output_type": "stream",
     "text": [
      "\n",
      "===== MorseNet2-Эпоха 15/50  =====\n",
      "MorseNet2-Mean grad norm: 0.066740\n",
      "MorseNet2-Max grad norm: 0.587089\n",
      "MorseNet2-Min grad norm: 0.000000\n",
      "MorseNet2-Current LR: 0.000200\n",
      "---- MorseNet2-Train Loss: 0.2871\n",
      "---- MorseNet2-Val Loss: 0.1612\n",
      "--------------------------------------------------\n"
     ]
    },
    {
     "name": "stderr",
     "output_type": "stream",
     "text": [
      "                                                                                    \r"
     ]
    },
    {
     "name": "stdout",
     "output_type": "stream",
     "text": [
      "\n",
      "===== MorseNet3-Эпоха 15/50  =====\n",
      "MorseNet3-Mean grad norm: 0.076288\n",
      "MorseNet3-Max grad norm: 0.529075\n",
      "MorseNet3-Min grad norm: 0.000000\n",
      "MorseNet3-Current LR: 0.000200\n",
      "---- MorseNet3-Train Loss: 0.2654\n",
      "---- MorseNet3-Val Loss: 0.2110\n",
      "--------------------------------------------------\n"
     ]
    },
    {
     "name": "stderr",
     "output_type": "stream",
     "text": [
      "                                                                                    \r"
     ]
    },
    {
     "name": "stdout",
     "output_type": "stream",
     "text": [
      "\n",
      "===== MorseNet1-Эпоха 16/50  =====\n",
      "MorseNet1-Mean grad norm: 0.087794\n",
      "MorseNet1-Max grad norm: 0.558509\n",
      "MorseNet1-Min grad norm: 0.000000\n",
      "MorseNet1-Current LR: 0.000200\n",
      "---- MorseNet1-Train Loss: 0.2627\n",
      "---- MorseNet1-Val Loss: 0.1578\n",
      "--------------------------------------------------\n"
     ]
    },
    {
     "name": "stderr",
     "output_type": "stream",
     "text": [
      "                                                                                    \r"
     ]
    },
    {
     "name": "stdout",
     "output_type": "stream",
     "text": [
      "\n",
      "===== MorseNet2-Эпоха 16/50  =====\n",
      "MorseNet2-Mean grad norm: 0.067000\n",
      "MorseNet2-Max grad norm: 0.625141\n",
      "MorseNet2-Min grad norm: 0.000000\n",
      "MorseNet2-Current LR: 0.000200\n",
      "---- MorseNet2-Train Loss: 0.2792\n",
      "---- MorseNet2-Val Loss: 0.1537\n",
      "--------------------------------------------------\n"
     ]
    },
    {
     "name": "stderr",
     "output_type": "stream",
     "text": [
      "                                                                                    \r"
     ]
    },
    {
     "name": "stdout",
     "output_type": "stream",
     "text": [
      "\n",
      "===== MorseNet3-Эпоха 16/50  =====\n",
      "MorseNet3-Mean grad norm: 0.076910\n",
      "MorseNet3-Max grad norm: 0.492037\n",
      "MorseNet3-Min grad norm: 0.000000\n",
      "MorseNet3-Current LR: 0.000200\n",
      "---- MorseNet3-Train Loss: 0.2525\n",
      "---- MorseNet3-Val Loss: 0.2114\n",
      "--------------------------------------------------\n"
     ]
    },
    {
     "name": "stderr",
     "output_type": "stream",
     "text": [
      "                                                                                    \r"
     ]
    },
    {
     "name": "stdout",
     "output_type": "stream",
     "text": [
      "\n",
      "===== MorseNet1-Эпоха 17/50  =====\n",
      "MorseNet1-Mean grad norm: 0.075776\n",
      "MorseNet1-Max grad norm: 0.633942\n",
      "MorseNet1-Min grad norm: 0.000000\n",
      "MorseNet1-Current LR: 0.000200\n",
      "---- MorseNet1-Train Loss: 0.2573\n",
      "---- MorseNet1-Val Loss: 0.1540\n",
      "--------------------------------------------------\n"
     ]
    },
    {
     "name": "stderr",
     "output_type": "stream",
     "text": [
      "                                                                                    \r"
     ]
    },
    {
     "name": "stdout",
     "output_type": "stream",
     "text": [
      "\n",
      "===== MorseNet2-Эпоха 17/50  =====\n",
      "MorseNet2-Mean grad norm: 0.069103\n",
      "MorseNet2-Max grad norm: 0.547985\n",
      "MorseNet2-Min grad norm: 0.000000\n",
      "MorseNet2-Current LR: 0.000200\n",
      "---- MorseNet2-Train Loss: 0.2734\n",
      "---- MorseNet2-Val Loss: 0.1559\n",
      "--------------------------------------------------\n"
     ]
    },
    {
     "name": "stderr",
     "output_type": "stream",
     "text": [
      "                                                                                    \r"
     ]
    },
    {
     "name": "stdout",
     "output_type": "stream",
     "text": [
      "\n",
      "===== MorseNet3-Эпоха 17/50  =====\n",
      "MorseNet3-Mean grad norm: 0.076423\n",
      "MorseNet3-Max grad norm: 0.574566\n",
      "MorseNet3-Min grad norm: 0.000000\n",
      "MorseNet3-Current LR: 0.000200\n",
      "---- MorseNet3-Train Loss: 0.2475\n",
      "---- MorseNet3-Val Loss: 0.2093\n",
      "--------------------------------------------------\n"
     ]
    },
    {
     "name": "stderr",
     "output_type": "stream",
     "text": [
      "                                                                                    \r"
     ]
    },
    {
     "name": "stdout",
     "output_type": "stream",
     "text": [
      "\n",
      "===== MorseNet1-Эпоха 18/50  =====\n",
      "MorseNet1-Mean grad norm: 0.087456\n",
      "MorseNet1-Max grad norm: 0.579423\n",
      "MorseNet1-Min grad norm: 0.000000\n",
      "MorseNet1-Current LR: 0.000200\n",
      "---- MorseNet1-Train Loss: 0.2551\n",
      "---- MorseNet1-Val Loss: 0.1554\n",
      "--------------------------------------------------\n"
     ]
    },
    {
     "name": "stderr",
     "output_type": "stream",
     "text": [
      "                                                                                    \r"
     ]
    },
    {
     "name": "stdout",
     "output_type": "stream",
     "text": [
      "\n",
      "===== MorseNet2-Эпоха 18/50  =====\n",
      "MorseNet2-Mean grad norm: 0.065546\n",
      "MorseNet2-Max grad norm: 0.554180\n",
      "MorseNet2-Min grad norm: 0.000000\n",
      "MorseNet2-Current LR: 0.000200\n",
      "---- MorseNet2-Train Loss: 0.2660\n",
      "---- MorseNet2-Val Loss: 0.1555\n",
      "--------------------------------------------------\n"
     ]
    },
    {
     "name": "stderr",
     "output_type": "stream",
     "text": [
      "                                                                                    \r"
     ]
    },
    {
     "name": "stdout",
     "output_type": "stream",
     "text": [
      "\n",
      "===== MorseNet3-Эпоха 18/50  =====\n",
      "MorseNet3-Mean grad norm: 0.075277\n",
      "MorseNet3-Max grad norm: 0.576665\n",
      "MorseNet3-Min grad norm: 0.000000\n",
      "MorseNet3-Current LR: 0.000200\n",
      "---- MorseNet3-Train Loss: 0.2397\n",
      "---- MorseNet3-Val Loss: 0.2155\n",
      "--------------------------------------------------\n"
     ]
    },
    {
     "name": "stderr",
     "output_type": "stream",
     "text": [
      "                                                                                    \r"
     ]
    },
    {
     "name": "stdout",
     "output_type": "stream",
     "text": [
      "\n",
      "===== MorseNet1-Эпоха 19/50  =====\n",
      "MorseNet1-Mean grad norm: 0.084781\n",
      "MorseNet1-Max grad norm: 0.583725\n",
      "MorseNet1-Min grad norm: 0.000000\n",
      "MorseNet1-Current LR: 0.000200\n",
      "---- MorseNet1-Train Loss: 0.2498\n",
      "---- MorseNet1-Val Loss: 0.1572\n",
      "--------------------------------------------------\n"
     ]
    },
    {
     "name": "stderr",
     "output_type": "stream",
     "text": [
      "                                                                                    \r"
     ]
    },
    {
     "name": "stdout",
     "output_type": "stream",
     "text": [
      "\n",
      "===== MorseNet2-Эпоха 19/50  =====\n",
      "MorseNet2-Mean grad norm: 0.068937\n",
      "MorseNet2-Max grad norm: 0.505811\n",
      "MorseNet2-Min grad norm: 0.000000\n",
      "MorseNet2-Current LR: 0.000200\n",
      "---- MorseNet2-Train Loss: 0.2614\n",
      "---- MorseNet2-Val Loss: 0.1564\n",
      "--------------------------------------------------\n"
     ]
    },
    {
     "name": "stderr",
     "output_type": "stream",
     "text": [
      "                                                                                    \r"
     ]
    },
    {
     "name": "stdout",
     "output_type": "stream",
     "text": [
      "\n",
      "===== MorseNet3-Эпоха 19/50  =====\n",
      "MorseNet3-Mean grad norm: 0.077433\n",
      "MorseNet3-Max grad norm: 0.487357\n",
      "MorseNet3-Min grad norm: 0.000000\n",
      "MorseNet3-Current LR: 0.000200\n",
      "---- MorseNet3-Train Loss: 0.2324\n",
      "---- MorseNet3-Val Loss: 0.2155\n",
      "--------------------------------------------------\n"
     ]
    },
    {
     "name": "stderr",
     "output_type": "stream",
     "text": [
      "                                                                                    \r"
     ]
    },
    {
     "name": "stdout",
     "output_type": "stream",
     "text": [
      "\n",
      "===== MorseNet1-Эпоха 20/50  =====\n",
      "MorseNet1-Mean grad norm: 0.080190\n",
      "MorseNet1-Max grad norm: 0.673935\n",
      "MorseNet1-Min grad norm: 0.000000\n",
      "MorseNet1-Current LR: 0.000200\n",
      "---- MorseNet1-Train Loss: 0.2424\n",
      "---- MorseNet1-Val Loss: 0.1590\n",
      "--------------------------------------------------\n"
     ]
    },
    {
     "name": "stderr",
     "output_type": "stream",
     "text": [
      "                                                                                    \r"
     ]
    },
    {
     "name": "stdout",
     "output_type": "stream",
     "text": [
      "\n",
      "===== MorseNet2-Эпоха 20/50  =====\n",
      "MorseNet2-Mean grad norm: 0.069465\n",
      "MorseNet2-Max grad norm: 0.520830\n",
      "MorseNet2-Min grad norm: 0.000000\n",
      "MorseNet2-Current LR: 0.000100\n",
      "---- MorseNet2-Train Loss: 0.2567\n",
      "---- MorseNet2-Val Loss: 0.1569\n",
      "--------------------------------------------------\n"
     ]
    },
    {
     "name": "stderr",
     "output_type": "stream",
     "text": [
      "                                                                                    \r"
     ]
    },
    {
     "name": "stdout",
     "output_type": "stream",
     "text": [
      "\n",
      "===== MorseNet3-Эпоха 20/50  =====\n",
      "MorseNet3-Mean grad norm: 0.072655\n",
      "MorseNet3-Max grad norm: 0.548629\n",
      "MorseNet3-Min grad norm: 0.000000\n",
      "MorseNet3-Current LR: 0.000200\n",
      "---- MorseNet3-Train Loss: 0.2257\n",
      "---- MorseNet3-Val Loss: 0.2298\n",
      "--------------------------------------------------\n"
     ]
    },
    {
     "name": "stderr",
     "output_type": "stream",
     "text": [
      "                                                                                    \r"
     ]
    },
    {
     "name": "stdout",
     "output_type": "stream",
     "text": [
      "\n",
      "===== MorseNet1-Эпоха 21/50  =====\n",
      "MorseNet1-Mean grad norm: 0.084066\n",
      "MorseNet1-Max grad norm: 0.571976\n",
      "MorseNet1-Min grad norm: 0.000000\n",
      "MorseNet1-Current LR: 0.000200\n",
      "---- MorseNet1-Train Loss: 0.2359\n",
      "---- MorseNet1-Val Loss: 0.1529\n",
      "--------------------------------------------------\n"
     ]
    },
    {
     "name": "stderr",
     "output_type": "stream",
     "text": [
      "                                                                                    \r"
     ]
    },
    {
     "name": "stdout",
     "output_type": "stream",
     "text": [
      "\n",
      "===== MorseNet2-Эпоха 21/50  =====\n",
      "MorseNet2-Mean grad norm: 0.069336\n",
      "MorseNet2-Max grad norm: 0.482945\n",
      "MorseNet2-Min grad norm: 0.000000\n",
      "MorseNet2-Current LR: 0.000100\n",
      "---- MorseNet2-Train Loss: 0.2339\n",
      "---- MorseNet2-Val Loss: 0.1491\n",
      "--------------------------------------------------\n"
     ]
    },
    {
     "name": "stderr",
     "output_type": "stream",
     "text": [
      "                                                                                    \r"
     ]
    },
    {
     "name": "stdout",
     "output_type": "stream",
     "text": [
      "\n",
      "===== MorseNet3-Эпоха 21/50  =====\n",
      "MorseNet3-Mean grad norm: 0.078635\n",
      "MorseNet3-Max grad norm: 0.509906\n",
      "MorseNet3-Min grad norm: 0.000000\n",
      "MorseNet3-Current LR: 0.000100\n",
      "---- MorseNet3-Train Loss: 0.2187\n",
      "---- MorseNet3-Val Loss: 0.2345\n",
      "--------------------------------------------------\n"
     ]
    },
    {
     "name": "stderr",
     "output_type": "stream",
     "text": [
      "                                                                                    \r"
     ]
    },
    {
     "name": "stdout",
     "output_type": "stream",
     "text": [
      "\n",
      "===== MorseNet1-Эпоха 22/50  =====\n",
      "MorseNet1-Mean grad norm: 0.077955\n",
      "MorseNet1-Max grad norm: 0.605403\n",
      "MorseNet1-Min grad norm: 0.000000\n",
      "MorseNet1-Current LR: 0.000200\n",
      "---- MorseNet1-Train Loss: 0.2310\n",
      "---- MorseNet1-Val Loss: 0.1538\n",
      "--------------------------------------------------\n"
     ]
    },
    {
     "name": "stderr",
     "output_type": "stream",
     "text": [
      "                                                                                    \r"
     ]
    },
    {
     "name": "stdout",
     "output_type": "stream",
     "text": [
      "\n",
      "===== MorseNet2-Эпоха 22/50  =====\n",
      "MorseNet2-Mean grad norm: 0.069027\n",
      "MorseNet2-Max grad norm: 0.576911\n",
      "MorseNet2-Min grad norm: 0.000000\n",
      "MorseNet2-Current LR: 0.000100\n",
      "---- MorseNet2-Train Loss: 0.2261\n",
      "---- MorseNet2-Val Loss: 0.1460\n",
      "--------------------------------------------------\n"
     ]
    },
    {
     "name": "stderr",
     "output_type": "stream",
     "text": [
      "                                                                                    \r"
     ]
    },
    {
     "name": "stdout",
     "output_type": "stream",
     "text": [
      "\n",
      "===== MorseNet3-Эпоха 22/50  =====\n",
      "MorseNet3-Mean grad norm: 0.081346\n",
      "MorseNet3-Max grad norm: 0.484291\n",
      "MorseNet3-Min grad norm: 0.000000\n",
      "MorseNet3-Current LR: 0.000100\n",
      "---- MorseNet3-Train Loss: 0.2011\n",
      "---- MorseNet3-Val Loss: 0.2273\n",
      "--------------------------------------------------\n"
     ]
    },
    {
     "name": "stderr",
     "output_type": "stream",
     "text": [
      "                                                                                    \r"
     ]
    },
    {
     "name": "stdout",
     "output_type": "stream",
     "text": [
      "\n",
      "===== MorseNet1-Эпоха 23/50  =====\n",
      "MorseNet1-Mean grad norm: 0.086941\n",
      "MorseNet1-Max grad norm: 0.624231\n",
      "MorseNet1-Min grad norm: 0.000000\n",
      "MorseNet1-Current LR: 0.000200\n",
      "---- MorseNet1-Train Loss: 0.2303\n",
      "---- MorseNet1-Val Loss: 0.1469\n",
      "--------------------------------------------------\n"
     ]
    },
    {
     "name": "stderr",
     "output_type": "stream",
     "text": [
      "                                                                                    \r"
     ]
    },
    {
     "name": "stdout",
     "output_type": "stream",
     "text": [
      "\n",
      "===== MorseNet2-Эпоха 23/50  =====\n",
      "MorseNet2-Mean grad norm: 0.067640\n",
      "MorseNet2-Max grad norm: 0.604888\n",
      "MorseNet2-Min grad norm: 0.000000\n",
      "MorseNet2-Current LR: 0.000100\n",
      "---- MorseNet2-Train Loss: 0.2213\n",
      "---- MorseNet2-Val Loss: 0.1458\n",
      "--------------------------------------------------\n"
     ]
    },
    {
     "name": "stderr",
     "output_type": "stream",
     "text": [
      "                                                                                    \r"
     ]
    },
    {
     "name": "stdout",
     "output_type": "stream",
     "text": [
      "\n",
      "===== MorseNet3-Эпоха 23/50  =====\n",
      "MorseNet3-Mean grad norm: 0.077559\n",
      "MorseNet3-Max grad norm: 0.538701\n",
      "MorseNet3-Min grad norm: 0.000000\n",
      "MorseNet3-Current LR: 0.000100\n",
      "---- MorseNet3-Train Loss: 0.1943\n",
      "---- MorseNet3-Val Loss: 0.2306\n",
      "--------------------------------------------------\n"
     ]
    },
    {
     "name": "stderr",
     "output_type": "stream",
     "text": [
      "                                                                                    \r"
     ]
    },
    {
     "name": "stdout",
     "output_type": "stream",
     "text": [
      "\n",
      "===== MorseNet1-Эпоха 24/50  =====\n",
      "MorseNet1-Mean grad norm: 0.091278\n",
      "MorseNet1-Max grad norm: 0.532311\n",
      "MorseNet1-Min grad norm: 0.000000\n",
      "MorseNet1-Current LR: 0.000200\n",
      "---- MorseNet1-Train Loss: 0.2240\n",
      "---- MorseNet1-Val Loss: 0.1575\n",
      "--------------------------------------------------\n"
     ]
    },
    {
     "name": "stderr",
     "output_type": "stream",
     "text": [
      "                                                                                    \r"
     ]
    },
    {
     "name": "stdout",
     "output_type": "stream",
     "text": [
      "\n",
      "===== MorseNet2-Эпоха 24/50  =====\n",
      "MorseNet2-Mean grad norm: 0.069920\n",
      "MorseNet2-Max grad norm: 0.580275\n",
      "MorseNet2-Min grad norm: 0.000000\n",
      "MorseNet2-Current LR: 0.000100\n",
      "---- MorseNet2-Train Loss: 0.2180\n",
      "---- MorseNet2-Val Loss: 0.1524\n",
      "--------------------------------------------------\n"
     ]
    },
    {
     "name": "stderr",
     "output_type": "stream",
     "text": [
      "                                                                                    \r"
     ]
    },
    {
     "name": "stdout",
     "output_type": "stream",
     "text": [
      "\n",
      "===== MorseNet3-Эпоха 24/50  =====\n",
      "MorseNet3-Mean grad norm: 0.071013\n",
      "MorseNet3-Max grad norm: 0.626830\n",
      "MorseNet3-Min grad norm: 0.000000\n",
      "MorseNet3-Current LR: 0.000100\n",
      "---- MorseNet3-Train Loss: 0.1889\n",
      "---- MorseNet3-Val Loss: 0.2362\n",
      "--------------------------------------------------\n"
     ]
    },
    {
     "name": "stderr",
     "output_type": "stream",
     "text": [
      "                                                                                    \r"
     ]
    },
    {
     "name": "stdout",
     "output_type": "stream",
     "text": [
      "\n",
      "===== MorseNet1-Эпоха 25/50  =====\n",
      "MorseNet1-Mean grad norm: 0.089951\n",
      "MorseNet1-Max grad norm: 0.573994\n",
      "MorseNet1-Min grad norm: 0.000000\n",
      "MorseNet1-Current LR: 0.000200\n",
      "---- MorseNet1-Train Loss: 0.2239\n",
      "---- MorseNet1-Val Loss: 0.1483\n",
      "--------------------------------------------------\n"
     ]
    },
    {
     "name": "stderr",
     "output_type": "stream",
     "text": [
      "                                                                                    \r"
     ]
    },
    {
     "name": "stdout",
     "output_type": "stream",
     "text": [
      "\n",
      "===== MorseNet2-Эпоха 25/50  =====\n",
      "MorseNet2-Mean grad norm: 0.072235\n",
      "MorseNet2-Max grad norm: 0.492280\n",
      "MorseNet2-Min grad norm: 0.000000\n",
      "MorseNet2-Current LR: 0.000100\n",
      "---- MorseNet2-Train Loss: 0.2162\n",
      "---- MorseNet2-Val Loss: 0.1519\n",
      "--------------------------------------------------\n"
     ]
    },
    {
     "name": "stderr",
     "output_type": "stream",
     "text": [
      "                                                                                    \r"
     ]
    },
    {
     "name": "stdout",
     "output_type": "stream",
     "text": [
      "\n",
      "===== MorseNet3-Эпоха 25/50  =====\n",
      "MorseNet3-Mean grad norm: 0.073858\n",
      "MorseNet3-Max grad norm: 0.532894\n",
      "MorseNet3-Min grad norm: 0.000000\n",
      "MorseNet3-Current LR: 0.000050\n",
      "---- MorseNet3-Train Loss: 0.1868\n",
      "---- MorseNet3-Val Loss: 0.2380\n",
      "--------------------------------------------------\n"
     ]
    },
    {
     "name": "stderr",
     "output_type": "stream",
     "text": [
      "                                                                                    \r"
     ]
    },
    {
     "name": "stdout",
     "output_type": "stream",
     "text": [
      "\n",
      "===== MorseNet1-Эпоха 26/50  =====\n",
      "MorseNet1-Mean grad norm: 0.083434\n",
      "MorseNet1-Max grad norm: 0.555505\n",
      "MorseNet1-Min grad norm: 0.000000\n",
      "MorseNet1-Current LR: 0.000200\n",
      "---- MorseNet1-Train Loss: 0.2235\n",
      "---- MorseNet1-Val Loss: 0.1520\n",
      "--------------------------------------------------\n"
     ]
    },
    {
     "name": "stderr",
     "output_type": "stream",
     "text": [
      "                                                                                    \r"
     ]
    },
    {
     "name": "stdout",
     "output_type": "stream",
     "text": [
      "\n",
      "===== MorseNet2-Эпоха 26/50  =====\n",
      "MorseNet2-Mean grad norm: 0.067587\n",
      "MorseNet2-Max grad norm: 0.566302\n",
      "MorseNet2-Min grad norm: 0.000000\n",
      "MorseNet2-Current LR: 0.000100\n",
      "---- MorseNet2-Train Loss: 0.2134\n",
      "---- MorseNet2-Val Loss: 0.1538\n",
      "--------------------------------------------------\n"
     ]
    },
    {
     "name": "stderr",
     "output_type": "stream",
     "text": [
      "                                                                                    \r"
     ]
    },
    {
     "name": "stdout",
     "output_type": "stream",
     "text": [
      "\n",
      "===== MorseNet3-Эпоха 26/50  =====\n",
      "MorseNet3-Mean grad norm: 0.076600\n",
      "MorseNet3-Max grad norm: 0.564520\n",
      "MorseNet3-Min grad norm: 0.000000\n",
      "MorseNet3-Current LR: 0.000050\n",
      "---- MorseNet3-Train Loss: 0.1768\n",
      "---- MorseNet3-Val Loss: 0.2376\n",
      "--------------------------------------------------\n"
     ]
    },
    {
     "name": "stderr",
     "output_type": "stream",
     "text": [
      "                                                                                    \r"
     ]
    },
    {
     "name": "stdout",
     "output_type": "stream",
     "text": [
      "\n",
      "===== MorseNet1-Эпоха 27/50  =====\n",
      "MorseNet1-Mean grad norm: 0.087531\n",
      "MorseNet1-Max grad norm: 0.552740\n",
      "MorseNet1-Min grad norm: 0.000000\n",
      "MorseNet1-Current LR: 0.000100\n",
      "---- MorseNet1-Train Loss: 0.2185\n",
      "---- MorseNet1-Val Loss: 0.1504\n",
      "--------------------------------------------------\n"
     ]
    },
    {
     "name": "stderr",
     "output_type": "stream",
     "text": [
      "                                                                                    \r"
     ]
    },
    {
     "name": "stdout",
     "output_type": "stream",
     "text": [
      "\n",
      "===== MorseNet2-Эпоха 27/50  =====\n",
      "MorseNet2-Mean grad norm: 0.066955\n",
      "MorseNet2-Max grad norm: 0.530032\n",
      "MorseNet2-Min grad norm: 0.000000\n",
      "MorseNet2-Current LR: 0.000050\n",
      "---- MorseNet2-Train Loss: 0.2095\n",
      "---- MorseNet2-Val Loss: 0.1514\n",
      "--------------------------------------------------\n"
     ]
    },
    {
     "name": "stderr",
     "output_type": "stream",
     "text": [
      "                                                                                    \r"
     ]
    },
    {
     "name": "stdout",
     "output_type": "stream",
     "text": [
      "\n",
      "===== MorseNet3-Эпоха 27/50  =====\n",
      "MorseNet3-Mean grad norm: 0.079363\n",
      "MorseNet3-Max grad norm: 0.502274\n",
      "MorseNet3-Min grad norm: 0.000000\n",
      "MorseNet3-Current LR: 0.000050\n",
      "---- MorseNet3-Train Loss: 0.1714\n",
      "---- MorseNet3-Val Loss: 0.2402\n",
      "--------------------------------------------------\n"
     ]
    },
    {
     "name": "stderr",
     "output_type": "stream",
     "text": [
      "                                                                                    \r"
     ]
    },
    {
     "name": "stdout",
     "output_type": "stream",
     "text": [
      "\n",
      "===== MorseNet1-Эпоха 28/50  =====\n",
      "MorseNet1-Mean grad norm: 0.091794\n",
      "MorseNet1-Max grad norm: 0.512818\n",
      "MorseNet1-Min grad norm: 0.000000\n",
      "MorseNet1-Current LR: 0.000100\n",
      "---- MorseNet1-Train Loss: 0.1986\n",
      "---- MorseNet1-Val Loss: 0.1420\n",
      "--------------------------------------------------\n"
     ]
    },
    {
     "name": "stderr",
     "output_type": "stream",
     "text": [
      "                                                                                    \r"
     ]
    },
    {
     "name": "stdout",
     "output_type": "stream",
     "text": [
      "\n",
      "===== MorseNet2-Эпоха 28/50  =====\n",
      "MorseNet2-Mean grad norm: 0.071709\n",
      "MorseNet2-Max grad norm: 0.521273\n",
      "MorseNet2-Min grad norm: 0.000000\n",
      "MorseNet2-Current LR: 0.000050\n",
      "---- MorseNet2-Train Loss: 0.1987\n",
      "---- MorseNet2-Val Loss: 0.1575\n",
      "--------------------------------------------------\n"
     ]
    },
    {
     "name": "stderr",
     "output_type": "stream",
     "text": [
      "                                                                                    \r"
     ]
    },
    {
     "name": "stdout",
     "output_type": "stream",
     "text": [
      "\n",
      "===== MorseNet3-Эпоха 28/50  =====\n",
      "MorseNet3-Mean grad norm: 0.076726\n",
      "MorseNet3-Max grad norm: 0.554398\n",
      "MorseNet3-Min grad norm: 0.000000\n",
      "MorseNet3-Current LR: 0.000050\n",
      "---- MorseNet3-Train Loss: 0.1720\n",
      "---- MorseNet3-Val Loss: 0.2429\n",
      "--------------------------------------------------\n"
     ]
    },
    {
     "name": "stderr",
     "output_type": "stream",
     "text": [
      "                                                                                    \r"
     ]
    },
    {
     "name": "stdout",
     "output_type": "stream",
     "text": [
      "\n",
      "===== MorseNet1-Эпоха 29/50  =====\n",
      "MorseNet1-Mean grad norm: 0.086227\n",
      "MorseNet1-Max grad norm: 0.552615\n",
      "MorseNet1-Min grad norm: 0.000000\n",
      "MorseNet1-Current LR: 0.000100\n",
      "---- MorseNet1-Train Loss: 0.1954\n",
      "---- MorseNet1-Val Loss: 0.1501\n",
      "--------------------------------------------------\n"
     ]
    },
    {
     "name": "stderr",
     "output_type": "stream",
     "text": [
      "                                                                                    \r"
     ]
    },
    {
     "name": "stdout",
     "output_type": "stream",
     "text": [
      "\n",
      "===== MorseNet2-Эпоха 29/50  =====\n",
      "MorseNet2-Mean grad norm: 0.071970\n",
      "MorseNet2-Max grad norm: 0.507977\n",
      "MorseNet2-Min grad norm: 0.000000\n",
      "MorseNet2-Current LR: 0.000050\n",
      "---- MorseNet2-Train Loss: 0.1969\n",
      "---- MorseNet2-Val Loss: 0.1573\n",
      "--------------------------------------------------\n"
     ]
    },
    {
     "name": "stderr",
     "output_type": "stream",
     "text": [
      "                                                                                    \r"
     ]
    },
    {
     "name": "stdout",
     "output_type": "stream",
     "text": [
      "\n",
      "===== MorseNet3-Эпоха 29/50  =====\n",
      "MorseNet3-Mean grad norm: 0.071312\n",
      "MorseNet3-Max grad norm: 0.567643\n",
      "MorseNet3-Min grad norm: 0.000000\n",
      "MorseNet3-Current LR: 0.000025\n",
      "---- MorseNet3-Train Loss: 0.1712\n",
      "---- MorseNet3-Val Loss: 0.2404\n",
      "--------------------------------------------------\n"
     ]
    },
    {
     "name": "stderr",
     "output_type": "stream",
     "text": [
      "                                                                                    \r"
     ]
    },
    {
     "name": "stdout",
     "output_type": "stream",
     "text": [
      "\n",
      "===== MorseNet1-Эпоха 30/50  =====\n",
      "MorseNet1-Mean grad norm: 0.088348\n",
      "MorseNet1-Max grad norm: 0.611430\n",
      "MorseNet1-Min grad norm: 0.000000\n",
      "MorseNet1-Current LR: 0.000100\n",
      "---- MorseNet1-Train Loss: 0.1915\n",
      "---- MorseNet1-Val Loss: 0.1471\n",
      "--------------------------------------------------\n"
     ]
    },
    {
     "name": "stderr",
     "output_type": "stream",
     "text": [
      "                                                                                    \r"
     ]
    },
    {
     "name": "stdout",
     "output_type": "stream",
     "text": [
      "\n",
      "===== MorseNet2-Эпоха 30/50  =====\n",
      "MorseNet2-Mean grad norm: 0.071466\n",
      "MorseNet2-Max grad norm: 0.512363\n",
      "MorseNet2-Min grad norm: 0.000000\n",
      "MorseNet2-Current LR: 0.000050\n",
      "---- MorseNet2-Train Loss: 0.1953\n",
      "---- MorseNet2-Val Loss: 0.1583\n",
      "--------------------------------------------------\n"
     ]
    },
    {
     "name": "stderr",
     "output_type": "stream",
     "text": [
      "                                                                                    \r"
     ]
    },
    {
     "name": "stdout",
     "output_type": "stream",
     "text": [
      "\n",
      "===== MorseNet3-Эпоха 30/50  =====\n",
      "MorseNet3-Mean grad norm: 0.077810\n",
      "MorseNet3-Max grad norm: 0.516237\n",
      "MorseNet3-Min grad norm: 0.000000\n",
      "MorseNet3-Current LR: 0.000025\n",
      "---- MorseNet3-Train Loss: 0.1674\n",
      "---- MorseNet3-Val Loss: 0.2458\n",
      "--------------------------------------------------\n"
     ]
    },
    {
     "name": "stderr",
     "output_type": "stream",
     "text": [
      "                                                                                    \r"
     ]
    },
    {
     "name": "stdout",
     "output_type": "stream",
     "text": [
      "\n",
      "===== MorseNet1-Эпоха 31/50  =====\n",
      "MorseNet1-Mean grad norm: 0.087456\n",
      "MorseNet1-Max grad norm: 0.550262\n",
      "MorseNet1-Min grad norm: 0.000000\n",
      "MorseNet1-Current LR: 0.000100\n",
      "---- MorseNet1-Train Loss: 0.1897\n",
      "---- MorseNet1-Val Loss: 0.1499\n",
      "--------------------------------------------------\n"
     ]
    },
    {
     "name": "stderr",
     "output_type": "stream",
     "text": [
      "                                                                                    \r"
     ]
    },
    {
     "name": "stdout",
     "output_type": "stream",
     "text": [
      "\n",
      "===== MorseNet2-Эпоха 31/50  =====\n",
      "MorseNet2-Mean grad norm: 0.071165\n",
      "MorseNet2-Max grad norm: 0.596655\n",
      "MorseNet2-Min grad norm: 0.000000\n",
      "MorseNet2-Current LR: 0.000025\n",
      "---- MorseNet2-Train Loss: 0.1919\n",
      "---- MorseNet2-Val Loss: 0.1590\n",
      "--------------------------------------------------\n"
     ]
    },
    {
     "name": "stderr",
     "output_type": "stream",
     "text": [
      "                                                                                    \r"
     ]
    },
    {
     "name": "stdout",
     "output_type": "stream",
     "text": [
      "\n",
      "===== MorseNet3-Эпоха 31/50  =====\n",
      "MorseNet3-Mean grad norm: 0.076277\n",
      "MorseNet3-Max grad norm: 0.545464\n",
      "MorseNet3-Min grad norm: 0.000000\n",
      "MorseNet3-Current LR: 0.000025\n",
      "---- MorseNet3-Train Loss: 0.1633\n",
      "---- MorseNet3-Val Loss: 0.2461\n",
      "--------------------------------------------------\n"
     ]
    },
    {
     "name": "stderr",
     "output_type": "stream",
     "text": [
      "                                                                                    \r"
     ]
    },
    {
     "name": "stdout",
     "output_type": "stream",
     "text": [
      "\n",
      "===== MorseNet1-Эпоха 32/50  =====\n",
      "MorseNet1-Mean grad norm: 0.078267\n",
      "MorseNet1-Max grad norm: 0.578701\n",
      "MorseNet1-Min grad norm: 0.000000\n",
      "MorseNet1-Current LR: 0.000050\n",
      "---- MorseNet1-Train Loss: 0.1868\n",
      "---- MorseNet1-Val Loss: 0.1517\n",
      "--------------------------------------------------\n"
     ]
    },
    {
     "name": "stderr",
     "output_type": "stream",
     "text": [
      "                                                                                    \r"
     ]
    },
    {
     "name": "stdout",
     "output_type": "stream",
     "text": [
      "\n",
      "===== MorseNet2-Эпоха 32/50  =====\n",
      "MorseNet2-Mean grad norm: 0.070084\n",
      "MorseNet2-Max grad norm: 0.527415\n",
      "MorseNet2-Min grad norm: 0.000000\n",
      "MorseNet2-Current LR: 0.000025\n",
      "---- MorseNet2-Train Loss: 0.1866\n",
      "---- MorseNet2-Val Loss: 0.1570\n",
      "--------------------------------------------------\n"
     ]
    },
    {
     "name": "stderr",
     "output_type": "stream",
     "text": [
      "                                                                                    \r"
     ]
    },
    {
     "name": "stdout",
     "output_type": "stream",
     "text": [
      "\n",
      "===== MorseNet3-Эпоха 32/50  =====\n",
      "MorseNet3-Mean grad norm: 0.077432\n",
      "MorseNet3-Max grad norm: 0.519543\n",
      "MorseNet3-Min grad norm: 0.000000\n",
      "MorseNet3-Current LR: 0.000025\n",
      "---- MorseNet3-Train Loss: 0.1617\n",
      "---- MorseNet3-Val Loss: 0.2459\n",
      "--------------------------------------------------\n"
     ]
    },
    {
     "name": "stderr",
     "output_type": "stream",
     "text": [
      "                                                                                    \r"
     ]
    },
    {
     "name": "stdout",
     "output_type": "stream",
     "text": [
      "\n",
      "===== MorseNet1-Эпоха 33/50  =====\n",
      "MorseNet1-Mean grad norm: 0.082460\n",
      "MorseNet1-Max grad norm: 0.578996\n",
      "MorseNet1-Min grad norm: 0.000000\n",
      "MorseNet1-Current LR: 0.000050\n",
      "---- MorseNet1-Train Loss: 0.1773\n",
      "---- MorseNet1-Val Loss: 0.1501\n",
      "--------------------------------------------------\n"
     ]
    },
    {
     "name": "stderr",
     "output_type": "stream",
     "text": [
      "                                                                                    \r"
     ]
    },
    {
     "name": "stdout",
     "output_type": "stream",
     "text": [
      "\n",
      "===== MorseNet2-Эпоха 33/50  =====\n",
      "MorseNet2-Mean grad norm: 0.065443\n",
      "MorseNet2-Max grad norm: 0.674983\n",
      "MorseNet2-Min grad norm: 0.000000\n",
      "MorseNet2-Current LR: 0.000025\n",
      "---- MorseNet2-Train Loss: 0.1871\n",
      "---- MorseNet2-Val Loss: 0.1584\n",
      "--------------------------------------------------\n"
     ]
    },
    {
     "name": "stderr",
     "output_type": "stream",
     "text": [
      "                                                                                    \r"
     ]
    },
    {
     "name": "stdout",
     "output_type": "stream",
     "text": [
      "\n",
      "===== MorseNet3-Эпоха 33/50  =====\n",
      "MorseNet3-Mean grad norm: 0.078533\n",
      "MorseNet3-Max grad norm: 0.545403\n",
      "MorseNet3-Min grad norm: 0.000000\n",
      "MorseNet3-Current LR: 0.000013\n",
      "---- MorseNet3-Train Loss: 0.1608\n",
      "---- MorseNet3-Val Loss: 0.2455\n",
      "--------------------------------------------------\n"
     ]
    },
    {
     "name": "stderr",
     "output_type": "stream",
     "text": [
      "                                                                                    \r"
     ]
    },
    {
     "name": "stdout",
     "output_type": "stream",
     "text": [
      "\n",
      "===== MorseNet1-Эпоха 34/50  =====\n",
      "MorseNet1-Mean grad norm: 0.082710\n",
      "MorseNet1-Max grad norm: 0.559919\n",
      "MorseNet1-Min grad norm: 0.000000\n",
      "MorseNet1-Current LR: 0.000050\n",
      "---- MorseNet1-Train Loss: 0.1744\n",
      "---- MorseNet1-Val Loss: 0.1486\n",
      "--------------------------------------------------\n"
     ]
    },
    {
     "name": "stderr",
     "output_type": "stream",
     "text": [
      "                                                                                    \r"
     ]
    },
    {
     "name": "stdout",
     "output_type": "stream",
     "text": [
      "\n",
      "===== MorseNet2-Эпоха 34/50  =====\n",
      "MorseNet2-Mean grad norm: 0.066144\n",
      "MorseNet2-Max grad norm: 0.561740\n",
      "MorseNet2-Min grad norm: 0.000000\n",
      "MorseNet2-Current LR: 0.000025\n",
      "---- MorseNet2-Train Loss: 0.1812\n",
      "---- MorseNet2-Val Loss: 0.1591\n",
      "--------------------------------------------------\n"
     ]
    },
    {
     "name": "stderr",
     "output_type": "stream",
     "text": [
      "                                                                                    \r"
     ]
    },
    {
     "name": "stdout",
     "output_type": "stream",
     "text": [
      "\n",
      "===== MorseNet3-Эпоха 34/50  =====\n",
      "MorseNet3-Mean grad norm: 0.078009\n",
      "MorseNet3-Max grad norm: 0.507938\n",
      "MorseNet3-Min grad norm: 0.000000\n",
      "MorseNet3-Current LR: 0.000013\n",
      "---- MorseNet3-Train Loss: 0.1604\n",
      "---- MorseNet3-Val Loss: 0.2472\n",
      "--------------------------------------------------\n"
     ]
    },
    {
     "name": "stderr",
     "output_type": "stream",
     "text": [
      "                                                                                    \r"
     ]
    },
    {
     "name": "stdout",
     "output_type": "stream",
     "text": [
      "\n",
      "===== MorseNet1-Эпоха 35/50  =====\n",
      "MorseNet1-Mean grad norm: 0.082921\n",
      "MorseNet1-Max grad norm: 0.525987\n",
      "MorseNet1-Min grad norm: 0.000000\n",
      "MorseNet1-Current LR: 0.000050\n",
      "---- MorseNet1-Train Loss: 0.1756\n",
      "---- MorseNet1-Val Loss: 0.1516\n",
      "--------------------------------------------------\n"
     ]
    },
    {
     "name": "stderr",
     "output_type": "stream",
     "text": [
      "                                                                                    \r"
     ]
    },
    {
     "name": "stdout",
     "output_type": "stream",
     "text": [
      "\n",
      "===== MorseNet2-Эпоха 35/50  =====\n",
      "MorseNet2-Mean grad norm: 0.069628\n",
      "MorseNet2-Max grad norm: 0.511534\n",
      "MorseNet2-Min grad norm: 0.000000\n",
      "MorseNet2-Current LR: 0.000013\n",
      "---- MorseNet2-Train Loss: 0.1858\n",
      "---- MorseNet2-Val Loss: 0.1572\n",
      "--------------------------------------------------\n"
     ]
    },
    {
     "name": "stderr",
     "output_type": "stream",
     "text": [
      "                                                                                    \r"
     ]
    },
    {
     "name": "stdout",
     "output_type": "stream",
     "text": [
      "\n",
      "===== MorseNet3-Эпоха 35/50  =====\n",
      "MorseNet3-Mean grad norm: 0.074570\n",
      "MorseNet3-Max grad norm: 0.542407\n",
      "MorseNet3-Min grad norm: 0.000000\n",
      "MorseNet3-Current LR: 0.000013\n",
      "---- MorseNet3-Train Loss: 0.1600\n",
      "---- MorseNet3-Val Loss: 0.2468\n",
      "--------------------------------------------------\n"
     ]
    },
    {
     "name": "stderr",
     "output_type": "stream",
     "text": [
      "                                                                                    \r"
     ]
    },
    {
     "name": "stdout",
     "output_type": "stream",
     "text": [
      "\n",
      "===== MorseNet1-Эпоха 36/50  =====\n",
      "MorseNet1-Mean grad norm: 0.082279\n",
      "MorseNet1-Max grad norm: 0.564927\n",
      "MorseNet1-Min grad norm: 0.000000\n",
      "MorseNet1-Current LR: 0.000025\n",
      "---- MorseNet1-Train Loss: 0.1745\n",
      "---- MorseNet1-Val Loss: 0.1518\n",
      "--------------------------------------------------\n"
     ]
    },
    {
     "name": "stderr",
     "output_type": "stream",
     "text": [
      "                                                                                    \r"
     ]
    },
    {
     "name": "stdout",
     "output_type": "stream",
     "text": [
      "\n",
      "===== MorseNet2-Эпоха 36/50  =====\n",
      "MorseNet2-Mean grad norm: 0.068756\n",
      "MorseNet2-Max grad norm: 0.566776\n",
      "MorseNet2-Min grad norm: 0.000000\n",
      "MorseNet2-Current LR: 0.000013\n",
      "---- MorseNet2-Train Loss: 0.1823\n",
      "---- MorseNet2-Val Loss: 0.1581\n",
      "--------------------------------------------------\n"
     ]
    },
    {
     "name": "stderr",
     "output_type": "stream",
     "text": [
      "                                                                                    \r"
     ]
    },
    {
     "name": "stdout",
     "output_type": "stream",
     "text": [
      "\n",
      "===== MorseNet3-Эпоха 36/50  =====\n",
      "MorseNet3-Mean grad norm: 0.075225\n",
      "MorseNet3-Max grad norm: 0.516783\n",
      "MorseNet3-Min grad norm: 0.000000\n",
      "MorseNet3-Current LR: 0.000013\n",
      "---- MorseNet3-Train Loss: 0.1573\n",
      "---- MorseNet3-Val Loss: 0.2475\n",
      "--------------------------------------------------\n"
     ]
    },
    {
     "name": "stderr",
     "output_type": "stream",
     "text": [
      "                                                                                    \r"
     ]
    },
    {
     "name": "stdout",
     "output_type": "stream",
     "text": [
      "\n",
      "===== MorseNet1-Эпоха 37/50  =====\n",
      "MorseNet1-Mean grad norm: 0.071112\n",
      "MorseNet1-Max grad norm: 0.670841\n",
      "MorseNet1-Min grad norm: 0.000000\n",
      "MorseNet1-Current LR: 0.000025\n",
      "---- MorseNet1-Train Loss: 0.1668\n",
      "---- MorseNet1-Val Loss: 0.1506\n",
      "--------------------------------------------------\n"
     ]
    },
    {
     "name": "stderr",
     "output_type": "stream",
     "text": [
      "                                                                                    \r"
     ]
    },
    {
     "name": "stdout",
     "output_type": "stream",
     "text": [
      "\n",
      "===== MorseNet2-Эпоха 37/50  =====\n",
      "MorseNet2-Mean grad norm: 0.068505\n",
      "MorseNet2-Max grad norm: 0.518596\n",
      "MorseNet2-Min grad norm: 0.000000\n",
      "MorseNet2-Current LR: 0.000013\n",
      "---- MorseNet2-Train Loss: 0.1779\n",
      "---- MorseNet2-Val Loss: 0.1608\n",
      "--------------------------------------------------\n"
     ]
    },
    {
     "name": "stderr",
     "output_type": "stream",
     "text": [
      "                                                                                    \r"
     ]
    },
    {
     "name": "stdout",
     "output_type": "stream",
     "text": [
      "\n",
      "===== MorseNet3-Эпоха 37/50  =====\n",
      "MorseNet3-Mean grad norm: 0.071634\n",
      "MorseNet3-Max grad norm: 0.585449\n",
      "MorseNet3-Min grad norm: 0.000000\n",
      "MorseNet3-Current LR: 0.000006\n",
      "---- MorseNet3-Train Loss: 0.1568\n",
      "---- MorseNet3-Val Loss: 0.2478\n",
      "--------------------------------------------------\n"
     ]
    },
    {
     "name": "stderr",
     "output_type": "stream",
     "text": [
      "                                                                                    \r"
     ]
    },
    {
     "name": "stdout",
     "output_type": "stream",
     "text": [
      "\n",
      "===== MorseNet1-Эпоха 38/50  =====\n",
      "MorseNet1-Mean grad norm: 0.094928\n",
      "MorseNet1-Max grad norm: 0.545861\n",
      "MorseNet1-Min grad norm: 0.000000\n",
      "MorseNet1-Current LR: 0.000025\n",
      "---- MorseNet1-Train Loss: 0.1684\n",
      "---- MorseNet1-Val Loss: 0.1505\n",
      "--------------------------------------------------\n"
     ]
    },
    {
     "name": "stderr",
     "output_type": "stream",
     "text": [
      "                                                                                    \r"
     ]
    },
    {
     "name": "stdout",
     "output_type": "stream",
     "text": [
      "\n",
      "===== MorseNet2-Эпоха 38/50  =====\n",
      "MorseNet2-Mean grad norm: 0.067827\n",
      "MorseNet2-Max grad norm: 0.502278\n",
      "MorseNet2-Min grad norm: 0.000000\n",
      "MorseNet2-Current LR: 0.000013\n",
      "---- MorseNet2-Train Loss: 0.1775\n",
      "---- MorseNet2-Val Loss: 0.1629\n",
      "--------------------------------------------------\n"
     ]
    },
    {
     "name": "stderr",
     "output_type": "stream",
     "text": [
      "                                                                                    \r"
     ]
    },
    {
     "name": "stdout",
     "output_type": "stream",
     "text": [
      "\n",
      "===== MorseNet3-Эпоха 38/50  =====\n",
      "MorseNet3-Mean grad norm: 0.076045\n",
      "MorseNet3-Max grad norm: 0.523926\n",
      "MorseNet3-Min grad norm: 0.000000\n",
      "MorseNet3-Current LR: 0.000006\n",
      "---- MorseNet3-Train Loss: 0.1567\n",
      "---- MorseNet3-Val Loss: 0.2472\n",
      "--------------------------------------------------\n"
     ]
    },
    {
     "name": "stderr",
     "output_type": "stream",
     "text": [
      "                                                                                    \r"
     ]
    },
    {
     "name": "stdout",
     "output_type": "stream",
     "text": [
      "\n",
      "===== MorseNet1-Эпоха 39/50  =====\n",
      "MorseNet1-Mean grad norm: 0.090218\n",
      "MorseNet1-Max grad norm: 0.551251\n",
      "MorseNet1-Min grad norm: 0.000000\n",
      "MorseNet1-Current LR: 0.000025\n",
      "---- MorseNet1-Train Loss: 0.1662\n",
      "---- MorseNet1-Val Loss: 0.1502\n",
      "--------------------------------------------------\n"
     ]
    },
    {
     "name": "stderr",
     "output_type": "stream",
     "text": [
      "                                                                                    \r"
     ]
    },
    {
     "name": "stdout",
     "output_type": "stream",
     "text": [
      "\n",
      "===== MorseNet2-Эпоха 39/50  =====\n",
      "MorseNet2-Mean grad norm: 0.069741\n",
      "MorseNet2-Max grad norm: 0.523776\n",
      "MorseNet2-Min grad norm: 0.000000\n",
      "MorseNet2-Current LR: 0.000006\n",
      "---- MorseNet2-Train Loss: 0.1784\n",
      "---- MorseNet2-Val Loss: 0.1607\n",
      "--------------------------------------------------\n"
     ]
    },
    {
     "name": "stderr",
     "output_type": "stream",
     "text": [
      "                                                                                    \r"
     ]
    },
    {
     "name": "stdout",
     "output_type": "stream",
     "text": [
      "\n",
      "===== MorseNet3-Эпоха 39/50  =====\n",
      "MorseNet3-Mean grad norm: 0.078266\n",
      "MorseNet3-Max grad norm: 0.540117\n",
      "MorseNet3-Min grad norm: 0.000000\n",
      "MorseNet3-Current LR: 0.000006\n",
      "---- MorseNet3-Train Loss: 0.1564\n",
      "---- MorseNet3-Val Loss: 0.2459\n",
      "--------------------------------------------------\n"
     ]
    },
    {
     "name": "stderr",
     "output_type": "stream",
     "text": [
      "                                                                                    \r"
     ]
    },
    {
     "name": "stdout",
     "output_type": "stream",
     "text": [
      "\n",
      "===== MorseNet1-Эпоха 40/50  =====\n",
      "MorseNet1-Mean grad norm: 0.092992\n",
      "MorseNet1-Max grad norm: 0.571398\n",
      "MorseNet1-Min grad norm: 0.000000\n",
      "MorseNet1-Current LR: 0.000013\n",
      "---- MorseNet1-Train Loss: 0.1674\n",
      "---- MorseNet1-Val Loss: 0.1513\n",
      "--------------------------------------------------\n"
     ]
    },
    {
     "name": "stderr",
     "output_type": "stream",
     "text": [
      "                                                                                    \r"
     ]
    },
    {
     "name": "stdout",
     "output_type": "stream",
     "text": [
      "\n",
      "===== MorseNet2-Эпоха 40/50  =====\n",
      "MorseNet2-Mean grad norm: 0.069427\n",
      "MorseNet2-Max grad norm: 0.577005\n",
      "MorseNet2-Min grad norm: 0.000000\n",
      "MorseNet2-Current LR: 0.000006\n",
      "---- MorseNet2-Train Loss: 0.1818\n",
      "---- MorseNet2-Val Loss: 0.1613\n",
      "--------------------------------------------------\n"
     ]
    },
    {
     "name": "stderr",
     "output_type": "stream",
     "text": [
      "                                                                                    \r"
     ]
    },
    {
     "name": "stdout",
     "output_type": "stream",
     "text": [
      "\n",
      "===== MorseNet3-Эпоха 40/50  =====\n",
      "MorseNet3-Mean grad norm: 0.079151\n",
      "MorseNet3-Max grad norm: 0.487884\n",
      "MorseNet3-Min grad norm: 0.000000\n",
      "MorseNet3-Current LR: 0.000006\n",
      "---- MorseNet3-Train Loss: 0.1537\n",
      "---- MorseNet3-Val Loss: 0.2469\n",
      "--------------------------------------------------\n"
     ]
    },
    {
     "name": "stderr",
     "output_type": "stream",
     "text": [
      "                                                                                    \r"
     ]
    },
    {
     "name": "stdout",
     "output_type": "stream",
     "text": [
      "\n",
      "===== MorseNet1-Эпоха 41/50  =====\n",
      "MorseNet1-Mean grad norm: 0.085363\n",
      "MorseNet1-Max grad norm: 0.566465\n",
      "MorseNet1-Min grad norm: 0.000000\n",
      "MorseNet1-Current LR: 0.000013\n",
      "---- MorseNet1-Train Loss: 0.1646\n",
      "---- MorseNet1-Val Loss: 0.1508\n",
      "--------------------------------------------------\n"
     ]
    },
    {
     "name": "stderr",
     "output_type": "stream",
     "text": [
      "                                                                                    \r"
     ]
    },
    {
     "name": "stdout",
     "output_type": "stream",
     "text": [
      "\n",
      "===== MorseNet2-Эпоха 41/50  =====\n",
      "MorseNet2-Mean grad norm: 0.072049\n",
      "MorseNet2-Max grad norm: 0.568483\n",
      "MorseNet2-Min grad norm: 0.000000\n",
      "MorseNet2-Current LR: 0.000006\n",
      "---- MorseNet2-Train Loss: 0.1775\n",
      "---- MorseNet2-Val Loss: 0.1598\n",
      "--------------------------------------------------\n"
     ]
    },
    {
     "name": "stderr",
     "output_type": "stream",
     "text": [
      "                                                                                    \r"
     ]
    },
    {
     "name": "stdout",
     "output_type": "stream",
     "text": [
      "\n",
      "===== MorseNet3-Эпоха 41/50  =====\n",
      "MorseNet3-Mean grad norm: 0.077944\n",
      "MorseNet3-Max grad norm: 0.503557\n",
      "MorseNet3-Min grad norm: 0.000000\n",
      "MorseNet3-Current LR: 0.000003\n",
      "---- MorseNet3-Train Loss: 0.1568\n",
      "---- MorseNet3-Val Loss: 0.2480\n",
      "--------------------------------------------------\n"
     ]
    },
    {
     "name": "stderr",
     "output_type": "stream",
     "text": [
      "                                                                                    \r"
     ]
    },
    {
     "name": "stdout",
     "output_type": "stream",
     "text": [
      "\n",
      "===== MorseNet1-Эпоха 42/50  =====\n",
      "MorseNet1-Mean grad norm: 0.087740\n",
      "MorseNet1-Max grad norm: 0.518647\n",
      "MorseNet1-Min grad norm: 0.000000\n",
      "MorseNet1-Current LR: 0.000013\n",
      "---- MorseNet1-Train Loss: 0.1635\n",
      "---- MorseNet1-Val Loss: 0.1520\n",
      "--------------------------------------------------\n"
     ]
    },
    {
     "name": "stderr",
     "output_type": "stream",
     "text": [
      "                                                                                    \r"
     ]
    },
    {
     "name": "stdout",
     "output_type": "stream",
     "text": [
      "\n",
      "===== MorseNet2-Эпоха 42/50  =====\n",
      "MorseNet2-Mean grad norm: 0.071513\n",
      "MorseNet2-Max grad norm: 0.500951\n",
      "MorseNet2-Min grad norm: 0.000000\n",
      "MorseNet2-Current LR: 0.000006\n",
      "---- MorseNet2-Train Loss: 0.1755\n",
      "---- MorseNet2-Val Loss: 0.1604\n",
      "--------------------------------------------------\n"
     ]
    },
    {
     "name": "stderr",
     "output_type": "stream",
     "text": [
      "                                                                                    \r"
     ]
    },
    {
     "name": "stdout",
     "output_type": "stream",
     "text": [
      "\n",
      "===== MorseNet3-Эпоха 42/50  =====\n",
      "MorseNet3-Mean grad norm: 0.071502\n",
      "MorseNet3-Max grad norm: 0.645964\n",
      "MorseNet3-Min grad norm: 0.000000\n",
      "MorseNet3-Current LR: 0.000003\n",
      "---- MorseNet3-Train Loss: 0.1561\n",
      "---- MorseNet3-Val Loss: 0.2479\n",
      "--------------------------------------------------\n"
     ]
    },
    {
     "name": "stderr",
     "output_type": "stream",
     "text": [
      "                                                                                    \r"
     ]
    },
    {
     "name": "stdout",
     "output_type": "stream",
     "text": [
      "\n",
      "===== MorseNet1-Эпоха 43/50  =====\n",
      "MorseNet1-Mean grad norm: 0.090083\n",
      "MorseNet1-Max grad norm: 0.511345\n",
      "MorseNet1-Min grad norm: 0.000000\n",
      "MorseNet1-Current LR: 0.000013\n",
      "---- MorseNet1-Train Loss: 0.1596\n",
      "---- MorseNet1-Val Loss: 0.1524\n",
      "--------------------------------------------------\n"
     ]
    },
    {
     "name": "stderr",
     "output_type": "stream",
     "text": [
      "                                                                                    \r"
     ]
    },
    {
     "name": "stdout",
     "output_type": "stream",
     "text": [
      "\n",
      "===== MorseNet2-Эпоха 43/50  =====\n",
      "MorseNet2-Mean grad norm: 0.074478\n",
      "MorseNet2-Max grad norm: 0.448399\n",
      "MorseNet2-Min grad norm: 0.000000\n",
      "MorseNet2-Current LR: 0.000003\n",
      "---- MorseNet2-Train Loss: 0.1768\n",
      "---- MorseNet2-Val Loss: 0.1621\n",
      "--------------------------------------------------\n"
     ]
    },
    {
     "name": "stderr",
     "output_type": "stream",
     "text": [
      "                                                                                    \r"
     ]
    },
    {
     "name": "stdout",
     "output_type": "stream",
     "text": [
      "\n",
      "===== MorseNet3-Эпоха 43/50  =====\n",
      "MorseNet3-Mean grad norm: 0.078283\n",
      "MorseNet3-Max grad norm: 0.518998\n",
      "MorseNet3-Min grad norm: 0.000000\n",
      "MorseNet3-Current LR: 0.000003\n",
      "---- MorseNet3-Train Loss: 0.1564\n",
      "---- MorseNet3-Val Loss: 0.2455\n",
      "--------------------------------------------------\n"
     ]
    },
    {
     "name": "stderr",
     "output_type": "stream",
     "text": [
      "                                                                                    \r"
     ]
    },
    {
     "name": "stdout",
     "output_type": "stream",
     "text": [
      "\n",
      "===== MorseNet1-Эпоха 44/50  =====\n",
      "MorseNet1-Mean grad norm: 0.095580\n",
      "MorseNet1-Max grad norm: 0.526725\n",
      "MorseNet1-Min grad norm: 0.000000\n",
      "MorseNet1-Current LR: 0.000006\n",
      "---- MorseNet1-Train Loss: 0.1612\n",
      "---- MorseNet1-Val Loss: 0.1523\n",
      "--------------------------------------------------\n"
     ]
    },
    {
     "name": "stderr",
     "output_type": "stream",
     "text": [
      "                                                                                    \r"
     ]
    },
    {
     "name": "stdout",
     "output_type": "stream",
     "text": [
      "\n",
      "===== MorseNet2-Эпоха 44/50  =====\n",
      "MorseNet2-Mean grad norm: 0.068686\n",
      "MorseNet2-Max grad norm: 0.527350\n",
      "MorseNet2-Min grad norm: 0.000000\n",
      "MorseNet2-Current LR: 0.000003\n",
      "---- MorseNet2-Train Loss: 0.1764\n",
      "---- MorseNet2-Val Loss: 0.1605\n",
      "--------------------------------------------------\n"
     ]
    },
    {
     "name": "stderr",
     "output_type": "stream",
     "text": [
      "                                                                                    \r"
     ]
    },
    {
     "name": "stdout",
     "output_type": "stream",
     "text": [
      "\n",
      "===== MorseNet3-Эпоха 44/50  =====\n",
      "MorseNet3-Mean grad norm: 0.079697\n",
      "MorseNet3-Max grad norm: 0.503597\n",
      "MorseNet3-Min grad norm: 0.000000\n",
      "MorseNet3-Current LR: 0.000003\n",
      "---- MorseNet3-Train Loss: 0.1553\n",
      "---- MorseNet3-Val Loss: 0.2472\n",
      "--------------------------------------------------\n"
     ]
    },
    {
     "name": "stderr",
     "output_type": "stream",
     "text": [
      "                                                                                    \r"
     ]
    },
    {
     "name": "stdout",
     "output_type": "stream",
     "text": [
      "\n",
      "===== MorseNet1-Эпоха 45/50  =====\n",
      "MorseNet1-Mean grad norm: 0.081043\n",
      "MorseNet1-Max grad norm: 0.577929\n",
      "MorseNet1-Min grad norm: 0.000000\n",
      "MorseNet1-Current LR: 0.000006\n",
      "---- MorseNet1-Train Loss: 0.1613\n",
      "---- MorseNet1-Val Loss: 0.1518\n",
      "--------------------------------------------------\n"
     ]
    },
    {
     "name": "stderr",
     "output_type": "stream",
     "text": [
      "                                                                                    \r"
     ]
    },
    {
     "name": "stdout",
     "output_type": "stream",
     "text": [
      "\n",
      "===== MorseNet2-Эпоха 45/50  =====\n",
      "MorseNet2-Mean grad norm: 0.071678\n",
      "MorseNet2-Max grad norm: 0.562554\n",
      "MorseNet2-Min grad norm: 0.000000\n",
      "MorseNet2-Current LR: 0.000003\n",
      "---- MorseNet2-Train Loss: 0.1759\n",
      "---- MorseNet2-Val Loss: 0.1616\n",
      "--------------------------------------------------\n"
     ]
    },
    {
     "name": "stderr",
     "output_type": "stream",
     "text": [
      "                                                                                    \r"
     ]
    },
    {
     "name": "stdout",
     "output_type": "stream",
     "text": [
      "\n",
      "===== MorseNet3-Эпоха 45/50  =====\n",
      "MorseNet3-Mean grad norm: 0.073421\n",
      "MorseNet3-Max grad norm: 0.569485\n",
      "MorseNet3-Min grad norm: 0.000000\n",
      "MorseNet3-Current LR: 0.000002\n",
      "---- MorseNet3-Train Loss: 0.1531\n",
      "---- MorseNet3-Val Loss: 0.2495\n",
      "--------------------------------------------------\n"
     ]
    },
    {
     "name": "stderr",
     "output_type": "stream",
     "text": [
      "                                                                                    \r"
     ]
    },
    {
     "name": "stdout",
     "output_type": "stream",
     "text": [
      "\n",
      "===== MorseNet1-Эпоха 46/50  =====\n",
      "MorseNet1-Mean grad norm: 0.075325\n",
      "MorseNet1-Max grad norm: 0.667169\n",
      "MorseNet1-Min grad norm: 0.000000\n",
      "MorseNet1-Current LR: 0.000006\n",
      "---- MorseNet1-Train Loss: 0.1610\n",
      "---- MorseNet1-Val Loss: 0.1525\n",
      "--------------------------------------------------\n"
     ]
    },
    {
     "name": "stderr",
     "output_type": "stream",
     "text": [
      "                                                                                    \r"
     ]
    },
    {
     "name": "stdout",
     "output_type": "stream",
     "text": [
      "\n",
      "===== MorseNet2-Эпоха 46/50  =====\n",
      "MorseNet2-Mean grad norm: 0.073554\n",
      "MorseNet2-Max grad norm: 0.505747\n",
      "MorseNet2-Min grad norm: 0.000000\n",
      "MorseNet2-Current LR: 0.000003\n",
      "---- MorseNet2-Train Loss: 0.1739\n",
      "---- MorseNet2-Val Loss: 0.1601\n",
      "--------------------------------------------------\n"
     ]
    },
    {
     "name": "stderr",
     "output_type": "stream",
     "text": [
      "                                                                                    \r"
     ]
    },
    {
     "name": "stdout",
     "output_type": "stream",
     "text": [
      "\n",
      "===== MorseNet3-Эпоха 46/50  =====\n",
      "MorseNet3-Mean grad norm: 0.075280\n",
      "MorseNet3-Max grad norm: 0.531722\n",
      "MorseNet3-Min grad norm: 0.000000\n",
      "MorseNet3-Current LR: 0.000002\n",
      "---- MorseNet3-Train Loss: 0.1555\n",
      "---- MorseNet3-Val Loss: 0.2485\n",
      "--------------------------------------------------\n"
     ]
    },
    {
     "name": "stderr",
     "output_type": "stream",
     "text": [
      "                                                                                    \r"
     ]
    },
    {
     "name": "stdout",
     "output_type": "stream",
     "text": [
      "\n",
      "===== MorseNet1-Эпоха 47/50  =====\n",
      "MorseNet1-Mean grad norm: 0.094970\n",
      "MorseNet1-Max grad norm: 0.496401\n",
      "MorseNet1-Min grad norm: 0.000000\n",
      "MorseNet1-Current LR: 0.000006\n",
      "---- MorseNet1-Train Loss: 0.1575\n",
      "---- MorseNet1-Val Loss: 0.1530\n",
      "--------------------------------------------------\n"
     ]
    },
    {
     "name": "stderr",
     "output_type": "stream",
     "text": [
      "                                                                                    \r"
     ]
    },
    {
     "name": "stdout",
     "output_type": "stream",
     "text": [
      "\n",
      "===== MorseNet2-Эпоха 47/50  =====\n",
      "MorseNet2-Mean grad norm: 0.070300\n",
      "MorseNet2-Max grad norm: 0.549703\n",
      "MorseNet2-Min grad norm: 0.000000\n",
      "MorseNet2-Current LR: 0.000002\n",
      "---- MorseNet2-Train Loss: 0.1753\n",
      "---- MorseNet2-Val Loss: 0.1608\n",
      "--------------------------------------------------\n"
     ]
    },
    {
     "name": "stderr",
     "output_type": "stream",
     "text": [
      "                                                                                    \r"
     ]
    },
    {
     "name": "stdout",
     "output_type": "stream",
     "text": [
      "\n",
      "===== MorseNet3-Эпоха 47/50  =====\n",
      "MorseNet3-Mean grad norm: 0.075836\n",
      "MorseNet3-Max grad norm: 0.516502\n",
      "MorseNet3-Min grad norm: 0.000000\n",
      "MorseNet3-Current LR: 0.000002\n",
      "---- MorseNet3-Train Loss: 0.1543\n",
      "---- MorseNet3-Val Loss: 0.2485\n",
      "--------------------------------------------------\n"
     ]
    },
    {
     "name": "stderr",
     "output_type": "stream",
     "text": [
      "                                                                                    \r"
     ]
    },
    {
     "name": "stdout",
     "output_type": "stream",
     "text": [
      "\n",
      "===== MorseNet1-Эпоха 48/50  =====\n",
      "MorseNet1-Mean grad norm: 0.077664\n",
      "MorseNet1-Max grad norm: 0.583068\n",
      "MorseNet1-Min grad norm: 0.000000\n",
      "MorseNet1-Current LR: 0.000003\n",
      "---- MorseNet1-Train Loss: 0.1588\n",
      "---- MorseNet1-Val Loss: 0.1516\n",
      "--------------------------------------------------\n"
     ]
    },
    {
     "name": "stderr",
     "output_type": "stream",
     "text": [
      "                                                                                    \r"
     ]
    },
    {
     "name": "stdout",
     "output_type": "stream",
     "text": [
      "\n",
      "===== MorseNet2-Эпоха 48/50  =====\n",
      "MorseNet2-Mean grad norm: 0.068160\n",
      "MorseNet2-Max grad norm: 0.642515\n",
      "MorseNet2-Min grad norm: 0.000000\n",
      "MorseNet2-Current LR: 0.000002\n",
      "---- MorseNet2-Train Loss: 0.1755\n",
      "---- MorseNet2-Val Loss: 0.1605\n",
      "--------------------------------------------------\n"
     ]
    },
    {
     "name": "stderr",
     "output_type": "stream",
     "text": [
      "                                                                                    \r"
     ]
    },
    {
     "name": "stdout",
     "output_type": "stream",
     "text": [
      "\n",
      "===== MorseNet3-Эпоха 48/50  =====\n",
      "MorseNet3-Mean grad norm: 0.076698\n",
      "MorseNet3-Max grad norm: 0.509039\n",
      "MorseNet3-Min grad norm: 0.000000\n",
      "MorseNet3-Current LR: 0.000002\n",
      "---- MorseNet3-Train Loss: 0.1546\n",
      "---- MorseNet3-Val Loss: 0.2500\n",
      "--------------------------------------------------\n"
     ]
    },
    {
     "name": "stderr",
     "output_type": "stream",
     "text": [
      "                                                                                    \r"
     ]
    },
    {
     "name": "stdout",
     "output_type": "stream",
     "text": [
      "\n",
      "===== MorseNet1-Эпоха 49/50  =====\n",
      "MorseNet1-Mean grad norm: 0.074312\n",
      "MorseNet1-Max grad norm: 0.599868\n",
      "MorseNet1-Min grad norm: 0.000000\n",
      "MorseNet1-Current LR: 0.000003\n",
      "---- MorseNet1-Train Loss: 0.1583\n",
      "---- MorseNet1-Val Loss: 0.1522\n",
      "--------------------------------------------------\n"
     ]
    },
    {
     "name": "stderr",
     "output_type": "stream",
     "text": [
      "                                                                                    \r"
     ]
    },
    {
     "name": "stdout",
     "output_type": "stream",
     "text": [
      "\n",
      "===== MorseNet2-Эпоха 49/50  =====\n",
      "MorseNet2-Mean grad norm: 0.070619\n",
      "MorseNet2-Max grad norm: 0.510262\n",
      "MorseNet2-Min grad norm: 0.000000\n",
      "MorseNet2-Current LR: 0.000002\n",
      "---- MorseNet2-Train Loss: 0.1749\n",
      "---- MorseNet2-Val Loss: 0.1605\n",
      "--------------------------------------------------\n"
     ]
    },
    {
     "name": "stderr",
     "output_type": "stream",
     "text": [
      "                                                                                    \r"
     ]
    },
    {
     "name": "stdout",
     "output_type": "stream",
     "text": [
      "\n",
      "===== MorseNet3-Эпоха 49/50  =====\n",
      "MorseNet3-Mean grad norm: 0.078629\n",
      "MorseNet3-Max grad norm: 0.473791\n",
      "MorseNet3-Min grad norm: 0.000000\n",
      "MorseNet3-Current LR: 0.000001\n",
      "---- MorseNet3-Train Loss: 0.1557\n",
      "---- MorseNet3-Val Loss: 0.2476\n",
      "Learning rate достиг минимума 1e-6, остановка обучения MorseNet3\n"
     ]
    },
    {
     "name": "stderr",
     "output_type": "stream",
     "text": [
      "                                                                                    \r"
     ]
    },
    {
     "name": "stdout",
     "output_type": "stream",
     "text": [
      "\n",
      "===== MorseNet1-Эпоха 50/50  =====\n",
      "MorseNet1-Mean grad norm: 0.079587\n",
      "MorseNet1-Max grad norm: 0.560447\n",
      "MorseNet1-Min grad norm: 0.000000\n",
      "MorseNet1-Current LR: 0.000003\n",
      "---- MorseNet1-Train Loss: 0.1626\n",
      "---- MorseNet1-Val Loss: 0.1518\n",
      "--------------------------------------------------\n"
     ]
    },
    {
     "name": "stderr",
     "output_type": "stream",
     "text": [
      "                                                                                    \r"
     ]
    },
    {
     "name": "stdout",
     "output_type": "stream",
     "text": [
      "\n",
      "===== MorseNet2-Эпоха 50/50  =====\n",
      "MorseNet2-Mean grad norm: 0.064141\n",
      "MorseNet2-Max grad norm: 0.486465\n",
      "MorseNet2-Min grad norm: 0.000000\n",
      "MorseNet2-Current LR: 0.000002\n",
      "---- MorseNet2-Train Loss: 0.1784\n",
      "---- MorseNet2-Val Loss: 0.1598\n",
      "--------------------------------------------------\n"
     ]
    },
    {
     "name": "stderr",
     "output_type": "stream",
     "text": [
      "                                                                                    "
     ]
    },
    {
     "name": "stdout",
     "output_type": "stream",
     "text": [
      "\n",
      "===== MorseNet3-Эпоха 50/50  =====\n",
      "MorseNet3-Mean grad norm: 0.074024\n",
      "MorseNet3-Max grad norm: 0.548199\n",
      "MorseNet3-Min grad norm: 0.000000\n",
      "MorseNet3-Current LR: 0.000001\n",
      "---- MorseNet3-Train Loss: 0.1557\n",
      "---- MorseNet3-Val Loss: 0.2468\n",
      "Learning rate достиг минимума 1e-6, остановка обучения MorseNet3\n"
     ]
    },
    {
     "name": "stderr",
     "output_type": "stream",
     "text": [
      "\r"
     ]
    }
   ],
   "source": [
    "dict_loss_train = {\n",
    "    'MorseNet1': 0,\n",
    "    'MorseNet2':0,\n",
    "    'MorseNet3':0\n",
    "}\n",
    "\n",
    "dict_loss_val = {\n",
    "    'MorseNet1': 0,\n",
    "    'MorseNet2':0,\n",
    "    'MorseNet3':0\n",
    "}\n",
    "for epoch in range(EPOCHS):\n",
    "\n",
    "    for model, optimizer, scheduler in zip(models, optimizers, schedulers):\n",
    "        model.train()\n",
    "        model_name = model.name()\n",
    "        epoch_train_loss = 0.0\n",
    "        train_predicts = []\n",
    "\n",
    "        train_tqdm = tqdm(train_dl, desc=f\"{model_name}-Эпоха {epoch+1}/{EPOCHS} [Обучение]\", leave=False)\n",
    "        for batch_ind, batch in enumerate(train_tqdm):\n",
    "            mel_spec, targets, targets_lens, _ = batch\n",
    "            mel_spec, targets, targets_lens = mel_spec.to(DIVICE), targets.to(DIVICE), targets_lens.to(DIVICE)\n",
    "\n",
    "            #===== считатем длинну mel_spec для передачи в CTC loss =====\n",
    "            \n",
    "            optimizer.zero_grad()\n",
    "            predict = model(mel_spec) # (N=batch,T,C)\n",
    "            N = predict.shape[1]\n",
    "            T = predict.shape[0]\n",
    "            predict_lengths = torch.full(size=(N,), fill_value=T, dtype=torch.long)\n",
    "\n",
    "            try:\n",
    "                loss = loss_func(predict, targets, predict_lengths, targets_lens.reshape(BATCH_SIZE))\n",
    "            except RuntimeError:\n",
    "                print(predict.shape, targets.shape, predict_lengths, targets_lens.reshape(BATCH_SIZE))\n",
    "                continue\n",
    "            # print(loss)\n",
    "            if torch.isnan(loss) or torch.isinf(loss): \n",
    "                print(f\"\\nWarning: In batch-{batch_ind} loss train is NaN/Inf: {loss.item()}\"); \n",
    "                optimizer.zero_grad(); \n",
    "                continue\n",
    "\n",
    "            loss.backward()\n",
    "            nn.utils.clip_grad_norm_(model.parameters(), max_norm=1.0)\n",
    "            optimizer.step()\n",
    "\n",
    "            epoch_train_loss += loss.item()\n",
    "\n",
    "        train_loss = epoch_train_loss / len(train_dl)\n",
    "\n",
    "        # ======== Валидация ========\n",
    "        model.eval()\n",
    "        val_loss = 0.0\n",
    "        total_val = 0\n",
    "        val_predicts = []\n",
    "\n",
    "        with torch.no_grad():\n",
    "            for val_mel_spec, val_labels, val_label_lensin, _ in tqdm(\n",
    "                                                            val_dl, \n",
    "                                                            desc=f\"{model_name}-Эпоха {epoch+1}/{EPOCHS} [Валидация]\", \n",
    "                                                            leave=False):\n",
    "                val_mel_spec, val_labels, val_label_lensin = val_mel_spec.to(DIVICE), val_labels.to(DIVICE), val_label_lensin.to(DIVICE)\n",
    "                val_predict = model(val_mel_spec)\n",
    "\n",
    "                val_N = val_predict.shape[1]\n",
    "                val_T = val_predict.shape[0]\n",
    "                predict_val_lengths = torch.full(size=(val_N,), fill_value=val_T, dtype=torch.long)\n",
    "                val_loss += loss_func(val_predict, val_labels, predict_val_lengths, val_label_lensin).item()\n",
    "\n",
    "        total_val = val_loss / len(val_dl)\n",
    "\n",
    "        dict_loss_train[model_name] = train_loss\n",
    "        dict_loss_val[model_name] = total_val\n",
    "\n",
    "        scheduler.step(total_val)\n",
    "    \n",
    "\n",
    "        print(f\"\\n===== {model_name}-Эпоха {epoch+1}/{EPOCHS}  =====\")\\\n",
    "        #===== Инфо про градиенты=====\n",
    "        grad_norms = [param.grad.norm().item() for param in model.parameters() if param.grad is not None]\n",
    "        if grad_norms:\n",
    "            print(f\"{model_name}-Mean grad norm: {np.mean(grad_norms):.6f}\")\n",
    "            print(f\"{model_name}-Max grad norm: {np.max(grad_norms):.6f}\")\n",
    "            print(f\"{model_name}-Min grad norm: {np.min(grad_norms):.6f}\")\n",
    "        else:\n",
    "            print(\"No gradients computed yet.\")\n",
    "        #===== Инфо про шаг обучения и данные по потерям =====\n",
    "        current_lr = optimizer.param_groups[0]['lr']\n",
    "        print(f\"{model_name}-Current LR: {current_lr:.6f}\")\n",
    "        print(f\"---- {model_name}-Train Loss: {train_loss:.4f}\")\n",
    "        print(f\"---- {model_name}-Val Loss: {total_val:.4f}\")\n",
    "        if current_lr <= 1e-6:\n",
    "            print(f\"Learning rate достиг минимума 1e-6, остановка обучения {model_name}\")\n",
    "            break\n",
    "        print(\"-\" * 50)"
   ]
  },
  {
   "cell_type": "code",
   "execution_count": 5,
   "id": "ca52e14e",
   "metadata": {},
   "outputs": [],
   "source": [
    "for model in models:\n",
    "    torch.save(model.state_dict(), f'{model.name()}.pth')"
   ]
  },
  {
   "cell_type": "code",
   "execution_count": 6,
   "id": "c0f85d59",
   "metadata": {},
   "outputs": [
    {
     "data": {
      "text/plain": [
       "{'MorseNet1': 0.16256143985756077,\n",
       " 'MorseNet2': 0.1784485173247867,\n",
       " 'MorseNet3': 0.1556637665659339}"
      ]
     },
     "execution_count": 6,
     "metadata": {},
     "output_type": "execute_result"
    }
   ],
   "source": [
    "dict_loss_train"
   ]
  },
  {
   "cell_type": "code",
   "execution_count": 7,
   "id": "f3e2e1fe",
   "metadata": {},
   "outputs": [
    {
     "data": {
      "text/plain": [
       "{'MorseNet1': 0.15180968195865197,\n",
       " 'MorseNet2': 0.15983610460534692,\n",
       " 'MorseNet3': 0.24684245895062173}"
      ]
     },
     "execution_count": 7,
     "metadata": {},
     "output_type": "execute_result"
    }
   ],
   "source": [
    "dict_loss_val"
   ]
  },
  {
   "cell_type": "code",
   "execution_count": null,
   "id": "1547a2ff",
   "metadata": {},
   "outputs": [
    {
     "data": {
      "image/png": "[encoded data removed]",
      "text/plain": [
       "<Figure size 640x480 with 1 Axes>"
      ]
     },
     "metadata": {},
     "output_type": "display_data"
    }
   ],
   "source": [
    "for name \n",
    "plt.plot(lst_loss_train)\n",
    "plt.plot(lst_loss_val)\n",
    "plt.grid()\n",
    "plt.show()"
   ]
  },
  {
   "cell_type": "code",
   "execution_count": 2,
   "id": "45f65295",
   "metadata": {},
   "outputs": [
    {
     "name": "stdout",
     "output_type": "stream",
     "text": [
      "CNN размерность выхода: torch.Size([1, 32, 16, 89])\n",
      "CNN число фичей: 512\n",
      "Проекция из 512 в 512\n",
      "CNN размерность выхода: torch.Size([1, 32, 32, 89])\n",
      "CNN число фичей: 1024\n",
      "Mean accurasu by The Levenshtein in train is : 0.9538611159239184\n",
      "Mean accurasu by The Levenshtein in validate is : 0.9686582025302473\n"
     ]
    }
   ],
   "source": [
    "def ctc_decoder(logits, int_char_map, blank_label_idx):\n",
    "    preds = []\n",
    "    logits_cpu = logits.cpu()\n",
    "    max_inds = torch.argmax(logits_cpu.detach(), dim=2).t().numpy()\n",
    "\n",
    "    for ind in max_inds:\n",
    "        merged_inds = []\n",
    "        prev_idx = None\n",
    "        for idx in ind:\n",
    "            if idx != blank_label_idx and idx != prev_idx:\n",
    "                merged_inds.append(idx)\n",
    "            prev_idx = idx\n",
    "        text = \"\".join([int_char_map.get(i, '') for i in merged_inds])\n",
    "        preds.append(text)\n",
    "\n",
    "    return preds\n",
    "\n",
    "model_tload = [\n",
    "    MorseNet(num_classes=num_classes),\n",
    "    MorseNet2(num_classes=num_classes)\n",
    "]\n",
    "\n",
    "loaded_models = []\n",
    "for _model in model_tload:\n",
    "    loaded_model = _model.load_state_dict(torch.load(f'{_model.name()}.pth'))\n",
    "    loaded_models.append(_model)\n",
    "# model_load = MorseNet(num_classes=num_classes)\n",
    "# model_load.load_state_dict(torch.load('MorseNet_0.89.pth'))\n",
    "# model_load.eval()\n",
    "\n",
    "with torch.no_grad():\n",
    "    train_mess = []\n",
    "    train_predicts = []\n",
    "\n",
    "    for loader in train_dl:\n",
    "        one_loader_out = []\n",
    "        seq, test_target, _, mess = loader\n",
    "        train_mess.extend(mess)\n",
    "\n",
    "        for _model in loaded_models:\n",
    "            _model.eval()\n",
    "            logits = _model(seq)\n",
    "            if isinstance(one_loader_out, list):\n",
    "                one_loader_out = logits\n",
    "            else:\n",
    "                one_loader_out + logits\n",
    "                \n",
    "        mean_by_outs = one_loader_out / 2\n",
    "\n",
    "        predicted_values = ctc_decoder(mean_by_outs, int_to_char, BLANK_IDX)\n",
    "        train_predicts.extend(predicted_values)\n",
    "\n",
    "    val_mess = []\n",
    "    val_predicts = []\n",
    "\n",
    "    for loader in val_dl :\n",
    "        one_loader_out = []\n",
    "        seq, test_target, _, mess = loader\n",
    "        val_mess.extend(mess)\n",
    "\n",
    "        for _model in loaded_models:\n",
    "            _model.eval()\n",
    "            logits = _model(seq)\n",
    "            if isinstance(one_loader_out, list):\n",
    "                one_loader_out = logits\n",
    "            else:\n",
    "                one_loader_out + logits\n",
    "\n",
    "        mean_by_outs = one_loader_out / 2\n",
    "\n",
    "        predicted_values = ctc_decoder(mean_by_outs, int_to_char, BLANK_IDX)\n",
    "        val_predicts.extend(predicted_values)\n",
    "\n",
    "import Levenshtein\n",
    "\n",
    "mean_acc_test = np.mean([Levenshtein.ratio(test_pred, train_mess[ind]) for ind, test_pred in enumerate(train_predicts)])\n",
    "mean_acc_val = np.mean([Levenshtein.ratio(val_pred, val_mess[ind]) for ind, val_pred in enumerate(val_predicts)])\n",
    "\n",
    "\n",
    "print(f\"Mean accurasu by The Levenshtein in train is : {mean_acc_test}\")\n",
    "print(f\"Mean accurasu by The Levenshtein in validate is : {mean_acc_val}\")\n",
    "\n",
    "test_ds = MosreDataset(df=sample_data,\n",
    "                        data_patch=DATASET_PATCH,\n",
    "                        char_to_int=char_to_int,\n",
    "                        train=False,\n",
    "                        transforms=valid_audio_transforms)\n",
    "\n",
    "test_dl = torch.utils.data.DataLoader(test_ds, batch_size=20, shuffle=False, collate_fn=my_collate)\n",
    "\n",
    "with torch.no_grad():\n",
    "    test_predicts = []\n",
    "    for loader in test_dl:\n",
    "        one_loader_out = []\n",
    "        seq = loader\n",
    "\n",
    "        for _model in loaded_models:\n",
    "            _model.eval()\n",
    "            logits = _model(seq)\n",
    "            if isinstance(one_loader_out, list):\n",
    "                one_loader_out = logits\n",
    "            else:\n",
    "                one_loader_out + logits\n",
    "\n",
    "        mean_by_outs = one_loader_out / 2\n",
    "\n",
    "        predicted_values = ctc_decoder(mean_by_outs, int_to_char, BLANK_IDX)\n",
    "        test_predicts.extend(predicted_values)\n",
    "\n",
    "sample_data.message = test_predicts\n",
    "sample_data.to_csv('sample_submission.csv', index=False)\n"
   ]
  },
  {
   "cell_type": "markdown",
   "id": "f49ca828",
   "metadata": {},
   "source": [
    "# Сбор sample_submission"
   ]
  },
  {
   "cell_type": "code",
   "execution_count": null,
   "id": "c85e44a4",
   "metadata": {},
   "outputs": [
    {
     "name": "stdout",
     "output_type": "stream",
     "text": [
      "CNN размерность выхода: torch.Size([1, 32, 16, 89])\n",
      "CNN число фичей: 512\n",
      "Проекция из 512 в 512\n"
     ]
    }
   ],
   "source": [
    "def ctc_decoder(logits, int_char_map, blank_label_idx):\n",
    "    preds = []\n",
    "    logits_cpu = logits.cpu()\n",
    "    max_inds = torch.argmax(logits_cpu.detach(), dim=2).t().numpy()\n",
    "\n",
    "    for ind in max_inds:\n",
    "        merged_inds = []\n",
    "        prev_idx = None\n",
    "        for idx in ind:\n",
    "            if idx != blank_label_idx and idx != prev_idx:\n",
    "                merged_inds.append(idx)\n",
    "            prev_idx = idx\n",
    "        text = \"\".join([int_char_map.get(i, '') for i in merged_inds])\n",
    "        preds.append(text)\n",
    "\n",
    "    return preds\n",
    "\n",
    "model_tload = [\n",
    "    MorseNet(num_classes=num_classes),\n",
    "    MorseNet2(num_classes=num_classes)\n",
    "]\n",
    "\n",
    "loaded_models = []\n",
    "for _model in model_tload:\n",
    "    loaded_model = _model.load_state_dict(torch.load(f'{_model.name()}.pth'))\n",
    "    loaded_models.append(_model)\n",
    "\n",
    "\n",
    "test_ds = MosreDataset(df=sample_data,\n",
    "                        data_patch=DATASET_PATCH,\n",
    "                        char_to_int=char_to_int,\n",
    "                        train=False,\n",
    "                        transforms=valid_audio_transforms)\n",
    "\n",
    "\n",
    "test_dl = torch.utils.data.DataLoader(test_ds, batch_size=20, shuffle=False, collate_fn=my_collate)\n",
    "\n",
    "with torch.no_grad():\n",
    "    test_predicts = []\n",
    "    for loader in test_dl:\n",
    "        one_loader_out = []\n",
    "        seq, test_target, _, mess = loader\n",
    "        val_mess.extend(mess)\n",
    "\n",
    "        for _model in loaded_models:\n",
    "            _model.eval()\n",
    "            logits = _model(seq)\n",
    "            if isinstance(one_loader_out, list):\n",
    "                one_loader_out = logits\n",
    "            else:\n",
    "                one_loader_out + logits\n",
    "\n",
    "        mean_by_outs = one_loader_out / 2\n",
    "\n",
    "        predicted_values = ctc_decoder(mean_by_outs, int_to_char, BLANK_IDX)\n",
    "        test_predicts.extend(predicted_values)\n",
    "\n",
    "sample_data.message = test_predicts\n",
    "sample_data.to_csv('sample_submission.csv', index=False)"
   ]
  },
  {
   "cell_type": "markdown",
   "id": "d414d589",
   "metadata": {},
   "source": [
    "# тест отдельной третей"
   ]
  },
  {
   "cell_type": "code",
   "execution_count": 4,
   "id": "532a2fd5",
   "metadata": {},
   "outputs": [],
   "source": [
    "def ctc_decoder(logits, int_char_map, blank_label_idx):\n",
    "    preds = []\n",
    "    logits_cpu = logits.cpu()\n",
    "    max_inds = torch.argmax(logits_cpu.detach(), dim=2).t().numpy()\n",
    "\n",
    "    for ind in max_inds:\n",
    "        merged_inds = []\n",
    "        prev_idx = None\n",
    "        for idx in ind:\n",
    "            if idx != blank_label_idx and idx != prev_idx:\n",
    "                merged_inds.append(idx)\n",
    "            prev_idx = idx\n",
    "        text = \"\".join([int_char_map.get(i, '') for i in merged_inds])\n",
    "        preds.append(text)\n",
    "\n",
    "    return preds\n",
    "\n",
    "model_load = MorseNet3(num_classes=num_classes)\n",
    "model_load.load_state_dict(torch.load('MorseNet3.pth'))\n",
    "model_load.eval()\n",
    "\n",
    "test_ds = MosreDataset(df=sample_data,\n",
    "                        data_patch=DATASET_PATCH,\n",
    "                        char_to_int=char_to_int,\n",
    "                        train=False,\n",
    "                        transforms=valid_audio_transforms)\n",
    "\n",
    "test_dl = torch.utils.data.DataLoader(test_ds, batch_size=20, shuffle=False, collate_fn=my_collate)\n",
    "model_load.eval()\n",
    "\n",
    "with torch.no_grad():\n",
    "    test_predicts = []\n",
    "    for loader in test_dl:\n",
    "        seq = loader\n",
    "        logits = model_load(seq)\n",
    "        predicted_values = ctc_decoder(logits, int_to_char, BLANK_IDX)\n",
    "        test_predicts.extend(predicted_values)\n",
    "\n",
    "sample_data.message = test_predicts\n",
    "sample_data.to_csv('sample_submission.csv', index=False)"
   ]
  }
 ],
 "metadata": {
  "kernelspec": {
   "display_name": "Morse_decoder_V2",
   "language": "python",
   "name": "python3"
  },
  "language_info": {
   "codemirror_mode": {
    "name": "ipython",
    "version": 3
   },
   "file_extension": ".py",
   "mimetype": "text/x-python",
   "name": "python",
   "nbconvert_exporter": "python",
   "pygments_lexer": "ipython3",
   "version": "3.12.0"
  }
 },
 "nbformat": 4,
 "nbformat_minor": 5
}
