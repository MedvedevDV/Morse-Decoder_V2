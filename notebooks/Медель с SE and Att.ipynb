{
 "cells": [
  {
   "cell_type": "code",
   "execution_count": 10,
   "id": "b9b8de53",
   "metadata": {},
   "outputs": [],
   "source": [
    "import numpy as np\n",
    "import pandas as pd\n",
    "import os\n",
    "import random\n",
    "from pathlib import Path as pt\n",
    "import torch\n",
    "import torchaudio\n",
    "from torch import nn\n",
    "import torch.optim as optim\n",
    "from torch.utils.data import Dataset, DataLoader, random_split\n",
    "from torchaudio import transforms\n",
    "from torchvision.transforms import v2\n",
    "# from Moduls.MosreDataset import MosreDataset\n",
    "from sklearn.model_selection import train_test_split\n",
    "import matplotlib.pyplot as plt\n",
    "from tqdm import tqdm\n",
    "from torch.nn.parallel import DataParallel\n",
    "from collections import Counter\n",
    "\n",
    "DIVICE = torch.device(\"cuda\")\n",
    "\n",
    "MAIN = pt(os.getcwd())\n",
    "DATASET_PATH = MAIN / 'morse_dataset'\n",
    "AUDIO_FILES = DATASET_PATH / 'morse_dataset'\n",
    "SAVE_DIR = DATASET_PATH / 'spectrogram'\n",
    "\n",
    "# Поятоянные значения выявленные в процессе анализа\n",
    "MORSEALP = \"АБВГДЕЁЖЗИЙКЛМНОПРСТУФХЦЧШЩЪЫЬЭЮЯ 1234567890#\"\n",
    "MAX_TIME = 48\n",
    "SAMPLE_RATE = 8000\n",
    "N_MELS = 128\n",
    "N_FFT = 400\n",
    "HOP_LENGTH = 180\n",
    "TOP_DB = 80\n",
    "FREQ_MASK = 30\n",
    "TIME_MASK = 40\n",
    "\n",
    "# Гиперпараметы обучения\n",
    "SEED = 42\n",
    "BATCH_SIZE = 64\n",
    "EPOCHS = 100\n",
    "LEARNING_RATE = 0.0002 #2e-4\n",
    "WEIGHT_DECAY = 0.001\n",
    "# int_to_alph = dict(enumerate(MORSEALP))\n",
    "# alph_to_int = {char:enum for enum, char in int_to_alph.items()}\n",
    "def preload(df, fodl_name):\n",
    "    transform1 = transforms.MelSpectrogram(sample_rate=SAMPLE_RATE,\n",
    "                                      n_fft=N_FFT,\n",
    "                                      hop_length=HOP_LENGTH,\n",
    "                                      n_mels=N_MELS)\n",
    "    \n",
    "    transform2 = transforms.AmplitudeToDB(top_db=TOP_DB)\n",
    "\n",
    "    for idx, row in df.iterrows():\n",
    "        file_id = row[\"id\"]\n",
    "        audio_path = AUDIO_FILES / file_id\n",
    "\n",
    "        try:\n",
    "            waveform, sr = torchaudio.load(audio_path)\n",
    "            mel_spec = transform1(waveform)\n",
    "            mel_spec = transform2(mel_spec)\n",
    "            torch.save(mel_spec, SAVE_DIR/fodl_name/f\"{file_id}.pt\")\n",
    "\n",
    "        except Exception as e:\n",
    "            print(f\"Ошибка в {file_id}: {e}\")\n",
    "\n",
    "#===== Import data =====\n",
    "train_data = pd.read_csv(pt.joinpath(DATASET_PATH,'train.csv'))\n",
    "test_data = pd.read_csv(pt.joinpath(DATASET_PATH,'test.csv'))\n",
    "sample_data = pd.read_csv(pt.joinpath(DATASET_PATH,'sample_submission.csv'))\n",
    "\n",
    "# audio_transforms = nn.Sequential(\n",
    "#     transforms.MelSpectrogram(sample_rate=SAMPLE_RATE, n_fft=N_FFT, hop_length=HOP_LENGTH, n_mels=N_MELS),\n",
    "#     transforms.AmplitudeToDB(top_db=TOP_DB)\n",
    "#     # transforms.FrequencyMasking(freq_mask_param=FREQ_MASK), \n",
    "#     # transforms.TimeMasking(time_mask_param=TIME_MASK), \n",
    "#     )\n",
    "preload(test_data, 'test')\n",
    "\n"
   ]
  },
  {
   "cell_type": "code",
   "execution_count": 1,
   "id": "d761d8f5",
   "metadata": {},
   "outputs": [
    {
     "name": "stdout",
     "output_type": "stream",
     "text": [
      "CNN размерность выхода: torch.Size([1, 64, 16, 89])\n",
      "CNN число фичей: 1024\n",
      "Проекция из 1024 в 1024\n",
      "\n",
      "MorseNet - инициалицация модели. Число обучаемых параметров: 20,358,117\n"
     ]
    }
   ],
   "source": [
    "import numpy as np\n",
    "import pandas as pd\n",
    "import os\n",
    "import random\n",
    "from pathlib import Path as pt\n",
    "import torch\n",
    "import torchaudio\n",
    "from torch import nn\n",
    "import torch.optim as optim\n",
    "from torch.utils.data import Dataset, DataLoader, random_split\n",
    "from torchaudio import transforms\n",
    "from torchvision.transforms import v2\n",
    "# from Moduls.MosreDataset import MosreDataset\n",
    "from sklearn.model_selection import train_test_split\n",
    "import matplotlib.pyplot as plt\n",
    "from tqdm import tqdm\n",
    "from torch.nn.parallel import DataParallel\n",
    "from collections import Counter\n",
    "\n",
    "DIVICE = torch.device(\"cuda\")\n",
    "\n",
    "MAIN = pt(os.getcwd())\n",
    "DATASET_PATH = MAIN / 'morse_dataset'\n",
    "AUDIO_FILES = DATASET_PATH / 'morse_dataset'\n",
    "SAVE_DIR = DATASET_PATH / 'spectrogram'\n",
    "\n",
    "# Поятоянные значения выявленные в процессе анализа\n",
    "MORSEALP = \"АБВГДЕЁЖЗИЙКЛМНОПРСТУФХЦЧШЩЪЫЬЭЮЯ 1234567890#\"\n",
    "MAX_TIME = 48\n",
    "SAMPLE_RATE = 8000\n",
    "N_MELS = 128\n",
    "N_FFT = 400\n",
    "HOP_LENGTH = 180\n",
    "TOP_DB = 80\n",
    "FREQ_MASK = 30\n",
    "TIME_MASK = 40\n",
    "\n",
    "# Гиперпараметы обучения\n",
    "SEED = 42\n",
    "BATCH_SIZE = 64\n",
    "EPOCHS = 100\n",
    "LEARNING_RATE = 0.0002 #2e-4\n",
    "WEIGHT_DECAY = 0.001\n",
    "# int_to_alph = dict(enumerate(MORSEALP))\n",
    "# alph_to_int = {char:enum for enum, char in int_to_alph.items()}\n",
    "\n",
    "#===== Import data =====\n",
    "train_data = pd.read_csv(pt.joinpath(DATASET_PATH,'train.csv'))\n",
    "test_data = pd.read_csv(pt.joinpath(DATASET_PATH,'test.csv'))\n",
    "sample_data = pd.read_csv(pt.joinpath(DATASET_PATH,'sample_submission.csv'))\n",
    "\n",
    "all_chars = Counter(\"\".join(train_data['message']))\n",
    "BLANK_CHAR = \"_\"\n",
    "vocab_list = sorted(all_chars.keys()) + [BLANK_CHAR]\n",
    "num_classes = len(vocab_list)\n",
    "char_to_int = {char: i for i, char in enumerate(vocab_list)}\n",
    "int_to_char = {i: char for i, char in enumerate(vocab_list)}\n",
    "BLANK_IDX = char_to_int[BLANK_CHAR]\n",
    "\n",
    "class MosreDatasetToTest(Dataset):\n",
    "    \"\"\"\n",
    "    Класс для обработки \n",
    "    \"\"\"\n",
    "    def __init__(self, df, data_patch,char_to_int, train=True, transforms=None, prev_chars = 1):\n",
    "        self.df = df\n",
    "        self.is_train = train\n",
    "\n",
    "        self.data_path = data_patch\n",
    "        self.audio_paths = self.data_path / 'morse_dataset'\n",
    "\n",
    "        self.transforms = transforms\n",
    "\n",
    "        self.char_to_int = char_to_int\n",
    "        self.prev_chars = prev_chars\n",
    "\n",
    "        if self.is_train:\n",
    "            self.messeges = self.df.message.values\n",
    "\n",
    "    def __len__(self):\n",
    "        return len(self.df)\n",
    "    \n",
    "    def __getitem__(self, index):\n",
    "        #Получение аугментрованых спектрограмм\n",
    "        try:\n",
    "            file_id = self.df.id.values[index]\n",
    "            spec_path = self.data_path/ f\"{file_id}.pt\"\n",
    "\n",
    "            spectrogram = torch.load(spec_path)\n",
    "            spec_lens = spectrogram.shape[-1]\n",
    "\n",
    "            if self.transforms:\n",
    "                spectrogram = self.transforms(spectrogram)\n",
    "\n",
    "            if self.is_train:\n",
    "                message = self.df.message.values[index]\n",
    "                target = torch.tensor([self.char_to_int[char] for char in message], dtype=torch.long)\n",
    "                target_len = torch.tensor(len(target), dtype=torch.long)\n",
    "                return spectrogram, spec_lens, target, target_len, message\n",
    "            else:\n",
    "                return spectrogram, spec_lens, None, None, None\n",
    "        except Exception as ex:\n",
    "            print(str(ex))\n",
    "            return ex\n",
    "    \n",
    "FIRST_FE_COUNT = 32\n",
    "SECOND_FE_COUNT = 64\n",
    "THIRD_FE_COUNT = 64\n",
    "QAD_FE_COUNT = 64\n",
    "PADDING = 'same'\n",
    "MAXPOOL_KERNEL = 2\n",
    "KERTNEL_SIZE = 3\n",
    "NERON_COUNT = 128\n",
    "GRU_HIDEN = 512\n",
    "# Start with 4 transforms\n",
    "class SEBlock(nn.Module):\n",
    "    def __init__(self, channels, reduction=16):\n",
    "        super().__init__()\n",
    "        self.squeeze = nn.AdaptiveAvgPool2d(1)  # [B, C, 1, 1]\n",
    "        self.excitation = nn.Sequential(\n",
    "            nn.Linear(channels, channels // reduction),  # [B, C/reduction]\n",
    "            nn.GELU(),\n",
    "            nn.Linear(channels // reduction, channels),  # [B, C]\n",
    "            nn.Sigmoid()\n",
    "        )\n",
    "    \n",
    "    def forward(self, x):\n",
    "        B, C, _, _ = x.shape\n",
    "        squeezed = self.squeeze(x).view(B, C)  # [B, C]\n",
    "        weights = self.excitation(squeezed).view(B, C, 1, 1)  # [B, C, 1, 1]\n",
    "        return x * weights # масштабирование\n",
    "    \n",
    "\n",
    "class MorseNet(nn.Module):\n",
    "    def __init__(self, num_classes):\n",
    "        super().__init__()\n",
    "        self.net_conv = nn.Sequential(\n",
    "            nn.Conv2d(in_channels=1, \n",
    "                      out_channels=FIRST_FE_COUNT, \n",
    "                      kernel_size=KERTNEL_SIZE , stride=1, padding=PADDING),\n",
    "            nn.BatchNorm2d(FIRST_FE_COUNT),\n",
    "            nn.Dropout2d(0.2),  # добавлено\n",
    "            SEBlock(FIRST_FE_COUNT, 4),\n",
    "            nn.GELU(),\n",
    "            nn.MaxPool2d((1, 2), (1, 2)), # [batch, FIRST_FE_COUNT = 16, 64, 960]\n",
    "\n",
    "            nn.Conv2d(in_channels=FIRST_FE_COUNT, \n",
    "                      out_channels=SECOND_FE_COUNT, \n",
    "                      kernel_size=KERTNEL_SIZE , stride=1, padding=PADDING),\n",
    "            nn.BatchNorm2d(SECOND_FE_COUNT),\n",
    "            nn.Dropout2d(0.2),  # добавлено\n",
    "            nn.GELU(),\n",
    "            SEBlock(SECOND_FE_COUNT, 8),\n",
    "            nn.MaxPool2d((2, 1), (2, 1)), # [batch, SECOND_FE_COUNT = 32, 32, 480]\n",
    "\n",
    "            nn.Conv2d(in_channels=SECOND_FE_COUNT, \n",
    "                      out_channels=THIRD_FE_COUNT, \n",
    "                      kernel_size=KERTNEL_SIZE , stride=1, padding=PADDING),\n",
    "            nn.BatchNorm2d(THIRD_FE_COUNT),\n",
    "            nn.GELU(),\n",
    "            nn.Dropout2d(0.2),  # добавлено\n",
    "            SEBlock(THIRD_FE_COUNT, 16),\n",
    "            nn.MaxPool2d((2, 2), (2, 2)), # [batch, THIRD_FE_COUNT = 32, 16, 240]\n",
    "\n",
    "            nn.Conv2d(in_channels=THIRD_FE_COUNT, \n",
    "                      out_channels=QAD_FE_COUNT, \n",
    "                      kernel_size=KERTNEL_SIZE , stride=1, padding=PADDING),\n",
    "            nn.BatchNorm2d(QAD_FE_COUNT, 16),\n",
    "            nn.Dropout2d(0.2),  # добавлено\n",
    "            nn.GELU(),\n",
    "            SEBlock(QAD_FE_COUNT),\n",
    "            nn.MaxPool2d((2, 1), (2, 1)) # [batch=32, QAD_FE_COUNT = 32, 16, 89](что юы сохраниить большще признаков по горизонтали)\n",
    "        )\n",
    "        with torch.no_grad(): \n",
    "            dummy_input = torch.randn(1, 1, N_MELS, 356); \n",
    "            cnn_out = self.net_conv(dummy_input); \n",
    "            self.cnn_output_features = cnn_out.shape[1] * cnn_out.shape[2]\n",
    "\n",
    "        print(f\"CNN размерность выхода: {cnn_out.shape}\"); \n",
    "        print(f\"CNN число фичей: {self.cnn_output_features}\")\n",
    "\n",
    "        self.layer1 = nn.Linear(self.cnn_output_features, N_MELS*2); \n",
    "        self.gelu = nn.GELU()\n",
    "\n",
    "        print(f\"Проекция из {self.cnn_output_features} в {GRU_HIDEN*2}\")\n",
    "        self.rnn = nn.LSTM(\n",
    "                input_size=N_MELS*2,\n",
    "                hidden_size=GRU_HIDEN,\n",
    "                num_layers=3,\n",
    "                bidirectional=True,\n",
    "                dropout=0.5,\n",
    "                batch_first=True \n",
    "            )\n",
    "\n",
    "        self.embed_dim = GRU_HIDEN * 2\n",
    "\n",
    "        self.mha = nn.MultiheadAttention(self.embed_dim, 8, dropout=0.3, batch_first=True)\n",
    "\n",
    "        self.dropout = nn.Dropout(0.5) \n",
    "\n",
    "        self.layer_norm = nn.LayerNorm(self.embed_dim)  \n",
    "\n",
    "        self.layer2 = nn.Linear(self.embed_dim, num_classes)     \n",
    "\n",
    "    def _get_output_lengths(self, input_lengths):\n",
    "        output_lengths = torch.floor(input_lengths.float() / 4); \n",
    "        return torch.clamp(output_lengths.long(), min=1).to(DIVICE)\n",
    "    \n",
    "    def forward(self, x, input_lengths):\n",
    "        x = self.net_conv(x)\n",
    "\n",
    "        batch, channels, reduced_mels, reduced_time = x.shape\n",
    "        x = x.permute(0, 3, 1, 2)  # [batch, time, channels, mels]\n",
    "\n",
    "        # В частности, каждый вектор признаков в последовательности признаков генерируется \n",
    "        # слева направо на картах признаков. Это означает, что i-й вектор признаков представляет \n",
    "        # собой объединение столбцов всех карт. \n",
    "        # Таким образом, форма тензора может быть изменена, например, на (размер_пакета, 80, 256)\n",
    "        \n",
    "        x = x.reshape(batch, reduced_time, -1)  # to GRU [batch=32, seq_len=89, features/hiden_dim=512]\n",
    "        x = self.layer1(x)\n",
    "        x = self.gelu(x)\n",
    "        \n",
    "        output_lengths = self._get_output_lengths(input_lengths)\n",
    "        output_lengths.to(DIVICE)\n",
    "        self.rnn.flatten_parameters()\n",
    "        # x = self.layer_norm1(x)\n",
    "        x = self.rnn(x) # [batch=32, seq_len=89, features/hiden_dim=256 * 2]\n",
    "        x, _ = x # берем информацию со всез состояний\n",
    "\n",
    "        #att\n",
    "        max_len = reduced_time; \n",
    "        idx = torch.arange(max_len, device=DIVICE).unsqueeze(0); \n",
    "        key_padding_mask = (idx >= output_lengths.unsqueeze(1))\n",
    "        attenc, _ = self.mha(x, x, x, key_padding_mask=key_padding_mask)\n",
    "        x = x + self.dropout(attenc)\n",
    "        x = self.layer_norm(x)\n",
    "        # x = self.dropout(x)\n",
    "        x = self.layer2(x) # logits - [batch, sequence, num_classes] \n",
    "        x = nn.functional.log_softmax(x.permute(1,0,2), dim=2) # pertime так как CTC loss требует на взод (sequence/T,batch/N,num_classes/C)\n",
    "        '''\n",
    "        по одному прогнозу для каждого из признаков в последовательности, \n",
    "        в итоге получается 89 прогнозов символов для каждой секунды звука.\n",
    "        '''\n",
    "        return x\n",
    "    \n",
    "\n",
    "train_audio_transforms = nn.Sequential(\n",
    "    transforms.FrequencyMasking(freq_mask_param=FREQ_MASK), \n",
    "    transforms.TimeMasking(time_mask_param=TIME_MASK), \n",
    "    )\n",
    "\n",
    "\n",
    "train_dataframe, val_dataframe = train_test_split(train_data, test_size=0.25, random_state=SEED)\n",
    "\n",
    "train_ds = MosreDatasetToTest(df=train_dataframe,\n",
    "                        data_patch=SAVE_DIR/'train',\n",
    "                        char_to_int=char_to_int,\n",
    "                        train=True,\n",
    "                        transforms=train_audio_transforms)\n",
    "\n",
    "val_ds = MosreDatasetToTest(df=val_dataframe,\n",
    "                        data_patch=SAVE_DIR/'train',\n",
    "                        char_to_int=char_to_int,\n",
    "                        train=True)\n",
    "\n",
    "\n",
    "def my_collate(batch):\n",
    "    spectrograms = [item[0].squeeze(0) for item in batch]\n",
    "    # Падинг спектрограмм по максимальной длине\n",
    "    spectrograms_permuted = [s.permute(1, 0) for s in spectrograms]\n",
    "    spectrograms_padded = nn.utils.rnn.pad_sequence(spectrograms_permuted, batch_first=True, padding_value=0.0)\n",
    "    spectrograms_padded = spectrograms_padded.permute(0, 2, 1).unsqueeze(1)\n",
    "    # spec_lens = torch.stack([item[0] for item in batch])\n",
    "    spec_lens = torch.tensor([item[1] for item in batch]).reshape(BATCH_SIZE)\n",
    "    if batch[0][3] is not None:\n",
    "        target = torch.nn.utils.rnn.pad_sequence(\n",
    "                                                [item[2] for item in batch], \n",
    "                                                batch_first=True, \n",
    "                                                padding_value=BLANK_IDX)# выравнивает последовательность до макс \n",
    "                                                                        # длины в батче заполняя пропуски нулем\n",
    "        label_len = torch.stack([item[3] for item in batch])\n",
    "        msg = [item[4] for item in batch]\n",
    "        \n",
    "        return [spectrograms_padded, spec_lens, target, label_len, msg]\n",
    "    else: \n",
    "        return [spectrograms_padded, spec_lens]\n",
    "\n",
    "train_dl = torch.utils.data.DataLoader(train_ds, \n",
    "                                       batch_size=BATCH_SIZE, \n",
    "                                       shuffle=True, \n",
    "                                       collate_fn=my_collate, \n",
    "                                       drop_last=True)\n",
    "val_dl = torch.utils.data.DataLoader(val_ds, \n",
    "                                     batch_size=BATCH_SIZE, \n",
    "                                     shuffle=True, \n",
    "                                     collate_fn=my_collate, \n",
    "                                     drop_last=True)\n",
    "\n",
    "test, test_lens, test_target, _, mess = next(iter(train_dl))\n",
    "test, test_target= test.to(DIVICE), test_target.to(DIVICE)\n",
    "\n",
    "test_val, val_lens, val_target, __, val_mess = next(iter(val_dl))\n",
    "test_val, val_target = test_val.to(DIVICE), val_target.to(DIVICE)\n",
    "# test.shape \n",
    "\n",
    "#===== начало обучения =====\n",
    "model = MorseNet(num_classes=num_classes).to(DIVICE)\n",
    "# model = DataParallel(model)\n",
    "optimizer = optim.Adam(params=model.parameters(), lr=LEARNING_RATE)  # Было 0.002\n",
    "scheduler = optim.lr_scheduler.ReduceLROnPlateau(optimizer, mode='min', factor=0.5, patience=3)\n",
    "loss_func = nn.CTCLoss(blank=BLANK_IDX, reduction='mean', zero_infinity=True).to(DIVICE)\n",
    "\n",
    "total_params = sum(p.numel() for p in model.parameters() if p.requires_grad)\n",
    "print(f\"\\nMorseNet - инициалицация модели. Число обучаемых параметров: {total_params:,}\")"
   ]
  },
  {
   "cell_type": "code",
   "execution_count": 2,
   "id": "9bcbbd50",
   "metadata": {},
   "outputs": [
    {
     "data": {
      "text/plain": [
       "tensor([356, 356, 356, 356, 356, 356, 356, 356, 356, 356, 356, 356, 356, 356,\n",
       "        356, 356, 356, 356, 356, 356, 356, 356, 356, 356, 356, 356, 356, 356,\n",
       "        356, 356, 356, 356, 356, 356, 356, 356, 356, 356, 356, 356, 356, 356,\n",
       "        356, 356, 356, 356, 356, 356, 356, 356, 356, 356, 356, 356, 356, 356,\n",
       "        356, 356, 356, 356, 356, 356, 356, 356])"
      ]
     },
     "execution_count": 2,
     "metadata": {},
     "output_type": "execute_result"
    }
   ],
   "source": [
    "test_lens"
   ]
  },
  {
   "cell_type": "code",
   "execution_count": 3,
   "id": "6d2fbb29",
   "metadata": {},
   "outputs": [
    {
     "data": {
      "text/plain": [
       "torch.Size([89, 64, 45])"
      ]
     },
     "execution_count": 3,
     "metadata": {},
     "output_type": "execute_result"
    }
   ],
   "source": [
    "a = model(test, test_lens)\n",
    "a.shape"
   ]
  },
  {
   "cell_type": "markdown",
   "id": "7fa7f726",
   "metadata": {},
   "source": [
    "# Обучение модели"
   ]
  },
  {
   "cell_type": "code",
   "execution_count": 2,
   "id": "c23dee31",
   "metadata": {},
   "outputs": [],
   "source": [
    "import Levenshtein\n",
    "def ctc_decoder(logits, int_char_map, blank_label_idx):\n",
    "    preds = []\n",
    "    logits_cpu = logits.cpu() \n",
    "    max_inds = torch.argmax(logits_cpu.detach(), dim=2).t().numpy() # арзмакс по лагитам и преобразование к словарю\n",
    "    \n",
    "    for ind in max_inds:\n",
    "        merged_inds = []\n",
    "        for idx in ind:\n",
    "            if idx != blank_label_idx: \n",
    "                merged_inds.append(idx)\n",
    "        text = \"\".join([int_char_map.get(i, '?') for i in merged_inds])\n",
    "        preds.append(text)\n",
    "\n",
    "    return preds\n"
   ]
  },
  {
   "cell_type": "code",
   "execution_count": 2,
   "id": "422ea6ef",
   "metadata": {},
   "outputs": [
    {
     "name": "stderr",
     "output_type": "stream",
     "text": [
      "                                                                          \r"
     ]
    },
    {
     "name": "stdout",
     "output_type": "stream",
     "text": [
      "\n",
      "===== Эпоха 1/100 =====\n",
      "Mean grad norm: 0.023107\n",
      "Max grad norm: 0.978718\n",
      "Min grad norm: 0.000000\n",
      "Current LR: 0.000200\n",
      "---- Train Loss: 4.2696\n",
      "---- Val Loss: 5.1980\n",
      "--------------------------------------------------\n"
     ]
    },
    {
     "name": "stderr",
     "output_type": "stream",
     "text": [
      "                                                                          \r"
     ]
    },
    {
     "name": "stdout",
     "output_type": "stream",
     "text": [
      "\n",
      "===== Эпоха 2/100 =====\n",
      "Mean grad norm: 0.058765\n",
      "Max grad norm: 0.738597\n",
      "Min grad norm: 0.000000\n",
      "Current LR: 0.000200\n",
      "---- Train Loss: 3.6466\n",
      "---- Val Loss: 1.3094\n",
      "--------------------------------------------------\n"
     ]
    },
    {
     "name": "stderr",
     "output_type": "stream",
     "text": [
      "                                                                          \r"
     ]
    },
    {
     "name": "stdout",
     "output_type": "stream",
     "text": [
      "\n",
      "===== Эпоха 3/100 =====\n",
      "Mean grad norm: 0.064775\n",
      "Max grad norm: 0.601997\n",
      "Min grad norm: 0.000000\n",
      "Current LR: 0.000200\n",
      "---- Train Loss: 1.3208\n",
      "---- Val Loss: 0.6457\n",
      "--------------------------------------------------\n"
     ]
    },
    {
     "name": "stderr",
     "output_type": "stream",
     "text": [
      "                                                                          \r"
     ]
    },
    {
     "name": "stdout",
     "output_type": "stream",
     "text": [
      "\n",
      "===== Эпоха 4/100 =====\n",
      "Mean grad norm: 0.058831\n",
      "Max grad norm: 0.635569\n",
      "Min grad norm: 0.000000\n",
      "Current LR: 0.000200\n",
      "---- Train Loss: 1.0189\n",
      "---- Val Loss: 0.5271\n",
      "--------------------------------------------------\n"
     ]
    },
    {
     "name": "stderr",
     "output_type": "stream",
     "text": [
      "                                                                          \r"
     ]
    },
    {
     "name": "stdout",
     "output_type": "stream",
     "text": [
      "\n",
      "===== Эпоха 5/100 =====\n",
      "Mean grad norm: 0.064345\n",
      "Max grad norm: 0.542298\n",
      "Min grad norm: 0.000000\n",
      "Current LR: 0.000200\n",
      "---- Train Loss: 0.8951\n",
      "---- Val Loss: 0.4474\n",
      "--------------------------------------------------\n"
     ]
    },
    {
     "name": "stderr",
     "output_type": "stream",
     "text": [
      "                                                                          \r"
     ]
    },
    {
     "name": "stdout",
     "output_type": "stream",
     "text": [
      "\n",
      "===== Эпоха 6/100 =====\n",
      "Mean grad norm: 0.065288\n",
      "Max grad norm: 0.540656\n",
      "Min grad norm: 0.000000\n",
      "Current LR: 0.000200\n",
      "---- Train Loss: 0.8172\n",
      "---- Val Loss: 0.3734\n",
      "--------------------------------------------------\n"
     ]
    },
    {
     "name": "stderr",
     "output_type": "stream",
     "text": [
      "                                                                          \r"
     ]
    },
    {
     "name": "stdout",
     "output_type": "stream",
     "text": [
      "\n",
      "===== Эпоха 7/100 =====\n",
      "Mean grad norm: 0.064262\n",
      "Max grad norm: 0.542098\n",
      "Min grad norm: 0.000000\n",
      "Current LR: 0.000200\n",
      "---- Train Loss: 0.7494\n",
      "---- Val Loss: 0.3234\n",
      "--------------------------------------------------\n"
     ]
    },
    {
     "name": "stderr",
     "output_type": "stream",
     "text": [
      "                                                                          \r"
     ]
    },
    {
     "name": "stdout",
     "output_type": "stream",
     "text": [
      "\n",
      "===== Эпоха 8/100 =====\n",
      "Mean grad norm: 0.063917\n",
      "Max grad norm: 0.554167\n",
      "Min grad norm: 0.000000\n",
      "Current LR: 0.000200\n",
      "---- Train Loss: 0.7096\n",
      "---- Val Loss: 0.2891\n",
      "--------------------------------------------------\n"
     ]
    },
    {
     "name": "stderr",
     "output_type": "stream",
     "text": [
      "                                                                          \r"
     ]
    },
    {
     "name": "stdout",
     "output_type": "stream",
     "text": [
      "\n",
      "===== Эпоха 9/100 =====\n",
      "Mean grad norm: 0.061819\n",
      "Max grad norm: 0.534072\n",
      "Min grad norm: 0.000000\n",
      "Current LR: 0.000200\n",
      "---- Train Loss: 0.6741\n",
      "---- Val Loss: 0.2679\n",
      "--------------------------------------------------\n"
     ]
    },
    {
     "name": "stderr",
     "output_type": "stream",
     "text": [
      "                                                                           \r"
     ]
    },
    {
     "name": "stdout",
     "output_type": "stream",
     "text": [
      "\n",
      "===== Эпоха 10/100 =====\n",
      "Mean grad norm: 0.062437\n",
      "Max grad norm: 0.565519\n",
      "Min grad norm: 0.000000\n",
      "Current LR: 0.000200\n",
      "---- Train Loss: 0.6481\n",
      "---- Val Loss: 0.2487\n",
      "--------------------------------------------------\n"
     ]
    },
    {
     "name": "stderr",
     "output_type": "stream",
     "text": [
      "                                                                           \r"
     ]
    },
    {
     "name": "stdout",
     "output_type": "stream",
     "text": [
      "\n",
      "===== Эпоха 11/100 =====\n",
      "Mean grad norm: 0.048289\n",
      "Max grad norm: 0.615746\n",
      "Min grad norm: 0.000000\n",
      "Current LR: 0.000200\n",
      "---- Train Loss: 0.6304\n",
      "---- Val Loss: 0.2404\n",
      "--------------------------------------------------\n"
     ]
    },
    {
     "name": "stderr",
     "output_type": "stream",
     "text": [
      "                                                                           \r"
     ]
    },
    {
     "name": "stdout",
     "output_type": "stream",
     "text": [
      "\n",
      "===== Эпоха 12/100 =====\n",
      "Mean grad norm: 0.066120\n",
      "Max grad norm: 0.524480\n",
      "Min grad norm: 0.000000\n",
      "Current LR: 0.000200\n",
      "---- Train Loss: 0.6109\n",
      "---- Val Loss: 0.2296\n",
      "--------------------------------------------------\n"
     ]
    },
    {
     "name": "stderr",
     "output_type": "stream",
     "text": [
      "                                                                           \r"
     ]
    },
    {
     "name": "stdout",
     "output_type": "stream",
     "text": [
      "\n",
      "===== Эпоха 13/100 =====\n",
      "Mean grad norm: 0.059534\n",
      "Max grad norm: 0.556876\n",
      "Min grad norm: 0.000000\n",
      "Current LR: 0.000200\n",
      "---- Train Loss: 0.5969\n",
      "---- Val Loss: 0.2123\n",
      "--------------------------------------------------\n"
     ]
    },
    {
     "name": "stderr",
     "output_type": "stream",
     "text": [
      "                                                                           \r"
     ]
    },
    {
     "name": "stdout",
     "output_type": "stream",
     "text": [
      "\n",
      "===== Эпоха 14/100 =====\n",
      "Mean grad norm: 0.057487\n",
      "Max grad norm: 0.564379\n",
      "Min grad norm: 0.000000\n",
      "Current LR: 0.000200\n",
      "---- Train Loss: 0.5850\n",
      "---- Val Loss: 0.2128\n",
      "--------------------------------------------------\n"
     ]
    },
    {
     "name": "stderr",
     "output_type": "stream",
     "text": [
      "                                                                           \r"
     ]
    },
    {
     "name": "stdout",
     "output_type": "stream",
     "text": [
      "\n",
      "===== Эпоха 15/100 =====\n",
      "Mean grad norm: 0.058582\n",
      "Max grad norm: 0.599087\n",
      "Min grad norm: 0.000000\n",
      "Current LR: 0.000200\n",
      "---- Train Loss: 0.5759\n",
      "---- Val Loss: 0.2062\n",
      "--------------------------------------------------\n"
     ]
    },
    {
     "name": "stderr",
     "output_type": "stream",
     "text": [
      "                                                                           \r"
     ]
    },
    {
     "name": "stdout",
     "output_type": "stream",
     "text": [
      "\n",
      "===== Эпоха 16/100 =====\n",
      "Mean grad norm: 0.060401\n",
      "Max grad norm: 0.581464\n",
      "Min grad norm: 0.000000\n",
      "Current LR: 0.000200\n",
      "---- Train Loss: 0.5591\n",
      "---- Val Loss: 0.2046\n",
      "--------------------------------------------------\n"
     ]
    },
    {
     "name": "stderr",
     "output_type": "stream",
     "text": [
      "                                                                           \r"
     ]
    },
    {
     "name": "stdout",
     "output_type": "stream",
     "text": [
      "\n",
      "===== Эпоха 17/100 =====\n",
      "Mean grad norm: 0.065576\n",
      "Max grad norm: 0.531594\n",
      "Min grad norm: 0.000000\n",
      "Current LR: 0.000200\n",
      "---- Train Loss: 0.5543\n",
      "---- Val Loss: 0.1975\n",
      "--------------------------------------------------\n"
     ]
    },
    {
     "name": "stderr",
     "output_type": "stream",
     "text": [
      "                                                                           \r"
     ]
    },
    {
     "name": "stdout",
     "output_type": "stream",
     "text": [
      "\n",
      "===== Эпоха 18/100 =====\n",
      "Mean grad norm: 0.060818\n",
      "Max grad norm: 0.527926\n",
      "Min grad norm: 0.000000\n",
      "Current LR: 0.000200\n",
      "---- Train Loss: 0.5412\n",
      "---- Val Loss: 0.1967\n",
      "--------------------------------------------------\n"
     ]
    },
    {
     "name": "stderr",
     "output_type": "stream",
     "text": [
      "                                                                           \r"
     ]
    },
    {
     "name": "stdout",
     "output_type": "stream",
     "text": [
      "\n",
      "===== Эпоха 19/100 =====\n",
      "Mean grad norm: 0.054511\n",
      "Max grad norm: 0.614717\n",
      "Min grad norm: 0.000000\n",
      "Current LR: 0.000200\n",
      "---- Train Loss: 0.5337\n",
      "---- Val Loss: 0.1882\n",
      "--------------------------------------------------\n"
     ]
    },
    {
     "name": "stderr",
     "output_type": "stream",
     "text": [
      "                                                                           \r"
     ]
    },
    {
     "name": "stdout",
     "output_type": "stream",
     "text": [
      "\n",
      "===== Эпоха 20/100 =====\n",
      "Mean grad norm: 0.064488\n",
      "Max grad norm: 0.481001\n",
      "Min grad norm: 0.000000\n",
      "Current LR: 0.000200\n",
      "---- Train Loss: 0.5286\n",
      "---- Val Loss: 0.1808\n",
      "--------------------------------------------------\n"
     ]
    },
    {
     "name": "stderr",
     "output_type": "stream",
     "text": [
      "                                                                           \r"
     ]
    },
    {
     "name": "stdout",
     "output_type": "stream",
     "text": [
      "\n",
      "===== Эпоха 21/100 =====\n",
      "Mean grad norm: 0.064836\n",
      "Max grad norm: 0.536567\n",
      "Min grad norm: 0.000000\n",
      "Current LR: 0.000200\n",
      "---- Train Loss: 0.5152\n",
      "---- Val Loss: 0.1776\n",
      "--------------------------------------------------\n"
     ]
    },
    {
     "name": "stderr",
     "output_type": "stream",
     "text": [
      "                                                                           \r"
     ]
    },
    {
     "name": "stdout",
     "output_type": "stream",
     "text": [
      "\n",
      "===== Эпоха 22/100 =====\n",
      "Mean grad norm: 0.058542\n",
      "Max grad norm: 0.550862\n",
      "Min grad norm: 0.000000\n",
      "Current LR: 0.000200\n",
      "---- Train Loss: 0.5135\n",
      "---- Val Loss: 0.1841\n",
      "--------------------------------------------------\n"
     ]
    },
    {
     "name": "stderr",
     "output_type": "stream",
     "text": [
      "                                                                           \r"
     ]
    },
    {
     "name": "stdout",
     "output_type": "stream",
     "text": [
      "\n",
      "===== Эпоха 23/100 =====\n",
      "Mean grad norm: 0.065694\n",
      "Max grad norm: 0.491328\n",
      "Min grad norm: 0.000000\n",
      "Current LR: 0.000200\n",
      "---- Train Loss: 0.5098\n",
      "---- Val Loss: 0.1705\n",
      "--------------------------------------------------\n"
     ]
    },
    {
     "name": "stderr",
     "output_type": "stream",
     "text": [
      "                                                                           \r"
     ]
    },
    {
     "name": "stdout",
     "output_type": "stream",
     "text": [
      "\n",
      "===== Эпоха 24/100 =====\n",
      "Mean grad norm: 0.063199\n",
      "Max grad norm: 0.511739\n",
      "Min grad norm: 0.000000\n",
      "Current LR: 0.000200\n",
      "---- Train Loss: 0.4978\n",
      "---- Val Loss: 0.1774\n",
      "--------------------------------------------------\n"
     ]
    },
    {
     "name": "stderr",
     "output_type": "stream",
     "text": [
      "                                                                           \r"
     ]
    },
    {
     "name": "stdout",
     "output_type": "stream",
     "text": [
      "\n",
      "===== Эпоха 25/100 =====\n",
      "Mean grad norm: 0.059493\n",
      "Max grad norm: 0.533305\n",
      "Min grad norm: 0.000000\n",
      "Current LR: 0.000200\n",
      "---- Train Loss: 0.4972\n",
      "---- Val Loss: 0.1706\n",
      "--------------------------------------------------\n"
     ]
    },
    {
     "name": "stderr",
     "output_type": "stream",
     "text": [
      "                                                                           \r"
     ]
    },
    {
     "name": "stdout",
     "output_type": "stream",
     "text": [
      "\n",
      "===== Эпоха 26/100 =====\n",
      "Mean grad norm: 0.059638\n",
      "Max grad norm: 0.601348\n",
      "Min grad norm: 0.000000\n",
      "Current LR: 0.000200\n",
      "---- Train Loss: 0.4950\n",
      "---- Val Loss: 0.1735\n",
      "--------------------------------------------------\n"
     ]
    },
    {
     "name": "stderr",
     "output_type": "stream",
     "text": [
      "                                                                           \r"
     ]
    },
    {
     "name": "stdout",
     "output_type": "stream",
     "text": [
      "\n",
      "===== Эпоха 27/100 =====\n",
      "Mean grad norm: 0.062692\n",
      "Max grad norm: 0.585406\n",
      "Min grad norm: 0.000000\n",
      "Current LR: 0.000200\n",
      "---- Train Loss: 0.4888\n",
      "---- Val Loss: 0.1702\n",
      "--------------------------------------------------\n"
     ]
    },
    {
     "name": "stderr",
     "output_type": "stream",
     "text": [
      "                                                                           \r"
     ]
    },
    {
     "name": "stdout",
     "output_type": "stream",
     "text": [
      "\n",
      "===== Эпоха 28/100 =====\n",
      "Mean grad norm: 0.057680\n",
      "Max grad norm: 0.653954\n",
      "Min grad norm: 0.000000\n",
      "Current LR: 0.000200\n",
      "---- Train Loss: 0.4935\n",
      "---- Val Loss: 0.1635\n",
      "--------------------------------------------------\n"
     ]
    },
    {
     "name": "stderr",
     "output_type": "stream",
     "text": [
      "                                                                           \r"
     ]
    },
    {
     "name": "stdout",
     "output_type": "stream",
     "text": [
      "\n",
      "===== Эпоха 29/100 =====\n",
      "Mean grad norm: 0.063838\n",
      "Max grad norm: 0.524278\n",
      "Min grad norm: 0.000000\n",
      "Current LR: 0.000200\n",
      "---- Train Loss: 0.4897\n",
      "---- Val Loss: 0.1596\n",
      "--------------------------------------------------\n"
     ]
    },
    {
     "name": "stderr",
     "output_type": "stream",
     "text": [
      "                                                                           \r"
     ]
    },
    {
     "name": "stdout",
     "output_type": "stream",
     "text": [
      "\n",
      "===== Эпоха 30/100 =====\n",
      "Mean grad norm: 0.067631\n",
      "Max grad norm: 0.503482\n",
      "Min grad norm: 0.000000\n",
      "Current LR: 0.000200\n",
      "---- Train Loss: 0.4831\n",
      "---- Val Loss: 0.1596\n",
      "--------------------------------------------------\n"
     ]
    },
    {
     "name": "stderr",
     "output_type": "stream",
     "text": [
      "                                                                           \r"
     ]
    },
    {
     "name": "stdout",
     "output_type": "stream",
     "text": [
      "\n",
      "===== Эпоха 31/100 =====\n",
      "Mean grad norm: 0.065871\n",
      "Max grad norm: 0.510337\n",
      "Min grad norm: 0.000000\n",
      "Current LR: 0.000200\n",
      "---- Train Loss: 0.4770\n",
      "---- Val Loss: 0.1595\n",
      "--------------------------------------------------\n"
     ]
    },
    {
     "name": "stderr",
     "output_type": "stream",
     "text": [
      "                                                                           \r"
     ]
    },
    {
     "name": "stdout",
     "output_type": "stream",
     "text": [
      "\n",
      "===== Эпоха 32/100 =====\n",
      "Mean grad norm: 0.060283\n",
      "Max grad norm: 0.543920\n",
      "Min grad norm: 0.000000\n",
      "Current LR: 0.000200\n",
      "---- Train Loss: 0.4674\n",
      "---- Val Loss: 0.1635\n",
      "--------------------------------------------------\n"
     ]
    },
    {
     "name": "stderr",
     "output_type": "stream",
     "text": [
      "                                                                           \r"
     ]
    },
    {
     "name": "stdout",
     "output_type": "stream",
     "text": [
      "\n",
      "===== Эпоха 33/100 =====\n",
      "Mean grad norm: 0.046455\n",
      "Max grad norm: 0.693198\n",
      "Min grad norm: 0.000000\n",
      "Current LR: 0.000200\n",
      "---- Train Loss: 0.4627\n",
      "---- Val Loss: 0.1607\n",
      "--------------------------------------------------\n"
     ]
    },
    {
     "name": "stderr",
     "output_type": "stream",
     "text": [
      "                                                                           \r"
     ]
    },
    {
     "name": "stdout",
     "output_type": "stream",
     "text": [
      "\n",
      "===== Эпоха 34/100 =====\n",
      "Mean grad norm: 0.065879\n",
      "Max grad norm: 0.471940\n",
      "Min grad norm: 0.000000\n",
      "Current LR: 0.000200\n",
      "---- Train Loss: 0.4577\n",
      "---- Val Loss: 0.1580\n",
      "--------------------------------------------------\n"
     ]
    },
    {
     "name": "stderr",
     "output_type": "stream",
     "text": [
      "                                                                           \r"
     ]
    },
    {
     "name": "stdout",
     "output_type": "stream",
     "text": [
      "\n",
      "===== Эпоха 35/100 =====\n",
      "Mean grad norm: 0.052470\n",
      "Max grad norm: 0.613231\n",
      "Min grad norm: 0.000000\n",
      "Current LR: 0.000200\n",
      "---- Train Loss: 0.4573\n",
      "---- Val Loss: 0.1612\n",
      "--------------------------------------------------\n"
     ]
    },
    {
     "name": "stderr",
     "output_type": "stream",
     "text": [
      "                                                                           \r"
     ]
    },
    {
     "name": "stdout",
     "output_type": "stream",
     "text": [
      "\n",
      "===== Эпоха 36/100 =====\n",
      "Mean grad norm: 0.059965\n",
      "Max grad norm: 0.552160\n",
      "Min grad norm: 0.000000\n",
      "Current LR: 0.000200\n",
      "---- Train Loss: 0.4579\n",
      "---- Val Loss: 0.1683\n",
      "--------------------------------------------------\n"
     ]
    },
    {
     "name": "stderr",
     "output_type": "stream",
     "text": [
      "                                                                           \r"
     ]
    },
    {
     "name": "stdout",
     "output_type": "stream",
     "text": [
      "\n",
      "===== Эпоха 37/100 =====\n",
      "Mean grad norm: 0.056038\n",
      "Max grad norm: 0.623918\n",
      "Min grad norm: 0.000000\n",
      "Current LR: 0.000200\n",
      "---- Train Loss: 0.4595\n",
      "---- Val Loss: 0.1547\n",
      "--------------------------------------------------\n"
     ]
    },
    {
     "name": "stderr",
     "output_type": "stream",
     "text": [
      "                                                                           \r"
     ]
    },
    {
     "name": "stdout",
     "output_type": "stream",
     "text": [
      "\n",
      "===== Эпоха 38/100 =====\n",
      "Mean grad norm: 0.059115\n",
      "Max grad norm: 0.581960\n",
      "Min grad norm: 0.000000\n",
      "Current LR: 0.000200\n",
      "---- Train Loss: 0.4527\n",
      "---- Val Loss: 0.1537\n",
      "--------------------------------------------------\n"
     ]
    },
    {
     "name": "stderr",
     "output_type": "stream",
     "text": [
      "                                                                           \r"
     ]
    },
    {
     "name": "stdout",
     "output_type": "stream",
     "text": [
      "\n",
      "===== Эпоха 39/100 =====\n",
      "Mean grad norm: 0.061905\n",
      "Max grad norm: 0.512468\n",
      "Min grad norm: 0.000000\n",
      "Current LR: 0.000200\n",
      "---- Train Loss: 0.4433\n",
      "---- Val Loss: 0.1503\n",
      "--------------------------------------------------\n"
     ]
    },
    {
     "name": "stderr",
     "output_type": "stream",
     "text": [
      "                                                                           \r"
     ]
    },
    {
     "name": "stdout",
     "output_type": "stream",
     "text": [
      "\n",
      "===== Эпоха 40/100 =====\n",
      "Mean grad norm: 0.065714\n",
      "Max grad norm: 0.543839\n",
      "Min grad norm: 0.000000\n",
      "Current LR: 0.000200\n",
      "---- Train Loss: 0.4370\n",
      "---- Val Loss: 0.1494\n",
      "--------------------------------------------------\n"
     ]
    },
    {
     "name": "stderr",
     "output_type": "stream",
     "text": [
      "                                                                           \r"
     ]
    },
    {
     "name": "stdout",
     "output_type": "stream",
     "text": [
      "\n",
      "===== Эпоха 41/100 =====\n",
      "Mean grad norm: 0.052811\n",
      "Max grad norm: 0.641376\n",
      "Min grad norm: 0.000000\n",
      "Current LR: 0.000200\n",
      "---- Train Loss: 0.4416\n",
      "---- Val Loss: 0.1547\n",
      "--------------------------------------------------\n"
     ]
    },
    {
     "name": "stderr",
     "output_type": "stream",
     "text": [
      "                                                                           \r"
     ]
    },
    {
     "name": "stdout",
     "output_type": "stream",
     "text": [
      "\n",
      "===== Эпоха 42/100 =====\n",
      "Mean grad norm: 0.065685\n",
      "Max grad norm: 0.523899\n",
      "Min grad norm: 0.000000\n",
      "Current LR: 0.000200\n",
      "---- Train Loss: 0.4381\n",
      "---- Val Loss: 0.1459\n",
      "--------------------------------------------------\n"
     ]
    },
    {
     "name": "stderr",
     "output_type": "stream",
     "text": [
      "                                                                           \r"
     ]
    },
    {
     "name": "stdout",
     "output_type": "stream",
     "text": [
      "\n",
      "===== Эпоха 43/100 =====\n",
      "Mean grad norm: 0.052295\n",
      "Max grad norm: 0.655570\n",
      "Min grad norm: 0.000000\n",
      "Current LR: 0.000200\n",
      "---- Train Loss: 0.4380\n",
      "---- Val Loss: 0.1551\n",
      "--------------------------------------------------\n"
     ]
    },
    {
     "name": "stderr",
     "output_type": "stream",
     "text": [
      "                                                                           \r"
     ]
    },
    {
     "name": "stdout",
     "output_type": "stream",
     "text": [
      "\n",
      "===== Эпоха 44/100 =====\n",
      "Mean grad norm: 0.056402\n",
      "Max grad norm: 0.523289\n",
      "Min grad norm: 0.000000\n",
      "Current LR: 0.000200\n",
      "---- Train Loss: 0.4325\n",
      "---- Val Loss: 0.1568\n",
      "--------------------------------------------------\n"
     ]
    },
    {
     "name": "stderr",
     "output_type": "stream",
     "text": [
      "                                                                           \r"
     ]
    },
    {
     "name": "stdout",
     "output_type": "stream",
     "text": [
      "\n",
      "===== Эпоха 45/100 =====\n",
      "Mean grad norm: 0.058846\n",
      "Max grad norm: 0.617465\n",
      "Min grad norm: 0.000000\n",
      "Current LR: 0.000200\n",
      "---- Train Loss: 0.4262\n",
      "---- Val Loss: 0.1508\n",
      "--------------------------------------------------\n"
     ]
    },
    {
     "name": "stderr",
     "output_type": "stream",
     "text": [
      "                                                                           \r"
     ]
    },
    {
     "name": "stdout",
     "output_type": "stream",
     "text": [
      "\n",
      "===== Эпоха 46/100 =====\n",
      "Mean grad norm: 0.066664\n",
      "Max grad norm: 0.443796\n",
      "Min grad norm: 0.000000\n",
      "Current LR: 0.000100\n",
      "---- Train Loss: 0.4290\n",
      "---- Val Loss: 0.1509\n",
      "--------------------------------------------------\n"
     ]
    },
    {
     "name": "stderr",
     "output_type": "stream",
     "text": [
      "                                                                           \r"
     ]
    },
    {
     "name": "stdout",
     "output_type": "stream",
     "text": [
      "\n",
      "===== Эпоха 47/100 =====\n",
      "Mean grad norm: 0.062575\n",
      "Max grad norm: 0.529467\n",
      "Min grad norm: 0.000000\n",
      "Current LR: 0.000100\n",
      "---- Train Loss: 0.4131\n",
      "---- Val Loss: 0.1435\n",
      "--------------------------------------------------\n"
     ]
    },
    {
     "name": "stderr",
     "output_type": "stream",
     "text": [
      "                                                                           \r"
     ]
    },
    {
     "name": "stdout",
     "output_type": "stream",
     "text": [
      "\n",
      "===== Эпоха 48/100 =====\n",
      "Mean grad norm: 0.066613\n",
      "Max grad norm: 0.486457\n",
      "Min grad norm: 0.000000\n",
      "Current LR: 0.000100\n",
      "---- Train Loss: 0.4004\n",
      "---- Val Loss: 0.1445\n",
      "--------------------------------------------------\n"
     ]
    },
    {
     "name": "stderr",
     "output_type": "stream",
     "text": [
      "                                                                           \r"
     ]
    },
    {
     "name": "stdout",
     "output_type": "stream",
     "text": [
      "\n",
      "===== Эпоха 49/100 =====\n",
      "Mean grad norm: 0.063527\n",
      "Max grad norm: 0.499954\n",
      "Min grad norm: 0.000000\n",
      "Current LR: 0.000100\n",
      "---- Train Loss: 0.4025\n",
      "---- Val Loss: 0.1447\n",
      "--------------------------------------------------\n"
     ]
    },
    {
     "name": "stderr",
     "output_type": "stream",
     "text": [
      "                                                                           \r"
     ]
    },
    {
     "name": "stdout",
     "output_type": "stream",
     "text": [
      "\n",
      "===== Эпоха 50/100 =====\n",
      "Mean grad norm: 0.063072\n",
      "Max grad norm: 0.541598\n",
      "Min grad norm: 0.000000\n",
      "Current LR: 0.000100\n",
      "---- Train Loss: 0.3943\n",
      "---- Val Loss: 0.1460\n",
      "--------------------------------------------------\n"
     ]
    },
    {
     "name": "stderr",
     "output_type": "stream",
     "text": [
      "                                                                           \r"
     ]
    },
    {
     "name": "stdout",
     "output_type": "stream",
     "text": [
      "\n",
      "===== Эпоха 51/100 =====\n",
      "Mean grad norm: 0.057755\n",
      "Max grad norm: 0.533502\n",
      "Min grad norm: 0.000000\n",
      "Current LR: 0.000050\n",
      "---- Train Loss: 0.3921\n",
      "---- Val Loss: 0.1438\n",
      "--------------------------------------------------\n"
     ]
    },
    {
     "name": "stderr",
     "output_type": "stream",
     "text": [
      "                                                                           \r"
     ]
    },
    {
     "name": "stdout",
     "output_type": "stream",
     "text": [
      "\n",
      "===== Эпоха 52/100 =====\n",
      "Mean grad norm: 0.066923\n",
      "Max grad norm: 0.492836\n",
      "Min grad norm: 0.000000\n",
      "Current LR: 0.000050\n",
      "---- Train Loss: 0.3836\n",
      "---- Val Loss: 0.1436\n",
      "--------------------------------------------------\n"
     ]
    },
    {
     "name": "stderr",
     "output_type": "stream",
     "text": [
      "                                                                           \r"
     ]
    },
    {
     "name": "stdout",
     "output_type": "stream",
     "text": [
      "\n",
      "===== Эпоха 53/100 =====\n",
      "Mean grad norm: 0.066922\n",
      "Max grad norm: 0.504489\n",
      "Min grad norm: 0.000000\n",
      "Current LR: 0.000050\n",
      "---- Train Loss: 0.3764\n",
      "---- Val Loss: 0.1419\n",
      "--------------------------------------------------\n"
     ]
    },
    {
     "name": "stderr",
     "output_type": "stream",
     "text": [
      "                                                                           \r"
     ]
    },
    {
     "name": "stdout",
     "output_type": "stream",
     "text": [
      "\n",
      "===== Эпоха 54/100 =====\n",
      "Mean grad norm: 0.059516\n",
      "Max grad norm: 0.453922\n",
      "Min grad norm: 0.000000\n",
      "Current LR: 0.000050\n",
      "---- Train Loss: 0.3809\n",
      "---- Val Loss: 0.1435\n",
      "--------------------------------------------------\n"
     ]
    },
    {
     "name": "stderr",
     "output_type": "stream",
     "text": [
      "                                                                           \r"
     ]
    },
    {
     "name": "stdout",
     "output_type": "stream",
     "text": [
      "\n",
      "===== Эпоха 55/100 =====\n",
      "Mean grad norm: 0.060290\n",
      "Max grad norm: 0.554498\n",
      "Min grad norm: 0.000000\n",
      "Current LR: 0.000050\n",
      "---- Train Loss: 0.3745\n",
      "---- Val Loss: 0.1457\n",
      "--------------------------------------------------\n"
     ]
    },
    {
     "name": "stderr",
     "output_type": "stream",
     "text": [
      "                                                                           \r"
     ]
    },
    {
     "name": "stdout",
     "output_type": "stream",
     "text": [
      "\n",
      "===== Эпоха 56/100 =====\n",
      "Mean grad norm: 0.067219\n",
      "Max grad norm: 0.481004\n",
      "Min grad norm: 0.000000\n",
      "Current LR: 0.000050\n",
      "---- Train Loss: 0.3750\n",
      "---- Val Loss: 0.1439\n",
      "--------------------------------------------------\n"
     ]
    },
    {
     "name": "stderr",
     "output_type": "stream",
     "text": [
      "                                                                           \r"
     ]
    },
    {
     "name": "stdout",
     "output_type": "stream",
     "text": [
      "\n",
      "===== Эпоха 57/100 =====\n",
      "Mean grad norm: 0.051172\n",
      "Max grad norm: 0.660894\n",
      "Min grad norm: 0.000000\n",
      "Current LR: 0.000025\n",
      "---- Train Loss: 0.3717\n",
      "---- Val Loss: 0.1474\n",
      "--------------------------------------------------\n"
     ]
    },
    {
     "name": "stderr",
     "output_type": "stream",
     "text": [
      "                                                                           \r"
     ]
    },
    {
     "name": "stdout",
     "output_type": "stream",
     "text": [
      "\n",
      "===== Эпоха 58/100 =====\n",
      "Mean grad norm: 0.067454\n",
      "Max grad norm: 0.503790\n",
      "Min grad norm: 0.000000\n",
      "Current LR: 0.000025\n",
      "---- Train Loss: 0.3695\n",
      "---- Val Loss: 0.1428\n",
      "--------------------------------------------------\n"
     ]
    },
    {
     "name": "stderr",
     "output_type": "stream",
     "text": [
      "                                                                           \r"
     ]
    },
    {
     "name": "stdout",
     "output_type": "stream",
     "text": [
      "\n",
      "===== Эпоха 59/100 =====\n",
      "Mean grad norm: 0.068687\n",
      "Max grad norm: 0.529470\n",
      "Min grad norm: 0.000000\n",
      "Current LR: 0.000025\n",
      "---- Train Loss: 0.3667\n",
      "---- Val Loss: 0.1442\n",
      "--------------------------------------------------\n"
     ]
    },
    {
     "name": "stderr",
     "output_type": "stream",
     "text": [
      "                                                                           \r"
     ]
    },
    {
     "name": "stdout",
     "output_type": "stream",
     "text": [
      "\n",
      "===== Эпоха 60/100 =====\n",
      "Mean grad norm: 0.059727\n",
      "Max grad norm: 0.557198\n",
      "Min grad norm: 0.000000\n",
      "Current LR: 0.000025\n",
      "---- Train Loss: 0.3682\n",
      "---- Val Loss: 0.1430\n",
      "--------------------------------------------------\n"
     ]
    },
    {
     "name": "stderr",
     "output_type": "stream",
     "text": [
      "                                                                           \r"
     ]
    },
    {
     "name": "stdout",
     "output_type": "stream",
     "text": [
      "\n",
      "===== Эпоха 61/100 =====\n",
      "Mean grad norm: 0.064084\n",
      "Max grad norm: 0.564259\n",
      "Min grad norm: 0.000000\n",
      "Current LR: 0.000013\n",
      "---- Train Loss: 0.3663\n",
      "---- Val Loss: 0.1436\n",
      "--------------------------------------------------\n"
     ]
    },
    {
     "name": "stderr",
     "output_type": "stream",
     "text": [
      "                                                                           \r"
     ]
    },
    {
     "name": "stdout",
     "output_type": "stream",
     "text": [
      "\n",
      "===== Эпоха 62/100 =====\n",
      "Mean grad norm: 0.059040\n",
      "Max grad norm: 0.530107\n",
      "Min grad norm: 0.000000\n",
      "Current LR: 0.000013\n",
      "---- Train Loss: 0.3630\n",
      "---- Val Loss: 0.1434\n",
      "--------------------------------------------------\n"
     ]
    },
    {
     "name": "stderr",
     "output_type": "stream",
     "text": [
      "                                                                           \r"
     ]
    },
    {
     "name": "stdout",
     "output_type": "stream",
     "text": [
      "\n",
      "===== Эпоха 63/100 =====\n",
      "Mean grad norm: 0.070267\n",
      "Max grad norm: 0.408070\n",
      "Min grad norm: 0.000000\n",
      "Current LR: 0.000013\n",
      "---- Train Loss: 0.3652\n",
      "---- Val Loss: 0.1439\n",
      "--------------------------------------------------\n"
     ]
    },
    {
     "name": "stderr",
     "output_type": "stream",
     "text": [
      "                                                                           \r"
     ]
    },
    {
     "name": "stdout",
     "output_type": "stream",
     "text": [
      "\n",
      "===== Эпоха 64/100 =====\n",
      "Mean grad norm: 0.059384\n",
      "Max grad norm: 0.530141\n",
      "Min grad norm: 0.000000\n",
      "Current LR: 0.000013\n",
      "---- Train Loss: 0.3639\n",
      "---- Val Loss: 0.1431\n",
      "--------------------------------------------------\n"
     ]
    },
    {
     "name": "stderr",
     "output_type": "stream",
     "text": [
      "                                                                           \r"
     ]
    },
    {
     "name": "stdout",
     "output_type": "stream",
     "text": [
      "\n",
      "===== Эпоха 65/100 =====\n",
      "Mean grad norm: 0.059042\n",
      "Max grad norm: 0.548289\n",
      "Min grad norm: 0.000000\n",
      "Current LR: 0.000006\n",
      "---- Train Loss: 0.3596\n",
      "---- Val Loss: 0.1430\n",
      "--------------------------------------------------\n"
     ]
    },
    {
     "name": "stderr",
     "output_type": "stream",
     "text": [
      "                                                                           \r"
     ]
    },
    {
     "name": "stdout",
     "output_type": "stream",
     "text": [
      "\n",
      "===== Эпоха 66/100 =====\n",
      "Mean grad norm: 0.054387\n",
      "Max grad norm: 0.517726\n",
      "Min grad norm: 0.000000\n",
      "Current LR: 0.000006\n",
      "---- Train Loss: 0.3579\n",
      "---- Val Loss: 0.1433\n",
      "--------------------------------------------------\n"
     ]
    },
    {
     "name": "stderr",
     "output_type": "stream",
     "text": [
      "                                                                           \r"
     ]
    },
    {
     "name": "stdout",
     "output_type": "stream",
     "text": [
      "\n",
      "===== Эпоха 67/100 =====\n",
      "Mean grad norm: 0.065376\n",
      "Max grad norm: 0.517864\n",
      "Min grad norm: 0.000000\n",
      "Current LR: 0.000006\n",
      "---- Train Loss: 0.3591\n",
      "---- Val Loss: 0.1431\n",
      "--------------------------------------------------\n"
     ]
    },
    {
     "name": "stderr",
     "output_type": "stream",
     "text": [
      "                                                                           \r"
     ]
    },
    {
     "name": "stdout",
     "output_type": "stream",
     "text": [
      "\n",
      "===== Эпоха 68/100 =====\n",
      "Mean grad norm: 0.048130\n",
      "Max grad norm: 0.448232\n",
      "Min grad norm: 0.000000\n",
      "Current LR: 0.000006\n",
      "---- Train Loss: 0.3623\n",
      "---- Val Loss: 0.1430\n",
      "--------------------------------------------------\n"
     ]
    },
    {
     "name": "stderr",
     "output_type": "stream",
     "text": [
      "                                                                           \r"
     ]
    },
    {
     "name": "stdout",
     "output_type": "stream",
     "text": [
      "\n",
      "===== Эпоха 69/100 =====\n",
      "Mean grad norm: 0.051778\n",
      "Max grad norm: 0.458744\n",
      "Min grad norm: 0.000000\n",
      "Current LR: 0.000003\n",
      "---- Train Loss: 0.3551\n",
      "---- Val Loss: 0.1439\n",
      "--------------------------------------------------\n"
     ]
    },
    {
     "name": "stderr",
     "output_type": "stream",
     "text": [
      "                                                                           \r"
     ]
    },
    {
     "name": "stdout",
     "output_type": "stream",
     "text": [
      "\n",
      "===== Эпоха 70/100 =====\n",
      "Mean grad norm: 0.065970\n",
      "Max grad norm: 0.506179\n",
      "Min grad norm: 0.000000\n",
      "Current LR: 0.000003\n",
      "---- Train Loss: 0.3628\n",
      "---- Val Loss: 0.1436\n",
      "--------------------------------------------------\n"
     ]
    },
    {
     "name": "stderr",
     "output_type": "stream",
     "text": [
      "                                                                           \r"
     ]
    },
    {
     "name": "stdout",
     "output_type": "stream",
     "text": [
      "\n",
      "===== Эпоха 71/100 =====\n",
      "Mean grad norm: 0.061197\n",
      "Max grad norm: 0.508234\n",
      "Min grad norm: 0.000000\n",
      "Current LR: 0.000003\n",
      "---- Train Loss: 0.3630\n",
      "---- Val Loss: 0.1431\n",
      "--------------------------------------------------\n"
     ]
    },
    {
     "name": "stderr",
     "output_type": "stream",
     "text": [
      "                                                                           \r"
     ]
    },
    {
     "name": "stdout",
     "output_type": "stream",
     "text": [
      "\n",
      "===== Эпоха 72/100 =====\n",
      "Mean grad norm: 0.068414\n",
      "Max grad norm: 0.438439\n",
      "Min grad norm: 0.000000\n",
      "Current LR: 0.000003\n",
      "---- Train Loss: 0.3569\n",
      "---- Val Loss: 0.1435\n",
      "--------------------------------------------------\n"
     ]
    },
    {
     "name": "stderr",
     "output_type": "stream",
     "text": [
      "                                                                           \r"
     ]
    },
    {
     "name": "stdout",
     "output_type": "stream",
     "text": [
      "\n",
      "===== Эпоха 73/100 =====\n",
      "Mean grad norm: 0.056093\n",
      "Max grad norm: 0.504668\n",
      "Min grad norm: 0.000000\n",
      "Current LR: 0.000002\n",
      "---- Train Loss: 0.3613\n",
      "---- Val Loss: 0.1434\n",
      "--------------------------------------------------\n"
     ]
    },
    {
     "name": "stderr",
     "output_type": "stream",
     "text": [
      "                                                                           \r"
     ]
    },
    {
     "name": "stdout",
     "output_type": "stream",
     "text": [
      "\n",
      "===== Эпоха 74/100 =====\n",
      "Mean grad norm: 0.069608\n",
      "Max grad norm: 0.477030\n",
      "Min grad norm: 0.000000\n",
      "Current LR: 0.000002\n",
      "---- Train Loss: 0.3602\n",
      "---- Val Loss: 0.1430\n",
      "--------------------------------------------------\n"
     ]
    },
    {
     "name": "stderr",
     "output_type": "stream",
     "text": [
      "                                                                           \r"
     ]
    },
    {
     "name": "stdout",
     "output_type": "stream",
     "text": [
      "\n",
      "===== Эпоха 75/100 =====\n",
      "Mean grad norm: 0.068482\n",
      "Max grad norm: 0.498535\n",
      "Min grad norm: 0.000000\n",
      "Current LR: 0.000002\n",
      "---- Train Loss: 0.3566\n",
      "---- Val Loss: 0.1430\n",
      "--------------------------------------------------\n"
     ]
    },
    {
     "name": "stderr",
     "output_type": "stream",
     "text": [
      "                                                                           \r"
     ]
    },
    {
     "name": "stdout",
     "output_type": "stream",
     "text": [
      "\n",
      "===== Эпоха 76/100 =====\n",
      "Mean grad norm: 0.057556\n",
      "Max grad norm: 0.624162\n",
      "Min grad norm: 0.000000\n",
      "Current LR: 0.000002\n",
      "---- Train Loss: 0.3615\n",
      "---- Val Loss: 0.1439\n",
      "--------------------------------------------------\n"
     ]
    },
    {
     "name": "stderr",
     "output_type": "stream",
     "text": [
      "                                                                           "
     ]
    },
    {
     "name": "stdout",
     "output_type": "stream",
     "text": [
      "\n",
      "===== Эпоха 77/100 =====\n",
      "Mean grad norm: 0.065804\n",
      "Max grad norm: 0.519335\n",
      "Min grad norm: 0.000000\n",
      "Current LR: 0.000001\n",
      "---- Train Loss: 0.3612\n",
      "---- Val Loss: 0.1432\n",
      "Learning rate достиг минимума 1e-6, остановка обучения\n"
     ]
    },
    {
     "name": "stderr",
     "output_type": "stream",
     "text": [
      "\r"
     ]
    }
   ],
   "source": [
    "lst_loss_train = []\n",
    "lst_loss_val = []\n",
    "best_val_loss = 0\n",
    "for epoch in range(EPOCHS):\n",
    "    model.train()\n",
    "\n",
    "    epoch_train_loss = 0.0\n",
    "    train_predicts = []\n",
    "\n",
    "    train_tqdm = tqdm(train_dl, desc=f\"Эпоха {epoch+1}/{EPOCHS} [Обучение]\", leave=False)\n",
    "    for batch_ind, batch in enumerate(train_tqdm):\n",
    "        mel_spec, mel_spec_lens, targets, targets_lens, _ = batch\n",
    "        mel_spec = mel_spec.to(DIVICE)\n",
    "        mel_spec_lens = mel_spec_lens.to(DIVICE)\n",
    "        targets = targets.to(DIVICE)\n",
    "        targets_lens = targets_lens.to(DIVICE)\n",
    "\n",
    "        #===== считатем длинну mel_spec для передачи в CTC loss =====\n",
    "        \n",
    "        optimizer.zero_grad()\n",
    "        predict = model(mel_spec, mel_spec_lens) # (N=batch,T,C)\n",
    "        N = predict.shape[1]\n",
    "        T = predict.shape[0]\n",
    "        predict_lengths = torch.full(size=(N,), fill_value=T, dtype=torch.long)\n",
    "\n",
    "        try:\n",
    "            loss = loss_func(predict, targets, predict_lengths, targets_lens.reshape(BATCH_SIZE))\n",
    "        except RuntimeError:\n",
    "            print(predict.shape, targets.shape, predict_lengths, targets_lens.reshape(BATCH_SIZE))\n",
    "            continue\n",
    "\n",
    "        if torch.isnan(loss) or torch.isinf(loss): \n",
    "            print(f\"\\nWarning: In batch-{batch_ind} loss train is NaN/Inf: {loss.item()}\"); \n",
    "            optimizer.zero_grad(); \n",
    "            continue\n",
    "\n",
    "        loss.backward()\n",
    "        nn.utils.clip_grad_norm_(model.parameters(), max_norm=1.0)\n",
    "        optimizer.step()\n",
    "\n",
    "        epoch_train_loss += loss.item()\n",
    "\n",
    "    total_train = epoch_train_loss / len(train_dl)\n",
    "\n",
    "    # ======== Валидация ========\n",
    "    model.eval()\n",
    "    val_loss = 0.0\n",
    "    total_val = 0\n",
    "    val_predicts = []\n",
    "\n",
    "    with torch.no_grad():\n",
    "        val_tqdm = tqdm(val_dl, desc=f\"Эпоха {epoch+1}/{EPOCHS} [Валидация]\", leave=False)\n",
    "        for val_mel_spec, val_spec_lens, val_labels, val_label_lensin, _ in val_tqdm:\n",
    "\n",
    "            val_mel_spec = val_mel_spec.to(DIVICE)\n",
    "            val_spec_lens = val_spec_lens.to(DIVICE)\n",
    "            val_labels = val_labels.to(DIVICE)\n",
    "            val_label_lensin = val_label_lensin.to(DIVICE)\n",
    "\n",
    "            val_predict = model(val_mel_spec, val_spec_lens)\n",
    "            val_N = val_predict.shape[1]\n",
    "            val_T = val_predict.shape[0]\n",
    "\n",
    "            predict_val_lengths = torch.full(size=(val_N,), fill_value=val_T, dtype=torch.long)\n",
    "            val_loss += loss_func(val_predict, val_labels, predict_val_lengths, val_label_lensin).item()\n",
    "\n",
    "    total_val = val_loss / len(val_dl)\n",
    "\n",
    "    lst_loss_train.append(total_train)\n",
    "    lst_loss_val.append(total_val)\n",
    "\n",
    "    scheduler.step(total_val)\n",
    "\n",
    "    print(f\"\\n===== Эпоха {epoch+1}/{EPOCHS} =====\")\\\n",
    "    #===== Инфо про градиенты=====\n",
    "    grad_norms = [param.grad.norm().item() for param in model.parameters() if param.grad is not None]\n",
    "    if grad_norms:\n",
    "        print(f\"Mean grad norm: {np.mean(grad_norms):.6f}\")\n",
    "        print(f\"Max grad norm: {np.max(grad_norms):.6f}\")\n",
    "        print(f\"Min grad norm: {np.min(grad_norms):.6f}\")\n",
    "    else:\n",
    "        print(\"No gradients computed yet.\")\n",
    "    #===== Инфо про шаг обучения и данные по потерям =====\n",
    "    current_lr = optimizer.param_groups[0]['lr']\n",
    "    print(f\"Current LR: {current_lr:.6f}\")\n",
    "    print(f\"---- Train Loss: {total_train:.4f}\")\n",
    "    print(f\"---- Val Loss: {total_val:.4f}\")\n",
    "    if current_lr <= 1e-6:\n",
    "        print(\"Learning rate достиг минимума 1e-6, остановка обучения\")\n",
    "        break\n",
    "    print(\"-\" * 50)"
   ]
  },
  {
   "cell_type": "code",
   "execution_count": null,
   "id": "59e3f851",
   "metadata": {},
   "outputs": [],
   "source": []
  },
  {
   "cell_type": "code",
   "execution_count": 3,
   "id": "ca52e14e",
   "metadata": {},
   "outputs": [],
   "source": [
    "torch.save(model.state_dict(), 'MorseNet.pth')"
   ]
  },
  {
   "cell_type": "code",
   "execution_count": 4,
   "id": "1547a2ff",
   "metadata": {},
   "outputs": [
    {
     "data": {
      "image/png": "[encoded data removed]",
      "text/plain": [
       "<Figure size 640x480 with 1 Axes>"
      ]
     },
     "metadata": {},
     "output_type": "display_data"
    }
   ],
   "source": [
    "plt.plot(lst_loss_train)\n",
    "plt.plot(lst_loss_val)\n",
    "plt.grid()\n",
    "plt.show()"
   ]
  },
  {
   "cell_type": "code",
   "execution_count": 5,
   "id": "45f65295",
   "metadata": {},
   "outputs": [
    {
     "name": "stdout",
     "output_type": "stream",
     "text": [
      "CNN размерность выхода: torch.Size([1, 64, 16, 89])\n",
      "CNN число фичей: 1024\n",
      "Проекция из 1024 в 1024\n",
      "Mean accurasu by The Levenshtein in train is : 0.8932685114069244\n",
      "Mean accurasu by The Levenshtein in validate is : 0.9503369680701127\n"
     ]
    }
   ],
   "source": [
    "def ctc_decoder(logits, int_char_map, blank_label_idx):\n",
    "    preds = []\n",
    "    logits_cpu = logits.cpu() \n",
    "    max_inds = torch.argmax(logits_cpu.detach(), dim=2).t().numpy() # арзмакс по лагитам и преобразование к словарю\n",
    "    \n",
    "    for ind in max_inds:\n",
    "        merged_inds = []\n",
    "        for idx in ind:\n",
    "            if idx != blank_label_idx: \n",
    "                merged_inds.append(idx)\n",
    "        text = \"\".join([int_char_map.get(i, '?') for i in merged_inds])\n",
    "        preds.append(text)\n",
    "\n",
    "    return preds\n",
    "\n",
    "model_load = MorseNet(num_classes=num_classes).to(DIVICE)\n",
    "model_load.load_state_dict(torch.load('MorseNet.pth'))\n",
    "model_load.eval()\n",
    "\n",
    "with torch.no_grad():\n",
    "    train_mess = []\n",
    "    train_predicts = []\n",
    "    for loader in train_dl:\n",
    "        seq,seq_lens, test_target, _, mess = loader\n",
    "        seq = seq.to(DIVICE)\n",
    "        seq_lens = seq_lens.to(DIVICE)\n",
    "        train_mess.extend(mess)\n",
    "\n",
    "        logits = model_load(seq,seq_lens)\n",
    "        predicted_values = ctc_decoder(logits, int_to_char, BLANK_IDX)\n",
    "        train_predicts.extend(predicted_values)\n",
    "\n",
    "    val_mess = []\n",
    "    val_predicts = []\n",
    "    for loader in val_dl:\n",
    "        seq,seq_lens, test_target, _, mess = loader\n",
    "        seq = seq.to(DIVICE)\n",
    "        seq_lens = seq_lens.to(DIVICE)\n",
    "        val_mess.extend(mess)\n",
    "\n",
    "        logits= model_load(seq,seq_lens)\n",
    "        predicted_values = ctc_decoder(logits, int_to_char, BLANK_IDX)\n",
    "        val_predicts.extend(predicted_values)\n",
    "\n",
    "import Levenshtein\n",
    "\n",
    "mean_acc_test = np.mean([Levenshtein.ratio(test_pred, train_mess[ind]) for ind, test_pred in enumerate(train_predicts)])\n",
    "mean_acc_val = np.mean([Levenshtein.ratio(val_pred, val_mess[ind]) for ind, val_pred in enumerate(val_predicts)])\n",
    "\n",
    "\n",
    "print(f\"Mean accurasu by The Levenshtein in train is : {mean_acc_test}\")\n",
    "print(f\"Mean accurasu by The Levenshtein in validate is : {mean_acc_val}\")"
   ]
  },
  {
   "cell_type": "markdown",
   "id": "f49ca828",
   "metadata": {},
   "source": [
    "# Сбор sample_submission"
   ]
  },
  {
   "cell_type": "code",
   "execution_count": null,
   "id": "c85e44a4",
   "metadata": {},
   "outputs": [
    {
     "name": "stdout",
     "output_type": "stream",
     "text": [
      "CNN размерность выхода: torch.Size([1, 64, 16, 89])\n",
      "CNN число фичей: 1024\n",
      "Проекция из 1024 в 1024\n",
      "Mean accurasu by The Levenshtein in train is : 0.9066151537313227\n",
      "Mean accurasu by The Levenshtein in validate is : 0.9661893167521509\n"
     ]
    }
   ],
   "source": [
    "def ctc_decoder(logits, int_char_map, blank_label_idx):\n",
    "    preds = []\n",
    "    logits_cpu = logits.cpu()\n",
    "    max_inds = torch.argmax(logits_cpu.detach(), dim=2).t().numpy()\n",
    "\n",
    "    for ind in max_inds:\n",
    "        merged_inds = []\n",
    "        prev_idx = None\n",
    "        for idx in ind:\n",
    "            if idx != blank_label_idx and idx != prev_idx:\n",
    "                merged_inds.append(idx)\n",
    "            prev_idx = idx\n",
    "        text = \"\".join([int_char_map.get(i, '') for i in merged_inds])\n",
    "        preds.append(text)\n",
    "\n",
    "    return preds\n",
    "\n",
    "model_load = MorseNet(num_classes=num_classes).to(DIVICE)\n",
    "model_load.load_state_dict(torch.load('MorseNet.pth'))\n",
    "model_load.eval()\n",
    "\n",
    "with torch.no_grad():\n",
    "    train_mess = []\n",
    "    train_predicts = []\n",
    "    for loader in train_dl:\n",
    "        seq,seq_lens, test_target, _, mess = loader\n",
    "        seq = seq.to(DIVICE)\n",
    "        seq_lens = seq_lens.to(DIVICE)\n",
    "        train_mess.extend(mess)\n",
    "\n",
    "        logits = model_load(seq,seq_lens)\n",
    "        predicted_values = ctc_decoder(logits, int_to_char, BLANK_IDX)\n",
    "        train_predicts.extend(predicted_values)\n",
    "\n",
    "    val_mess = []\n",
    "    val_predicts = []\n",
    "    for loader in val_dl:\n",
    "        seq,seq_lens, test_target, _, mess = loader\n",
    "        seq = seq.to(DIVICE)\n",
    "        seq_lens = seq_lens.to(DIVICE)\n",
    "        val_mess.extend(mess)\n",
    "\n",
    "        logits= model_load(seq,seq_lens)\n",
    "        predicted_values = ctc_decoder(logits, int_to_char, BLANK_IDX)\n",
    "        val_predicts.extend(predicted_values)\n",
    "\n",
    "import Levenshtein\n",
    "\n",
    "mean_acc_test = np.mean([Levenshtein.ratio(test_pred, train_mess[ind]) for ind, test_pred in enumerate(train_predicts)])\n",
    "mean_acc_val = np.mean([Levenshtein.ratio(val_pred, val_mess[ind]) for ind, val_pred in enumerate(val_predicts)])\n",
    "\n",
    "\n",
    "print(f\"Mean accurasu by The Levenshtein in train is : {mean_acc_test}\")\n",
    "print(f\"Mean accurasu by The Levenshtein in validate is : {mean_acc_val}\")\n",
    "\n",
    "\n",
    "test_ds = MosreDatasetToTest(df=sample_data,\n",
    "                        data_patch=SAVE_DIR/'test',\n",
    "                        char_to_int=char_to_int,\n",
    "                        train=False)\n",
    "\n",
    "def my_collate(batch):\n",
    "    spectrograms = [item[0].squeeze(0) for item in batch]\n",
    "    # Падинг спектрограмм по максимальной длине\n",
    "    spectrograms_permuted = [s.permute(1, 0) for s in spectrograms]\n",
    "    spectrograms_padded = nn.utils.rnn.pad_sequence(spectrograms_permuted, batch_first=True, padding_value=0.0)\n",
    "    spectrograms_padded = spectrograms_padded.permute(0, 2, 1).unsqueeze(1)\n",
    "    # spec_lens = torch.stack([item[0] for item in batch])\n",
    "    spec_lens = torch.tensor([item[1] for item in batch]).reshape(20)\n",
    "    if batch[0][3] is not None:\n",
    "        target = torch.nn.utils.rnn.pad_sequence(\n",
    "                                                [item[2] for item in batch], \n",
    "                                                batch_first=True, \n",
    "                                                padding_value=BLANK_IDX)# выравнивает последовательность до макс \n",
    "                                                                        # длины в батче заполняя пропуски нулем\n",
    "        label_len = torch.stack([item[3] for item in batch])\n",
    "        msg = [item[4] for item in batch]\n",
    "        \n",
    "        return [spectrograms_padded, spec_lens, target, label_len, msg]\n",
    "    else: \n",
    "        return [spectrograms_padded, spec_lens]\n",
    "    \n",
    "test_dl = torch.utils.data.DataLoader(test_ds, batch_size=20, shuffle=False, collate_fn=my_collate)\n",
    "model_load.eval()\n",
    "next(iter(test_dl))\n",
    "with torch.no_grad():\n",
    "    test_predicts = []\n",
    "    for loader in test_dl:\n",
    "        seq, seq_lens = loader\n",
    "        seq = seq.to(DIVICE)\n",
    "        seq_lens = seq_lens.to(DIVICE)\n",
    "\n",
    "        logits = model_load(seq,seq_lens)\n",
    "        predicted_values = ctc_decoder(logits, int_to_char, BLANK_IDX)\n",
    "        test_predicts.extend(predicted_values)\n",
    "\n",
    "sample_data.message = test_predicts\n",
    "sample_data.to_csv('sample_submission.csv', index=False)"
   ]
  }
 ],
 "metadata": {
  "kernelspec": {
   "display_name": "Morse_decoder_V2",
   "language": "python",
   "name": "python3"
  },
  "language_info": {
   "codemirror_mode": {
    "name": "ipython",
    "version": 3
   },
   "file_extension": ".py",
   "mimetype": "text/x-python",
   "name": "python",
   "nbconvert_exporter": "python",
   "pygments_lexer": "ipython3",
   "version": "3.12.0"
  }
 },
 "nbformat": 4,
 "nbformat_minor": 5
}
