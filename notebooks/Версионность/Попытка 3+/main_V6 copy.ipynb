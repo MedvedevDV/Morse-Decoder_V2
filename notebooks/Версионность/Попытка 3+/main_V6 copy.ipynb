{
 "cells": [
  {
   "cell_type": "code",
   "execution_count": null,
   "id": "d761d8f5",
   "metadata": {},
   "outputs": [
    {
     "name": "stdout",
     "output_type": "stream",
     "text": [
      "Compose.__call__() missing 1 required positional argument: 'sample_rate'\n",
      "Compose.__call__() missing 1 required positional argument: 'sample_rate'\n",
      "Compose.__call__() missing 1 required positional argument: 'sample_rate'\n",
      "Compose.__call__() missing 1 required positional argument: 'sample_rate'\n",
      "Compose.__call__() missing 1 required positional argument: 'sample_rate'\n",
      "Compose.__call__() missing 1 required positional argument: 'sample_rate'\n",
      "Compose.__call__() missing 1 required positional argument: 'sample_rate'\n",
      "Compose.__call__() missing 1 required positional argument: 'sample_rate'\n",
      "Compose.__call__() missing 1 required positional argument: 'sample_rate'\n",
      "Compose.__call__() missing 1 required positional argument: 'sample_rate'\n",
      "Compose.__call__() missing 1 required positional argument: 'sample_rate'\n",
      "Compose.__call__() missing 1 required positional argument: 'sample_rate'\n",
      "Compose.__call__() missing 1 required positional argument: 'sample_rate'\n",
      "Compose.__call__() missing 1 required positional argument: 'sample_rate'\n",
      "Compose.__call__() missing 1 required positional argument: 'sample_rate'\n",
      "Compose.__call__() missing 1 required positional argument: 'sample_rate'\n",
      "Compose.__call__() missing 1 required positional argument: 'sample_rate'\n",
      "Compose.__call__() missing 1 required positional argument: 'sample_rate'\n",
      "Compose.__call__() missing 1 required positional argument: 'sample_rate'\n",
      "Compose.__call__() missing 1 required positional argument: 'sample_rate'\n",
      "Compose.__call__() missing 1 required positional argument: 'sample_rate'\n",
      "Compose.__call__() missing 1 required positional argument: 'sample_rate'\n",
      "Compose.__call__() missing 1 required positional argument: 'sample_rate'\n",
      "Compose.__call__() missing 1 required positional argument: 'sample_rate'\n",
      "Compose.__call__() missing 1 required positional argument: 'sample_rate'\n",
      "Compose.__call__() missing 1 required positional argument: 'sample_rate'\n",
      "Compose.__call__() missing 1 required positional argument: 'sample_rate'\n",
      "Compose.__call__() missing 1 required positional argument: 'sample_rate'\n",
      "Compose.__call__() missing 1 required positional argument: 'sample_rate'\n",
      "Compose.__call__() missing 1 required positional argument: 'sample_rate'\n",
      "Compose.__call__() missing 1 required positional argument: 'sample_rate'\n",
      "Compose.__call__() missing 1 required positional argument: 'sample_rate'\n",
      "Compose.__call__() missing 1 required positional argument: 'sample_rate'\n",
      "Compose.__call__() missing 1 required positional argument: 'sample_rate'\n",
      "Compose.__call__() missing 1 required positional argument: 'sample_rate'\n",
      "Compose.__call__() missing 1 required positional argument: 'sample_rate'\n",
      "Compose.__call__() missing 1 required positional argument: 'sample_rate'\n",
      "Compose.__call__() missing 1 required positional argument: 'sample_rate'\n",
      "Compose.__call__() missing 1 required positional argument: 'sample_rate'\n",
      "Compose.__call__() missing 1 required positional argument: 'sample_rate'\n",
      "Compose.__call__() missing 1 required positional argument: 'sample_rate'\n",
      "Compose.__call__() missing 1 required positional argument: 'sample_rate'\n",
      "Compose.__call__() missing 1 required positional argument: 'sample_rate'\n",
      "Compose.__call__() missing 1 required positional argument: 'sample_rate'\n",
      "Compose.__call__() missing 1 required positional argument: 'sample_rate'\n",
      "Compose.__call__() missing 1 required positional argument: 'sample_rate'\n",
      "Compose.__call__() missing 1 required positional argument: 'sample_rate'\n",
      "Compose.__call__() missing 1 required positional argument: 'sample_rate'\n",
      "Compose.__call__() missing 1 required positional argument: 'sample_rate'\n",
      "Compose.__call__() missing 1 required positional argument: 'sample_rate'\n",
      "Compose.__call__() missing 1 required positional argument: 'sample_rate'\n",
      "Compose.__call__() missing 1 required positional argument: 'sample_rate'\n",
      "Compose.__call__() missing 1 required positional argument: 'sample_rate'\n",
      "Compose.__call__() missing 1 required positional argument: 'sample_rate'\n",
      "Compose.__call__() missing 1 required positional argument: 'sample_rate'\n",
      "Compose.__call__() missing 1 required positional argument: 'sample_rate'\n",
      "Compose.__call__() missing 1 required positional argument: 'sample_rate'\n",
      "Compose.__call__() missing 1 required positional argument: 'sample_rate'\n",
      "Compose.__call__() missing 1 required positional argument: 'sample_rate'\n",
      "Compose.__call__() missing 1 required positional argument: 'sample_rate'\n",
      "Compose.__call__() missing 1 required positional argument: 'sample_rate'\n",
      "Compose.__call__() missing 1 required positional argument: 'sample_rate'\n",
      "Compose.__call__() missing 1 required positional argument: 'sample_rate'\n",
      "Compose.__call__() missing 1 required positional argument: 'sample_rate'\n"
     ]
    },
    {
     "ename": "TypeError",
     "evalue": "'NoneType' object is not subscriptable",
     "output_type": "error",
     "traceback": [
      "\u001b[31m---------------------------------------------------------------------------\u001b[39m",
      "\u001b[31mTypeError\u001b[39m                                 Traceback (most recent call last)",
      "\u001b[36mCell\u001b[39m\u001b[36m \u001b[39m\u001b[32mIn[17]\u001b[39m\u001b[32m, line 303\u001b[39m\n\u001b[32m    300\u001b[39m train_dl = torch.utils.data.DataLoader(train_ds, batch_size=BATCH_SIZE, shuffle=\u001b[38;5;28;01mTrue\u001b[39;00m, collate_fn=my_collate, drop_last=\u001b[38;5;28;01mTrue\u001b[39;00m)\n\u001b[32m    301\u001b[39m val_dl = torch.utils.data.DataLoader(val_ds, batch_size=BATCH_SIZE, shuffle=\u001b[38;5;28;01mTrue\u001b[39;00m, collate_fn=my_collate, drop_last=\u001b[38;5;28;01mTrue\u001b[39;00m)\n\u001b[32m--> \u001b[39m\u001b[32m303\u001b[39m test, test_target, _, mess = \u001b[38;5;28;43mnext\u001b[39;49m\u001b[43m(\u001b[49m\u001b[38;5;28;43miter\u001b[39;49m\u001b[43m(\u001b[49m\u001b[43mtrain_dl\u001b[49m\u001b[43m)\u001b[49m\u001b[43m)\u001b[49m\n\u001b[32m    304\u001b[39m test, test_target= test.to(DIVICE), test_target.to(DIVICE)\n\u001b[32m    306\u001b[39m test_val, val_target, __, val_mess = \u001b[38;5;28mnext\u001b[39m(\u001b[38;5;28miter\u001b[39m(val_dl))\n",
      "\u001b[36mFile \u001b[39m\u001b[32mc:\\Users\\homer\\OneDrive\\Desktop\\Morse_Decoder_V2\\Morse_decoder_V2\\Lib\\site-packages\\torch\\utils\\data\\dataloader.py:733\u001b[39m, in \u001b[36m_BaseDataLoaderIter.__next__\u001b[39m\u001b[34m(self)\u001b[39m\n\u001b[32m    730\u001b[39m \u001b[38;5;28;01mif\u001b[39;00m \u001b[38;5;28mself\u001b[39m._sampler_iter \u001b[38;5;129;01mis\u001b[39;00m \u001b[38;5;28;01mNone\u001b[39;00m:\n\u001b[32m    731\u001b[39m     \u001b[38;5;66;03m# TODO(https://github.com/pytorch/pytorch/issues/76750)\u001b[39;00m\n\u001b[32m    732\u001b[39m     \u001b[38;5;28mself\u001b[39m._reset()  \u001b[38;5;66;03m# type: ignore[call-arg]\u001b[39;00m\n\u001b[32m--> \u001b[39m\u001b[32m733\u001b[39m data = \u001b[38;5;28;43mself\u001b[39;49m\u001b[43m.\u001b[49m\u001b[43m_next_data\u001b[49m\u001b[43m(\u001b[49m\u001b[43m)\u001b[49m\n\u001b[32m    734\u001b[39m \u001b[38;5;28mself\u001b[39m._num_yielded += \u001b[32m1\u001b[39m\n\u001b[32m    735\u001b[39m \u001b[38;5;28;01mif\u001b[39;00m (\n\u001b[32m    736\u001b[39m     \u001b[38;5;28mself\u001b[39m._dataset_kind == _DatasetKind.Iterable\n\u001b[32m    737\u001b[39m     \u001b[38;5;129;01mand\u001b[39;00m \u001b[38;5;28mself\u001b[39m._IterableDataset_len_called \u001b[38;5;129;01mis\u001b[39;00m \u001b[38;5;129;01mnot\u001b[39;00m \u001b[38;5;28;01mNone\u001b[39;00m\n\u001b[32m    738\u001b[39m     \u001b[38;5;129;01mand\u001b[39;00m \u001b[38;5;28mself\u001b[39m._num_yielded > \u001b[38;5;28mself\u001b[39m._IterableDataset_len_called\n\u001b[32m    739\u001b[39m ):\n",
      "\u001b[36mFile \u001b[39m\u001b[32mc:\\Users\\homer\\OneDrive\\Desktop\\Morse_Decoder_V2\\Morse_decoder_V2\\Lib\\site-packages\\torch\\utils\\data\\dataloader.py:789\u001b[39m, in \u001b[36m_SingleProcessDataLoaderIter._next_data\u001b[39m\u001b[34m(self)\u001b[39m\n\u001b[32m    787\u001b[39m \u001b[38;5;28;01mdef\u001b[39;00m\u001b[38;5;250m \u001b[39m\u001b[34m_next_data\u001b[39m(\u001b[38;5;28mself\u001b[39m):\n\u001b[32m    788\u001b[39m     index = \u001b[38;5;28mself\u001b[39m._next_index()  \u001b[38;5;66;03m# may raise StopIteration\u001b[39;00m\n\u001b[32m--> \u001b[39m\u001b[32m789\u001b[39m     data = \u001b[38;5;28;43mself\u001b[39;49m\u001b[43m.\u001b[49m\u001b[43m_dataset_fetcher\u001b[49m\u001b[43m.\u001b[49m\u001b[43mfetch\u001b[49m\u001b[43m(\u001b[49m\u001b[43mindex\u001b[49m\u001b[43m)\u001b[49m  \u001b[38;5;66;03m# may raise StopIteration\u001b[39;00m\n\u001b[32m    790\u001b[39m     \u001b[38;5;28;01mif\u001b[39;00m \u001b[38;5;28mself\u001b[39m._pin_memory:\n\u001b[32m    791\u001b[39m         data = _utils.pin_memory.pin_memory(data, \u001b[38;5;28mself\u001b[39m._pin_memory_device)\n",
      "\u001b[36mFile \u001b[39m\u001b[32mc:\\Users\\homer\\OneDrive\\Desktop\\Morse_Decoder_V2\\Morse_decoder_V2\\Lib\\site-packages\\torch\\utils\\data\\_utils\\fetch.py:55\u001b[39m, in \u001b[36m_MapDatasetFetcher.fetch\u001b[39m\u001b[34m(self, possibly_batched_index)\u001b[39m\n\u001b[32m     53\u001b[39m \u001b[38;5;28;01melse\u001b[39;00m:\n\u001b[32m     54\u001b[39m     data = \u001b[38;5;28mself\u001b[39m.dataset[possibly_batched_index]\n\u001b[32m---> \u001b[39m\u001b[32m55\u001b[39m \u001b[38;5;28;01mreturn\u001b[39;00m \u001b[38;5;28;43mself\u001b[39;49m\u001b[43m.\u001b[49m\u001b[43mcollate_fn\u001b[49m\u001b[43m(\u001b[49m\u001b[43mdata\u001b[49m\u001b[43m)\u001b[49m\n",
      "\u001b[36mCell\u001b[39m\u001b[36m \u001b[39m\u001b[32mIn[17]\u001b[39m\u001b[32m, line 281\u001b[39m, in \u001b[36mmy_collate\u001b[39m\u001b[34m(batch)\u001b[39m\n\u001b[32m    275\u001b[39m \u001b[38;5;28;01mdef\u001b[39;00m\u001b[38;5;250m \u001b[39m\u001b[34mmy_collate\u001b[39m(batch):\n\u001b[32m    276\u001b[39m \u001b[38;5;250m    \u001b[39m\u001b[33;03m'''\u001b[39;00m\n\u001b[32m    277\u001b[39m \u001b[33;03m    При обработке dataloader labels будут \u001b[39;00m\n\u001b[32m    278\u001b[39m \u001b[33;03m    выравниваться по макс длине для выравнивания батча\u001b[39;00m\n\u001b[32m    279\u001b[39m \u001b[33;03m    Т.е. будет padding . что в будующем будет пустым значением для ctc loss\u001b[39;00m\n\u001b[32m    280\u001b[39m \u001b[33;03m    '''\u001b[39;00m\n\u001b[32m--> \u001b[39m\u001b[32m281\u001b[39m     spectrograms = [\u001b[43mitem\u001b[49m\u001b[43m[\u001b[49m\u001b[32;43m0\u001b[39;49m\u001b[43m]\u001b[49m.squeeze(\u001b[32m0\u001b[39m) \u001b[38;5;28;01mfor\u001b[39;00m item \u001b[38;5;129;01min\u001b[39;00m batch]\n\u001b[32m    282\u001b[39m     \u001b[38;5;66;03m# Падинг спектрограмм по максимальной длине\u001b[39;00m\n\u001b[32m    283\u001b[39m     spectrograms_permuted = [s.permute(\u001b[32m1\u001b[39m, \u001b[32m0\u001b[39m) \u001b[38;5;28;01mfor\u001b[39;00m s \u001b[38;5;129;01min\u001b[39;00m spectrograms]\n",
      "\u001b[31mTypeError\u001b[39m: 'NoneType' object is not subscriptable"
     ]
    }
   ],
   "source": [
    "import numpy as np\n",
    "import pandas as pd\n",
    "import os\n",
    "import random\n",
    "from pathlib import Path as pt\n",
    "import torch\n",
    "import torchaudio\n",
    "from torch import nn\n",
    "import torch.nn.functional as F\n",
    "import torch.optim as optim\n",
    "from torch.utils.data import Dataset, DataLoader, random_split\n",
    "from torchaudio import transforms\n",
    "from torchvision.transforms import v2\n",
    "from sklearn.model_selection import train_test_split\n",
    "import matplotlib.pyplot as plt\n",
    "from tqdm import tqdm\n",
    "from torch.nn.parallel import DataParallel\n",
    "from collections import Counter\n",
    "from audiomentations import Compose, AddGaussianNoise, TimeStretch, Shift, Gain, PolarityInversion\n",
    "\n",
    "DIVICE = torch.device(\"cuda\")\n",
    "\n",
    "MAIN = pt(os.getcwd())\n",
    "DATASET_PATCH = MAIN / 'morse_dataset'\n",
    "AUDIO_FILES = DATASET_PATCH / 'morse_dataset'\n",
    "\n",
    "# Поятоянные значения выявленные в процессе анализа\n",
    "MORSEALP = \"АБВГДЕЁЖЗИЙКЛМНОПРСТУФХЦЧШЩЪЫЬЭЮЯ 1234567890#\"\n",
    "MAX_TIME = 48\n",
    "SAMPLE_RATE = 8000\n",
    "N_MELS = 64\n",
    "N_FFT = 512\n",
    "HOP_LENGTH = 160\n",
    "TOP_DB = 80\n",
    "FREQ_MASK = 20\n",
    "TIME_MASK = 30\n",
    "\n",
    "# Гиперпараметы обучения\n",
    "SEED = 42\n",
    "BATCH_SIZE = 64\n",
    "EPOCHS = 50\n",
    "LEARNING_RATE = 0.0002 #2e-4\n",
    "WEIGHT_DECAY = 0.00001\n",
    "\n",
    "#===== Import data =====\n",
    "train_data = pd.read_csv(pt.joinpath(DATASET_PATCH,'train.csv'))\n",
    "test_data = pd.read_csv(pt.joinpath(DATASET_PATCH,'test.csv'))\n",
    "sample_data = pd.read_csv(pt.joinpath(DATASET_PATCH,'sample_submission.csv'))\n",
    "\n",
    "all_chars = Counter(\"\".join(train_data['message']))\n",
    "BLANK_CHAR = \"_\"\n",
    "vocab_list = sorted(all_chars.keys()) + [BLANK_CHAR]\n",
    "num_classes = len(vocab_list)\n",
    "char_to_int = {char: i for i, char in enumerate(vocab_list)}\n",
    "int_to_char = {i: char for i, char in enumerate(vocab_list)}\n",
    "BLANK_IDX = char_to_int[BLANK_CHAR]\n",
    "\n",
    "class MosreDataset(Dataset):\n",
    "    \"\"\"\n",
    "    Класс для обработки \n",
    "    \"\"\"\n",
    "    def __init__(self, df, data_patch,char_to_int, train=True, transforms=None, prev_chars = 1):\n",
    "        self.df = df\n",
    "        self.is_train = train\n",
    "\n",
    "        self.data_path = data_patch\n",
    "        self.audio_paths = self.data_path / 'morse_dataset'\n",
    "\n",
    "        self.transforms = transforms\n",
    "\n",
    "        self.char_to_int = char_to_int\n",
    "        self.prev_chars = prev_chars\n",
    "\n",
    "        if self.is_train:\n",
    "            self.messeges = self.df.message.values\n",
    "\n",
    "    def __len__(self):\n",
    "        return len(self.df)\n",
    "    \n",
    "    def __getitem__(self, index):\n",
    "        #Получение аугментрованых спектрограмм\n",
    "        try:\n",
    "            audio_file = self.audio_paths / self.df.id.values[index]\n",
    "            waveform, sample_rate = torchaudio.load(audio_file)\n",
    "            waveform = TRAIN_AUGMENT(waveform)\n",
    "            augmented_spectrogram = self.transforms(waveform)\n",
    "\n",
    "            if self.is_train:\n",
    "                message = self.messeges[index]\n",
    "                #Получение списка индексов секта - как требует CTC los\n",
    "                target = torch.tensor([self.char_to_int[char] for char in message], dtype=torch.long); \n",
    "                target_len = torch.tensor(len(target), dtype=torch.long)\n",
    "                return augmented_spectrogram, target, target_len, message\n",
    "            else:\n",
    "                return augmented_spectrogram, None, None, None\n",
    "        except Exception as ex:\n",
    "            print(str(ex))\n",
    "        \n",
    "    def change_time(self, audio_file, max_len = 384000):\n",
    "        waveform, sample_rate = torchaudio.load(audio_file)\n",
    "        cahanal, sig_len = waveform.shape\n",
    "\n",
    "        if sig_len < max_len:\n",
    "            pad_len = torch.zeros(max_len - sig_len).unsqueeze(0)\n",
    "            waveform = torch.cat([waveform, pad_len], dim=1)\n",
    "\n",
    "        return waveform\n",
    "    \n",
    "FIRST_FE_COUNT = 16\n",
    "SECOND_FE_COUNT = 32\n",
    "THIRD_FE_COUNT = 32\n",
    "QAD_FE_COUNT = 32\n",
    "PADDING = 1\n",
    "MAXPOOL_KERNEL = 2\n",
    "KERTNEL_SIZE = 3\n",
    "NERON_COUNT = 128\n",
    "GRU_HIDEN = 256\n",
    "\n",
    "class AttentionDecoder(nn.Module):\n",
    "    def __init__(self, enc_dim, dec_dim, num_classes):\n",
    "        super().__init__()\n",
    "        self.query = nn.Parameter(torch.randn(dec_dim))  # learnable query vector\n",
    "        self.attn = nn.Linear(enc_dim + dec_dim, dec_dim)\n",
    "        self.v = nn.Parameter(torch.rand(dec_dim))\n",
    "        self.proj = nn.Linear(enc_dim, num_classes)\n",
    "\n",
    "    def forward(self, enc_outputs):\n",
    "        # enc_outputs: [B, T, enc_dim]\n",
    "        B, T, D = enc_outputs.size()\n",
    "        queries = self.query.unsqueeze(0).expand(B, -1)  # [B, D_dec]\n",
    "        scores = torch.tanh(self.attn(torch.cat([\n",
    "            enc_outputs,\n",
    "            queries.unsqueeze(1).expand(-1, T, -1)\n",
    "        ], dim=-1)))  # [B, T, dec_dim]\n",
    "        scores = torch.matmul(scores, self.v)  # [B, T]\n",
    "        attn_weights = F.softmax(scores, dim=1).unsqueeze(-1)  # [B, T,1]\n",
    "        context = (enc_outputs * attn_weights).sum(dim=1)  # [B, enc_dim]\n",
    "        logits = self.proj(context)  # [B, num_classes]\n",
    "        # replicate logits over time for CTC\n",
    "        return logits.unsqueeze(1).expand(-1, T, -1).permute(1,0,2)  # [T, B, C]\n",
    "    \n",
    "class MorseNet(nn.Module):\n",
    "    def __init__(self, num_classes):\n",
    "        super().__init__()\n",
    "        chan1 = FIRST_FE_COUNT\n",
    "        chan2 = chan1 * 2\n",
    "        self.net_conv = nn.Sequential(\n",
    "            nn.Conv2d(in_channels=1, \n",
    "                      out_channels=chan1, \n",
    "                      kernel_size=KERTNEL_SIZE , stride=1, padding=PADDING),\n",
    "            nn.BatchNorm2d(chan1),\n",
    "            nn.GELU(),\n",
    "            nn.MaxPool2d((1, 2), (1, 2)), # [batch, FIRST_FE_COUNT = 16, 64, 960]\n",
    "\n",
    "            nn.Conv2d(in_channels=chan1, \n",
    "                      out_channels=chan1, \n",
    "                      kernel_size=KERTNEL_SIZE , stride=1, padding=PADDING),\n",
    "            nn.BatchNorm2d(chan1),\n",
    "            nn.GELU(),\n",
    "            nn.MaxPool2d((2, 1), (2, 1)), # [batch, SECOND_FE_COUNT = 32, 32, 480]\n",
    "\n",
    "            nn.Conv2d(in_channels=chan1, \n",
    "                      out_channels=chan2, \n",
    "                      kernel_size=KERTNEL_SIZE , stride=1, padding=PADDING),\n",
    "            nn.BatchNorm2d(chan2),\n",
    "            nn.GELU(),\n",
    "            nn.MaxPool2d((2, 2), (2, 2)), # [batch, THIRD_FE_COUNT = 32, 16, 240]\n",
    "\n",
    "            nn.Conv2d(in_channels=chan2, \n",
    "                      out_channels=chan2, \n",
    "                      kernel_size=KERTNEL_SIZE , stride=1, padding=PADDING),\n",
    "            nn.BatchNorm2d(chan2),\n",
    "            nn.GELU(),\n",
    "            nn.MaxPool2d((2, 1), (2, 1)) # [batch=32, QAD_FE_COUNT = 32, 8, 80](что юы сохраниить большще признаков по горизонтали)\n",
    "        )\n",
    "\n",
    "        with torch.no_grad():\n",
    "            dummy = torch.randn(1,1,N_MELS, 356)\n",
    "            out = self.net_conv(dummy)\n",
    "            self.cnn_output_features = out.numel()//out.shape[0]//out.shape[-2]  # channels * mels\n",
    "\n",
    "        self.layer1 = nn.Linear(self.cnn_output_features, N_MELS*2); \n",
    "        self.gelu = nn.GELU()\n",
    "\n",
    "        self.embed_dim = GRU_HIDEN * 2\n",
    "        self.rnn = nn.LSTM(\n",
    "                input_size=N_MELS*2,\n",
    "                hidden_size=GRU_HIDEN,\n",
    "                num_layers=2,\n",
    "                bidirectional=True,\n",
    "                dropout=0.3,\n",
    "                batch_first=True \n",
    "            )\n",
    "        self.attention = nn.MultiheadAttention(\n",
    "            embed_dim=self.embed_dim,\n",
    "            num_heads=8,\n",
    "            dropout=0.3,\n",
    "            batch_first=True\n",
    "        )\n",
    "        \n",
    "        self.layer_norm = nn.LayerNorm(self.embed_dim)    \n",
    "        self.attn_dec = AttentionDecoder(enc_dim=self.embed_dim, dec_dim=self.embed_dim, num_classes=num_classes)  \n",
    "        self.layer2 = nn.Linear(self.embed_dim, num_classes)       \n",
    "\n",
    "    def forward(self, x):\n",
    "        x = self.net_conv(x)\n",
    "\n",
    "        batch, channels, reduced_mels, reduced_time = x.shape\n",
    "        x = x.permute(0, 3, 1, 2)  # [batch, time, channels, mels]\n",
    "\n",
    "        # В частности, каждый вектор признаков в последовательности признаков генерируется \n",
    "        # слева направо на картах признаков. Это означает, что i-й вектор признаков представляет \n",
    "        # собой объединение столбцов всех карт. \n",
    "        # Таким образом, форма тензора может быть изменена, например, на (размер_пакета, 80, 256)\n",
    "        \n",
    "        x = x.reshape(batch, reduced_time, -1)  # to GRU [batch=32, seq_len=89, features/hiden_dim=512]\n",
    "        x = self.layer1(x)\n",
    "        x = self.gelu(x)\n",
    "\n",
    "        self.rnn.flatten_parameters()\n",
    "\n",
    "        x = self.rnn(x) # [batch=32, seq_len=89, features/hiden_dim=256 * 2]\n",
    "        x, _ = x # берем информацию со всез состояний\n",
    "        # Типо Self-attention\n",
    "        x = self.layer_norm(x)\n",
    "        x = self.layer_norm(x + attn_output)  \n",
    "        # x = self.dropout(x)\n",
    "        x = self.layer2(x) # logits - [batch, sequence, num_classes] \n",
    "        x = nn.functional.log_softmax(x.permute(1,0,2), dim=2) # pertime так как CTC loss требует на взод (sequence/T,batch/N,num_classes/C)\n",
    "        '''\n",
    "        по одному прогнозу для каждого из признаков в последовательности, \n",
    "        в итоге получается 89 прогнозов символов для каждой секунды звука.\n",
    "        '''\n",
    "        return x\n",
    "    \n",
    "TRAIN_AUGMENT = Compose([\n",
    "    AddGaussianNoise(min_amplitude=1e-4, max_amplitude=0.02, p=0.5),\n",
    "    TimeStretch(min_rate=0.8, max_rate=1.25, p=0.4),\n",
    "    Shift(min_shift=-0.5, max_shift=0.5, p=0.3),\n",
    "    Gain(-12, 12, p=0.5),  # <-- исправлено\n",
    "    PolarityInversion(p=0.2)\n",
    "])\n",
    "\n",
    "train_audio_transforms = nn.Sequential(\n",
    "    transforms.MelSpectrogram(sample_rate=SAMPLE_RATE, n_fft=N_FFT, hop_length=HOP_LENGTH, n_mels=N_MELS),\n",
    "    transforms.AmplitudeToDB(top_db=TOP_DB),\n",
    "    transforms.FrequencyMasking(freq_mask_param=FREQ_MASK),\n",
    "    transforms.TimeMasking(time_mask_param=TIME_MASK),\n",
    "    # v2.RandomCrop((N_MELS, 1920)) # Обрезает последний кадр спектрограммы, в идеале надобы считать а не прописывать число\n",
    "    ) # заметка - Данные трансформации не создают довых обучаемых параметров. Но есть и те что создают. В будущем это стоит учитывать\n",
    "\n",
    "valid_audio_transforms = nn.Sequential(\n",
    "    transforms.MelSpectrogram(sample_rate=SAMPLE_RATE, n_fft=N_FFT, hop_length=HOP_LENGTH, n_mels=N_MELS),\n",
    "    transforms.AmplitudeToDB(top_db=TOP_DB),\n",
    "    # v2.CenterCrop((N_MELS, 1920)) \n",
    "    )\n",
    "\n",
    "train_dataframe, val_dataframe = train_test_split(train_data, test_size=0.15, random_state=SEED)\n",
    "\n",
    "train_ds = MosreDataset(df=train_dataframe,\n",
    "                        data_patch=DATASET_PATCH,\n",
    "                        char_to_int=char_to_int,\n",
    "                        train=True,\n",
    "                        transforms=train_audio_transforms)\n",
    "\n",
    "val_ds = MosreDataset(df=val_dataframe,\n",
    "                        data_patch=DATASET_PATCH,\n",
    "                        char_to_int=char_to_int,\n",
    "                        train=True,\n",
    "                        transforms=valid_audio_transforms)\n",
    "\n",
    "\n",
    "def my_collate(batch):\n",
    "    '''\n",
    "    При обработке dataloader labels будут \n",
    "    выравниваться по макс длине для выравнивания батча\n",
    "    Т.е. будет padding . что в будующем будет пустым значением для ctc loss\n",
    "    '''\n",
    "    spectrograms = [item[0].squeeze(0) for item in batch]\n",
    "    # Падинг спектрограмм по максимальной длине\n",
    "    spectrograms_permuted = [s.permute(1, 0) for s in spectrograms]\n",
    "    spectrograms_padded = nn.utils.rnn.pad_sequence(spectrograms_permuted, batch_first=True, padding_value=0.0)\n",
    "    spectrograms_padded = spectrograms_padded.permute(0, 2, 1).unsqueeze(1)\n",
    "\n",
    "    if batch[0][3] is not None:\n",
    "        target = torch.nn.utils.rnn.pad_sequence(\n",
    "                                                [item[1] for item in batch], \n",
    "                                                batch_first=True, \n",
    "                                                padding_value=BLANK_IDX)# выравнивает последовательность до макс \n",
    "                                                                        # длины в батче заполняя пропуски нулем\n",
    "        label_len = torch.stack([item[2] for item in batch])\n",
    "        msg = [item[3] for item in batch]\n",
    "        \n",
    "        return [spectrograms_padded, target, label_len, msg]\n",
    "    else: \n",
    "        return spectrograms_padded\n",
    "\n",
    "train_dl = torch.utils.data.DataLoader(train_ds, batch_size=BATCH_SIZE, shuffle=True, collate_fn=my_collate, drop_last=True)\n",
    "val_dl = torch.utils.data.DataLoader(val_ds, batch_size=BATCH_SIZE, shuffle=True, collate_fn=my_collate, drop_last=True)\n",
    "\n",
    "test, test_target, _, mess = next(iter(train_dl))\n",
    "test, test_target= test.to(DIVICE), test_target.to(DIVICE)\n",
    "\n",
    "test_val, val_target, __, val_mess = next(iter(val_dl))\n",
    "test_val, val_target = test_val.to(DIVICE), val_target.to(DIVICE)\n",
    "# test.shape \n",
    "\n",
    "#===== начало обучения =====\n",
    "model = MorseNet(num_classes=num_classes).to(DIVICE)\n",
    "# model = DataParallel(model)\n",
    "optimizer = optim.Adam(params=model.parameters(), lr=LEARNING_RATE)  # Было 0.002\n",
    "scheduler = optim.lr_scheduler.ReduceLROnPlateau(optimizer, mode='min', factor=0.5, patience=3)\n",
    "loss_func = nn.CTCLoss(blank=BLANK_IDX, reduction='mean', zero_infinity=True).to(DIVICE)\n",
    "\n",
    "total_params = sum(p.numel() for p in model.parameters() if p.requires_grad)\n",
    "print(f\"\\nMorseNet - инициалицация модели. Число обучаемых параметров: {total_params:,}\")"
   ]
  },
  {
   "cell_type": "markdown",
   "id": "7fa7f726",
   "metadata": {},
   "source": [
    "# Обучение модели"
   ]
  },
  {
   "cell_type": "code",
   "execution_count": 2,
   "id": "c23dee31",
   "metadata": {},
   "outputs": [],
   "source": [
    "import Levenshtein\n",
    "def ctc_decoder(logits, int_char_map, blank_label_idx):\n",
    "    preds = []\n",
    "    logits_cpu = logits.cpu() \n",
    "    max_inds = torch.argmax(logits_cpu.detach(), dim=2).t().numpy() # арзмакс по лагитам и преобразование к словарю\n",
    "    \n",
    "    for ind in max_inds:\n",
    "        merged_inds = []\n",
    "        for idx in ind:\n",
    "            if idx != blank_label_idx: \n",
    "                merged_inds.append(idx)\n",
    "        text = \"\".join([int_char_map.get(i, '?') for i in merged_inds])\n",
    "        preds.append(text)\n",
    "\n",
    "    return preds\n"
   ]
  },
  {
   "cell_type": "code",
   "execution_count": null,
   "id": "422ea6ef",
   "metadata": {},
   "outputs": [
    {
     "name": "stderr",
     "output_type": "stream",
     "text": [
      "                                                                        \r"
     ]
    },
    {
     "name": "stdout",
     "output_type": "stream",
     "text": [
      "\n",
      "===== Эпоха 1/50 =====\n",
      "Mean grad norm: 0.096066\n",
      "Max grad norm: 1.586106\n",
      "Min grad norm: 0.000000\n",
      "Current LR: 0.000200\n",
      "---- Train Loss: 4.1781\n",
      "---- Val Loss: 4.1766\n",
      "--------------------------------------------------\n"
     ]
    },
    {
     "name": "stderr",
     "output_type": "stream",
     "text": [
      "                                                                        \r"
     ]
    },
    {
     "name": "stdout",
     "output_type": "stream",
     "text": [
      "\n",
      "===== Эпоха 2/50 =====\n",
      "Mean grad norm: 0.071237\n",
      "Max grad norm: 1.064341\n",
      "Min grad norm: 0.000000\n",
      "Current LR: 0.000200\n",
      "---- Train Loss: 4.0223\n",
      "---- Val Loss: 4.1563\n",
      "--------------------------------------------------\n"
     ]
    },
    {
     "name": "stderr",
     "output_type": "stream",
     "text": [
      "                                                                        \r"
     ]
    },
    {
     "name": "stdout",
     "output_type": "stream",
     "text": [
      "\n",
      "===== Эпоха 3/50 =====\n",
      "Mean grad norm: 0.142785\n",
      "Max grad norm: 1.672672\n",
      "Min grad norm: 0.000000\n",
      "Current LR: 0.000200\n",
      "---- Train Loss: 4.0185\n",
      "---- Val Loss: 4.0694\n",
      "--------------------------------------------------\n"
     ]
    },
    {
     "name": "stderr",
     "output_type": "stream",
     "text": [
      "                                                                        \r"
     ]
    },
    {
     "name": "stdout",
     "output_type": "stream",
     "text": [
      "\n",
      "===== Эпоха 4/50 =====\n",
      "Mean grad norm: 0.303648\n",
      "Max grad norm: 1.899392\n",
      "Min grad norm: 0.000000\n",
      "Current LR: 0.000200\n",
      "---- Train Loss: 3.1852\n",
      "---- Val Loss: 1.1023\n",
      "--------------------------------------------------\n"
     ]
    },
    {
     "name": "stderr",
     "output_type": "stream",
     "text": [
      "                                                                        \r"
     ]
    },
    {
     "name": "stdout",
     "output_type": "stream",
     "text": [
      "\n",
      "===== Эпоха 5/50 =====\n",
      "Mean grad norm: 0.371700\n",
      "Max grad norm: 2.357514\n",
      "Min grad norm: 0.000000\n",
      "Current LR: 0.000200\n",
      "---- Train Loss: 1.0981\n",
      "---- Val Loss: 0.4965\n",
      "--------------------------------------------------\n"
     ]
    },
    {
     "name": "stderr",
     "output_type": "stream",
     "text": [
      "                                                                        \r"
     ]
    },
    {
     "name": "stdout",
     "output_type": "stream",
     "text": [
      "\n",
      "===== Эпоха 6/50 =====\n",
      "Mean grad norm: 0.316188\n",
      "Max grad norm: 2.500651\n",
      "Min grad norm: 0.000000\n",
      "Current LR: 0.000200\n",
      "---- Train Loss: 0.7904\n",
      "---- Val Loss: 0.4667\n",
      "--------------------------------------------------\n"
     ]
    },
    {
     "name": "stderr",
     "output_type": "stream",
     "text": [
      "                                                                        \r"
     ]
    },
    {
     "name": "stdout",
     "output_type": "stream",
     "text": [
      "\n",
      "===== Эпоха 7/50 =====\n",
      "Mean grad norm: 0.305953\n",
      "Max grad norm: 2.259201\n",
      "Min grad norm: 0.000000\n",
      "Current LR: 0.000200\n",
      "---- Train Loss: 0.6729\n",
      "---- Val Loss: 0.3408\n",
      "--------------------------------------------------\n"
     ]
    },
    {
     "name": "stderr",
     "output_type": "stream",
     "text": [
      "                                                                        \r"
     ]
    },
    {
     "name": "stdout",
     "output_type": "stream",
     "text": [
      "\n",
      "===== Эпоха 8/50 =====\n",
      "Mean grad norm: 0.339325\n",
      "Max grad norm: 3.109261\n",
      "Min grad norm: 0.000000\n",
      "Current LR: 0.000200\n",
      "---- Train Loss: 0.6079\n",
      "---- Val Loss: 0.2944\n",
      "--------------------------------------------------\n"
     ]
    },
    {
     "name": "stderr",
     "output_type": "stream",
     "text": [
      "                                                                        \r"
     ]
    },
    {
     "name": "stdout",
     "output_type": "stream",
     "text": [
      "\n",
      "===== Эпоха 9/50 =====\n",
      "Mean grad norm: 0.274479\n",
      "Max grad norm: 2.184908\n",
      "Min grad norm: 0.000000\n",
      "Current LR: 0.000200\n",
      "---- Train Loss: 0.5646\n",
      "---- Val Loss: 0.2567\n",
      "--------------------------------------------------\n"
     ]
    },
    {
     "name": "stderr",
     "output_type": "stream",
     "text": [
      "                                                                         \r"
     ]
    },
    {
     "name": "stdout",
     "output_type": "stream",
     "text": [
      "\n",
      "===== Эпоха 10/50 =====\n",
      "Mean grad norm: 0.502051\n",
      "Max grad norm: 4.358695\n",
      "Min grad norm: 0.000000\n",
      "Current LR: 0.000200\n",
      "---- Train Loss: 0.5371\n",
      "---- Val Loss: 0.2498\n",
      "--------------------------------------------------\n"
     ]
    },
    {
     "name": "stderr",
     "output_type": "stream",
     "text": [
      "                                                                         \r"
     ]
    },
    {
     "name": "stdout",
     "output_type": "stream",
     "text": [
      "\n",
      "===== Эпоха 11/50 =====\n",
      "Mean grad norm: 0.389562\n",
      "Max grad norm: 3.417289\n",
      "Min grad norm: 0.000000\n",
      "Current LR: 0.000200\n",
      "---- Train Loss: 0.5094\n",
      "---- Val Loss: 0.2903\n",
      "--------------------------------------------------\n"
     ]
    },
    {
     "name": "stderr",
     "output_type": "stream",
     "text": [
      "                                                                         \r"
     ]
    },
    {
     "name": "stdout",
     "output_type": "stream",
     "text": [
      "\n",
      "===== Эпоха 12/50 =====\n",
      "Mean grad norm: 0.332673\n",
      "Max grad norm: 2.586166\n",
      "Min grad norm: 0.000000\n",
      "Current LR: 0.000200\n",
      "---- Train Loss: 0.4947\n",
      "---- Val Loss: 0.2232\n",
      "--------------------------------------------------\n"
     ]
    },
    {
     "name": "stderr",
     "output_type": "stream",
     "text": [
      "                                                                         \r"
     ]
    },
    {
     "name": "stdout",
     "output_type": "stream",
     "text": [
      "\n",
      "===== Эпоха 13/50 =====\n",
      "Mean grad norm: 0.256282\n",
      "Max grad norm: 2.063805\n",
      "Min grad norm: 0.000000\n",
      "Current LR: 0.000200\n",
      "---- Train Loss: 0.4768\n",
      "---- Val Loss: 0.2273\n",
      "--------------------------------------------------\n"
     ]
    },
    {
     "name": "stderr",
     "output_type": "stream",
     "text": [
      "                                                                         \r"
     ]
    },
    {
     "name": "stdout",
     "output_type": "stream",
     "text": [
      "\n",
      "===== Эпоха 14/50 =====\n",
      "Mean grad norm: 0.337266\n",
      "Max grad norm: 2.749291\n",
      "Min grad norm: 0.000000\n",
      "Current LR: 0.000200\n",
      "---- Train Loss: 0.4658\n",
      "---- Val Loss: 0.2212\n",
      "--------------------------------------------------\n"
     ]
    },
    {
     "name": "stderr",
     "output_type": "stream",
     "text": [
      "                                                                         \r"
     ]
    },
    {
     "name": "stdout",
     "output_type": "stream",
     "text": [
      "\n",
      "===== Эпоха 15/50 =====\n",
      "Mean grad norm: 0.241152\n",
      "Max grad norm: 2.052337\n",
      "Min grad norm: 0.000000\n",
      "Current LR: 0.000200\n",
      "---- Train Loss: 0.4542\n",
      "---- Val Loss: 0.2143\n",
      "--------------------------------------------------\n"
     ]
    },
    {
     "name": "stderr",
     "output_type": "stream",
     "text": [
      "                                                                         \r"
     ]
    },
    {
     "name": "stdout",
     "output_type": "stream",
     "text": [
      "\n",
      "===== Эпоха 16/50 =====\n",
      "Mean grad norm: 0.441269\n",
      "Max grad norm: 3.463967\n",
      "Min grad norm: 0.000000\n",
      "Current LR: 0.000200\n",
      "---- Train Loss: 0.4415\n",
      "---- Val Loss: 0.2030\n",
      "--------------------------------------------------\n"
     ]
    },
    {
     "name": "stderr",
     "output_type": "stream",
     "text": [
      "                                                                         \r"
     ]
    },
    {
     "name": "stdout",
     "output_type": "stream",
     "text": [
      "\n",
      "===== Эпоха 17/50 =====\n",
      "Mean grad norm: 0.177875\n",
      "Max grad norm: 1.459275\n",
      "Min grad norm: 0.000000\n",
      "Current LR: 0.000200\n",
      "---- Train Loss: 0.4342\n",
      "---- Val Loss: 0.2009\n",
      "--------------------------------------------------\n"
     ]
    },
    {
     "name": "stderr",
     "output_type": "stream",
     "text": [
      "                                                                         \r"
     ]
    },
    {
     "name": "stdout",
     "output_type": "stream",
     "text": [
      "\n",
      "===== Эпоха 18/50 =====\n",
      "Mean grad norm: 0.343056\n",
      "Max grad norm: 3.269634\n",
      "Min grad norm: 0.000000\n",
      "Current LR: 0.000200\n",
      "---- Train Loss: 0.4318\n",
      "---- Val Loss: 0.2125\n",
      "--------------------------------------------------\n"
     ]
    },
    {
     "name": "stderr",
     "output_type": "stream",
     "text": [
      "                                                                         \r"
     ]
    },
    {
     "name": "stdout",
     "output_type": "stream",
     "text": [
      "\n",
      "===== Эпоха 19/50 =====\n",
      "Mean grad norm: 0.321616\n",
      "Max grad norm: 2.408809\n",
      "Min grad norm: 0.000000\n",
      "Current LR: 0.000200\n",
      "---- Train Loss: 0.4250\n",
      "---- Val Loss: 0.2083\n",
      "--------------------------------------------------\n"
     ]
    },
    {
     "name": "stderr",
     "output_type": "stream",
     "text": [
      "                                                                         \r"
     ]
    },
    {
     "name": "stdout",
     "output_type": "stream",
     "text": [
      "\n",
      "===== Эпоха 20/50 =====\n",
      "Mean grad norm: 0.419765\n",
      "Max grad norm: 3.468226\n",
      "Min grad norm: 0.000000\n",
      "Current LR: 0.000200\n",
      "---- Train Loss: 0.4168\n",
      "---- Val Loss: 0.1835\n",
      "--------------------------------------------------\n"
     ]
    },
    {
     "name": "stderr",
     "output_type": "stream",
     "text": [
      "                                                                         \r"
     ]
    },
    {
     "name": "stdout",
     "output_type": "stream",
     "text": [
      "\n",
      "===== Эпоха 21/50 =====\n",
      "Mean grad norm: 0.388706\n",
      "Max grad norm: 3.243846\n",
      "Min grad norm: 0.000000\n",
      "Current LR: 0.000200\n",
      "---- Train Loss: 0.4179\n",
      "---- Val Loss: 0.2376\n",
      "--------------------------------------------------\n"
     ]
    },
    {
     "name": "stderr",
     "output_type": "stream",
     "text": [
      "                                                                         \r"
     ]
    },
    {
     "name": "stdout",
     "output_type": "stream",
     "text": [
      "\n",
      "===== Эпоха 22/50 =====\n",
      "Mean grad norm: 0.717784\n",
      "Max grad norm: 5.267270\n",
      "Min grad norm: 0.000000\n",
      "Current LR: 0.000200\n",
      "---- Train Loss: 0.4109\n",
      "---- Val Loss: 0.2097\n",
      "--------------------------------------------------\n"
     ]
    },
    {
     "name": "stderr",
     "output_type": "stream",
     "text": [
      "                                                                         \r"
     ]
    },
    {
     "name": "stdout",
     "output_type": "stream",
     "text": [
      "\n",
      "===== Эпоха 23/50 =====\n",
      "Mean grad norm: 0.261019\n",
      "Max grad norm: 1.882429\n",
      "Min grad norm: 0.000000\n",
      "Current LR: 0.000200\n",
      "---- Train Loss: 0.4038\n",
      "---- Val Loss: 0.1820\n",
      "--------------------------------------------------\n"
     ]
    },
    {
     "name": "stderr",
     "output_type": "stream",
     "text": [
      "                                                                         \r"
     ]
    },
    {
     "name": "stdout",
     "output_type": "stream",
     "text": [
      "\n",
      "===== Эпоха 24/50 =====\n",
      "Mean grad norm: 0.179867\n",
      "Max grad norm: 1.305564\n",
      "Min grad norm: 0.000000\n",
      "Current LR: 0.000200\n",
      "---- Train Loss: 0.4031\n",
      "---- Val Loss: 0.1781\n",
      "--------------------------------------------------\n"
     ]
    },
    {
     "name": "stderr",
     "output_type": "stream",
     "text": [
      "                                                                         \r"
     ]
    },
    {
     "name": "stdout",
     "output_type": "stream",
     "text": [
      "\n",
      "===== Эпоха 25/50 =====\n",
      "Mean grad norm: 0.248724\n",
      "Max grad norm: 1.615864\n",
      "Min grad norm: 0.000000\n",
      "Current LR: 0.000200\n",
      "---- Train Loss: 0.3953\n",
      "---- Val Loss: 0.1858\n",
      "--------------------------------------------------\n"
     ]
    },
    {
     "name": "stderr",
     "output_type": "stream",
     "text": [
      "                                                                         \r"
     ]
    },
    {
     "name": "stdout",
     "output_type": "stream",
     "text": [
      "\n",
      "===== Эпоха 26/50 =====\n",
      "Mean grad norm: 0.175271\n",
      "Max grad norm: 1.250558\n",
      "Min grad norm: 0.000000\n",
      "Current LR: 0.000200\n",
      "---- Train Loss: 0.3926\n",
      "---- Val Loss: 0.1904\n",
      "--------------------------------------------------\n"
     ]
    },
    {
     "name": "stderr",
     "output_type": "stream",
     "text": [
      "                                                                         \r"
     ]
    },
    {
     "name": "stdout",
     "output_type": "stream",
     "text": [
      "\n",
      "===== Эпоха 27/50 =====\n",
      "Mean grad norm: 0.242282\n",
      "Max grad norm: 1.855692\n",
      "Min grad norm: 0.000000\n",
      "Current LR: 0.000200\n",
      "---- Train Loss: 0.3914\n",
      "---- Val Loss: 0.1959\n",
      "--------------------------------------------------\n"
     ]
    },
    {
     "name": "stderr",
     "output_type": "stream",
     "text": [
      "                                                                         \r"
     ]
    },
    {
     "name": "stdout",
     "output_type": "stream",
     "text": [
      "\n",
      "===== Эпоха 28/50 =====\n",
      "Mean grad norm: 0.145248\n",
      "Max grad norm: 0.857805\n",
      "Min grad norm: 0.000000\n",
      "Current LR: 0.000200\n",
      "---- Train Loss: 0.3807\n",
      "---- Val Loss: 0.1732\n",
      "--------------------------------------------------\n"
     ]
    },
    {
     "name": "stderr",
     "output_type": "stream",
     "text": [
      "                                                                         \r"
     ]
    },
    {
     "name": "stdout",
     "output_type": "stream",
     "text": [
      "\n",
      "===== Эпоха 29/50 =====\n",
      "Mean grad norm: 0.328976\n",
      "Max grad norm: 3.332460\n",
      "Min grad norm: 0.000000\n",
      "Current LR: 0.000200\n",
      "---- Train Loss: 0.3820\n",
      "---- Val Loss: 0.1722\n",
      "--------------------------------------------------\n"
     ]
    },
    {
     "name": "stderr",
     "output_type": "stream",
     "text": [
      "                                                                         \r"
     ]
    },
    {
     "name": "stdout",
     "output_type": "stream",
     "text": [
      "\n",
      "===== Эпоха 30/50 =====\n",
      "Mean grad norm: 0.266405\n",
      "Max grad norm: 2.250565\n",
      "Min grad norm: 0.000000\n",
      "Current LR: 0.000200\n",
      "---- Train Loss: 0.3833\n",
      "---- Val Loss: 0.1750\n",
      "--------------------------------------------------\n"
     ]
    },
    {
     "name": "stderr",
     "output_type": "stream",
     "text": [
      "                                                                         \r"
     ]
    },
    {
     "name": "stdout",
     "output_type": "stream",
     "text": [
      "\n",
      "===== Эпоха 31/50 =====\n",
      "Mean grad norm: 0.301770\n",
      "Max grad norm: 2.087591\n",
      "Min grad norm: 0.000000\n",
      "Current LR: 0.000200\n",
      "---- Train Loss: 0.3779\n",
      "---- Val Loss: 0.2087\n",
      "--------------------------------------------------\n"
     ]
    },
    {
     "name": "stderr",
     "output_type": "stream",
     "text": [
      "                                                                         \r"
     ]
    },
    {
     "name": "stdout",
     "output_type": "stream",
     "text": [
      "\n",
      "===== Эпоха 32/50 =====\n",
      "Mean grad norm: 0.389465\n",
      "Max grad norm: 2.822993\n",
      "Min grad norm: 0.000000\n",
      "Current LR: 0.000200\n",
      "---- Train Loss: 0.3738\n",
      "---- Val Loss: 0.1716\n",
      "--------------------------------------------------\n"
     ]
    },
    {
     "name": "stderr",
     "output_type": "stream",
     "text": [
      "                                                                         \r"
     ]
    },
    {
     "name": "stdout",
     "output_type": "stream",
     "text": [
      "\n",
      "===== Эпоха 33/50 =====\n",
      "Mean grad norm: 0.183932\n",
      "Max grad norm: 1.152354\n",
      "Min grad norm: 0.000000\n",
      "Current LR: 0.000200\n",
      "---- Train Loss: 0.3686\n",
      "---- Val Loss: 0.1630\n",
      "--------------------------------------------------\n"
     ]
    },
    {
     "name": "stderr",
     "output_type": "stream",
     "text": [
      "                                                                         \r"
     ]
    },
    {
     "name": "stdout",
     "output_type": "stream",
     "text": [
      "\n",
      "===== Эпоха 34/50 =====\n",
      "Mean grad norm: 0.207592\n",
      "Max grad norm: 1.497677\n",
      "Min grad norm: 0.000000\n",
      "Current LR: 0.000200\n",
      "---- Train Loss: 0.3641\n",
      "---- Val Loss: 0.1802\n",
      "--------------------------------------------------\n"
     ]
    },
    {
     "name": "stderr",
     "output_type": "stream",
     "text": [
      "                                                                         \r"
     ]
    },
    {
     "name": "stdout",
     "output_type": "stream",
     "text": [
      "\n",
      "===== Эпоха 35/50 =====\n",
      "Mean grad norm: 0.317820\n",
      "Max grad norm: 2.629927\n",
      "Min grad norm: 0.000000\n",
      "Current LR: 0.000200\n",
      "---- Train Loss: 0.3584\n",
      "---- Val Loss: 0.1792\n",
      "--------------------------------------------------\n"
     ]
    },
    {
     "name": "stderr",
     "output_type": "stream",
     "text": [
      "                                                                         \r"
     ]
    },
    {
     "name": "stdout",
     "output_type": "stream",
     "text": [
      "\n",
      "===== Эпоха 36/50 =====\n",
      "Mean grad norm: 0.267309\n",
      "Max grad norm: 2.092673\n",
      "Min grad norm: 0.000000\n",
      "Current LR: 0.000200\n",
      "---- Train Loss: 0.3718\n",
      "---- Val Loss: 0.1727\n",
      "--------------------------------------------------\n"
     ]
    },
    {
     "name": "stderr",
     "output_type": "stream",
     "text": [
      "                                                                         \r"
     ]
    },
    {
     "name": "stdout",
     "output_type": "stream",
     "text": [
      "\n",
      "===== Эпоха 37/50 =====\n",
      "Mean grad norm: 0.258507\n",
      "Max grad norm: 2.207173\n",
      "Min grad norm: 0.000000\n",
      "Current LR: 0.000100\n",
      "---- Train Loss: 0.3607\n",
      "---- Val Loss: 0.1879\n",
      "--------------------------------------------------\n"
     ]
    },
    {
     "name": "stderr",
     "output_type": "stream",
     "text": [
      "                                                                         \r"
     ]
    },
    {
     "name": "stdout",
     "output_type": "stream",
     "text": [
      "\n",
      "===== Эпоха 38/50 =====\n",
      "Mean grad norm: 0.164192\n",
      "Max grad norm: 0.997189\n",
      "Min grad norm: 0.000000\n",
      "Current LR: 0.000100\n",
      "---- Train Loss: 0.3446\n",
      "---- Val Loss: 0.1626\n",
      "--------------------------------------------------\n"
     ]
    },
    {
     "name": "stderr",
     "output_type": "stream",
     "text": [
      "                                                                         \r"
     ]
    },
    {
     "name": "stdout",
     "output_type": "stream",
     "text": [
      "\n",
      "===== Эпоха 39/50 =====\n",
      "Mean grad norm: 0.128998\n",
      "Max grad norm: 0.948456\n",
      "Min grad norm: 0.000000\n",
      "Current LR: 0.000100\n",
      "---- Train Loss: 0.3310\n",
      "---- Val Loss: 0.1550\n",
      "--------------------------------------------------\n"
     ]
    },
    {
     "name": "stderr",
     "output_type": "stream",
     "text": [
      "                                                                         \r"
     ]
    },
    {
     "name": "stdout",
     "output_type": "stream",
     "text": [
      "\n",
      "===== Эпоха 40/50 =====\n",
      "Mean grad norm: 0.127667\n",
      "Max grad norm: 1.061912\n",
      "Min grad norm: 0.000000\n",
      "Current LR: 0.000100\n",
      "---- Train Loss: 0.3261\n",
      "---- Val Loss: 0.1627\n",
      "--------------------------------------------------\n"
     ]
    },
    {
     "name": "stderr",
     "output_type": "stream",
     "text": [
      "                                                                         \r"
     ]
    },
    {
     "name": "stdout",
     "output_type": "stream",
     "text": [
      "\n",
      "===== Эпоха 41/50 =====\n",
      "Mean grad norm: 0.136888\n",
      "Max grad norm: 1.244545\n",
      "Min grad norm: 0.000000\n",
      "Current LR: 0.000100\n",
      "---- Train Loss: 0.3248\n",
      "---- Val Loss: 0.1587\n",
      "--------------------------------------------------\n"
     ]
    },
    {
     "name": "stderr",
     "output_type": "stream",
     "text": [
      "                                                                         \r"
     ]
    },
    {
     "name": "stdout",
     "output_type": "stream",
     "text": [
      "\n",
      "===== Эпоха 42/50 =====\n",
      "Mean grad norm: 0.154719\n",
      "Max grad norm: 1.031763\n",
      "Min grad norm: 0.000000\n",
      "Current LR: 0.000100\n",
      "---- Train Loss: 0.3256\n",
      "---- Val Loss: 0.1579\n",
      "--------------------------------------------------\n"
     ]
    },
    {
     "name": "stderr",
     "output_type": "stream",
     "text": [
      "                                                                         \r"
     ]
    },
    {
     "name": "stdout",
     "output_type": "stream",
     "text": [
      "\n",
      "===== Эпоха 43/50 =====\n",
      "Mean grad norm: 0.321592\n",
      "Max grad norm: 2.442849\n",
      "Min grad norm: 0.000000\n",
      "Current LR: 0.000050\n",
      "---- Train Loss: 0.3243\n",
      "---- Val Loss: 0.1579\n",
      "--------------------------------------------------\n"
     ]
    },
    {
     "name": "stderr",
     "output_type": "stream",
     "text": [
      "                                                                         \r"
     ]
    },
    {
     "name": "stdout",
     "output_type": "stream",
     "text": [
      "\n",
      "===== Эпоха 44/50 =====\n",
      "Mean grad norm: 0.615070\n",
      "Max grad norm: 5.421957\n",
      "Min grad norm: 0.000000\n",
      "Current LR: 0.000050\n",
      "---- Train Loss: 0.3129\n",
      "---- Val Loss: 0.1534\n",
      "--------------------------------------------------\n"
     ]
    },
    {
     "name": "stderr",
     "output_type": "stream",
     "text": [
      "                                                                         \r"
     ]
    },
    {
     "name": "stdout",
     "output_type": "stream",
     "text": [
      "\n",
      "===== Эпоха 45/50 =====\n",
      "Mean grad norm: 0.763766\n",
      "Max grad norm: 7.983343\n",
      "Min grad norm: 0.000000\n",
      "Current LR: 0.000050\n",
      "---- Train Loss: 0.3086\n",
      "---- Val Loss: 0.1522\n",
      "--------------------------------------------------\n"
     ]
    },
    {
     "name": "stderr",
     "output_type": "stream",
     "text": [
      "                                                                         \r"
     ]
    },
    {
     "name": "stdout",
     "output_type": "stream",
     "text": [
      "\n",
      "===== Эпоха 46/50 =====\n",
      "Mean grad norm: 0.136167\n",
      "Max grad norm: 1.064135\n",
      "Min grad norm: 0.000000\n",
      "Current LR: 0.000050\n",
      "---- Train Loss: 0.3068\n",
      "---- Val Loss: 0.1536\n",
      "--------------------------------------------------\n"
     ]
    },
    {
     "name": "stderr",
     "output_type": "stream",
     "text": [
      "                                                                         \r"
     ]
    },
    {
     "name": "stdout",
     "output_type": "stream",
     "text": [
      "\n",
      "===== Эпоха 47/50 =====\n",
      "Mean grad norm: 0.303000\n",
      "Max grad norm: 2.364297\n",
      "Min grad norm: 0.000000\n",
      "Current LR: 0.000050\n",
      "---- Train Loss: 0.3073\n",
      "---- Val Loss: 0.1510\n",
      "--------------------------------------------------\n"
     ]
    },
    {
     "name": "stderr",
     "output_type": "stream",
     "text": [
      "                                                                         \r"
     ]
    },
    {
     "name": "stdout",
     "output_type": "stream",
     "text": [
      "\n",
      "===== Эпоха 48/50 =====\n",
      "Mean grad norm: 0.368863\n",
      "Max grad norm: 2.470103\n",
      "Min grad norm: 0.000000\n",
      "Current LR: 0.000050\n",
      "---- Train Loss: 0.3016\n",
      "---- Val Loss: 0.1514\n",
      "--------------------------------------------------\n"
     ]
    },
    {
     "name": "stderr",
     "output_type": "stream",
     "text": [
      "                                                                         \r"
     ]
    },
    {
     "name": "stdout",
     "output_type": "stream",
     "text": [
      "\n",
      "===== Эпоха 49/50 =====\n",
      "Mean grad norm: 0.155270\n",
      "Max grad norm: 1.328383\n",
      "Min grad norm: 0.000000\n",
      "Current LR: 0.000050\n",
      "---- Train Loss: 0.2972\n",
      "---- Val Loss: 0.1526\n",
      "--------------------------------------------------\n"
     ]
    },
    {
     "name": "stderr",
     "output_type": "stream",
     "text": [
      "                                                                         "
     ]
    },
    {
     "name": "stdout",
     "output_type": "stream",
     "text": [
      "\n",
      "===== Эпоха 50/50 =====\n",
      "Mean grad norm: 0.369572\n",
      "Max grad norm: 3.702634\n",
      "Min grad norm: 0.000000\n",
      "Current LR: 0.000050\n",
      "---- Train Loss: 0.3023\n",
      "---- Val Loss: 0.1509\n",
      "--------------------------------------------------\n"
     ]
    },
    {
     "name": "stderr",
     "output_type": "stream",
     "text": [
      "\r"
     ]
    }
   ],
   "source": [
    "lst_loss_train = []\n",
    "lst_loss_val = []\n",
    "best_val_loss = 0\n",
    "for epoch in range(EPOCHS):\n",
    "    model.train()\n",
    "\n",
    "    epoch_train_loss = 0.0\n",
    "    train_predicts = []\n",
    "\n",
    "    train_tqdm = tqdm(train_dl, desc=f\"Эпоха {epoch+1}/{EPOCHS} [Обучение]\", leave=False)\n",
    "    for batch_ind, batch in enumerate(train_tqdm):\n",
    "        mel_spec, targets, targets_lens, _ = batch\n",
    "        mel_spec, targets, targets_lens = mel_spec.to(DIVICE), targets.to(DIVICE), targets_lens.to(DIVICE)\n",
    "\n",
    "        #===== считатем длинну mel_spec для передачи в CTC loss =====\n",
    "        \n",
    "        optimizer.zero_grad()\n",
    "        predict = model(mel_spec) # (N=batch,T,C)\n",
    "        N = predict.shape[1]\n",
    "        T = predict.shape[0]\n",
    "        predict_lengths = torch.full(size=(N,), fill_value=T, dtype=torch.long)\n",
    "\n",
    "        try:\n",
    "            loss = loss_func(predict, targets, predict_lengths, targets_lens.reshape(BATCH_SIZE))\n",
    "        except RuntimeError:\n",
    "            print(predict.shape, targets.shape, predict_lengths, targets_lens.reshape(BATCH_SIZE))\n",
    "            continue\n",
    "        # print(loss)\n",
    "        if torch.isnan(loss) or torch.isinf(loss): \n",
    "            print(f\"\\nWarning: In batch-{batch_ind} loss train is NaN/Inf: {loss.item()}\"); \n",
    "            optimizer.zero_grad(); \n",
    "            continue\n",
    "\n",
    "        loss.backward()\n",
    "        # nn.utils.clip_grad_norm_(model.parameters(), max_norm=1.0)\n",
    "        optimizer.step()\n",
    "\n",
    "        epoch_train_loss += loss.item()\n",
    "\n",
    "    train_loss = epoch_train_loss / len(train_dl)\n",
    "\n",
    "    # ======== Валидация ========\n",
    "    model.eval()\n",
    "    val_loss = 0.0\n",
    "    total_val = 0\n",
    "    val_predicts = []\n",
    "\n",
    "    with torch.no_grad():\n",
    "        for val_mel_spec, val_labels, val_label_lensin, _ in tqdm(\n",
    "                                                        val_dl, \n",
    "                                                        desc=f\"Эпоха {epoch+1}/{EPOCHS} [Валидация]\", \n",
    "                                                        leave=False):\n",
    "            val_mel_spec, val_labels, val_label_lensin = val_mel_spec.to(DIVICE), val_labels.to(DIVICE), val_label_lensin.to(DIVICE)\n",
    "            val_predict = model(val_mel_spec)\n",
    "\n",
    "            val_N = val_predict.shape[1]\n",
    "            val_T = val_predict.shape[0]\n",
    "            predict_val_lengths = torch.full(size=(val_N,), fill_value=val_T, dtype=torch.long)\n",
    "            val_loss += loss_func(val_predict, val_labels, predict_val_lengths, val_label_lensin).item()\n",
    "\n",
    "    total_val = val_loss / len(val_dl)\n",
    "\n",
    "    lst_loss_train.append(train_loss)\n",
    "    lst_loss_val.append(total_val)\n",
    "\n",
    "    scheduler.step(total_val)\n",
    "\n",
    "    if val_loss < best_val_loss:\n",
    "        best_val_loss = val_loss\n",
    "        torch.save(model.state_dict(), 'best_model.pth')\n",
    "        print(f\"Новая лучшая модель сохранена с val_loss: {val_loss:.4f}\")\n",
    "    \n",
    "\n",
    "    print(f\"\\n===== Эпоха {epoch+1}/{EPOCHS} =====\")\\\n",
    "    #===== Инфо про градиенты=====\n",
    "    grad_norms = [param.grad.norm().item() for param in model.parameters() if param.grad is not None]\n",
    "    if grad_norms:\n",
    "        print(f\"Mean grad norm: {np.mean(grad_norms):.6f}\")\n",
    "        print(f\"Max grad norm: {np.max(grad_norms):.6f}\")\n",
    "        print(f\"Min grad norm: {np.min(grad_norms):.6f}\")\n",
    "    else:\n",
    "        print(\"No gradients computed yet.\")\n",
    "    #===== Инфо про шаг обучения и данные по потерям =====\n",
    "    current_lr = optimizer.param_groups[0]['lr']\n",
    "    print(f\"Current LR: {current_lr:.6f}\")\n",
    "    print(f\"---- Train Loss: {train_loss:.4f}\")\n",
    "    print(f\"---- Val Loss: {total_val:.4f}\")\n",
    "    if current_lr <= 1e-6:\n",
    "        print(\"Learning rate достиг минимума 1e-6, остановка обучения\")\n",
    "        break\n",
    "    print(\"-\" * 50)"
   ]
  },
  {
   "cell_type": "code",
   "execution_count": 7,
   "id": "ca52e14e",
   "metadata": {},
   "outputs": [],
   "source": [
    "torch.save(model.state_dict(), 'MorseNet.pth')"
   ]
  },
  {
   "cell_type": "code",
   "execution_count": 3,
   "id": "1547a2ff",
   "metadata": {},
   "outputs": [
    {
     "data": {
      "image/png": "[encoded data removed]",
      "text/plain": [
       "<Figure size 640x480 with 1 Axes>"
      ]
     },
     "metadata": {},
     "output_type": "display_data"
    }
   ],
   "source": [
    "plt.plot(lst_loss_train)\n",
    "plt.plot(lst_loss_val)\n",
    "plt.grid()\n",
    "plt.show()"
   ]
  },
  {
   "cell_type": "code",
   "execution_count": 11,
   "id": "45f65295",
   "metadata": {},
   "outputs": [
    {
     "name": "stdout",
     "output_type": "stream",
     "text": [
      "CNN размерность выхода: torch.Size([1, 32, 8, 89])\n",
      "CNN число фичей: 256\n",
      "Mean accurasu by The Levenshtein in train is : 0.8834991353129507\n",
      "Mean accurasu by The Levenshtein in validate is : 0.9265079209781295\n"
     ]
    }
   ],
   "source": [
    "def ctc_decoder(logits, int_char_map, blank_label_idx):\n",
    "    preds = []\n",
    "    logits_cpu = logits.cpu() \n",
    "    max_inds = torch.argmax(logits_cpu.detach(), dim=2).t().numpy() # арзмакс по лагитам и преобразование к словарю\n",
    "    \n",
    "    for ind in max_inds:\n",
    "        merged_inds = []\n",
    "        for idx in ind:\n",
    "            if idx != blank_label_idx: \n",
    "                merged_inds.append(idx)\n",
    "        text = \"\".join([int_char_map.get(i, '?') for i in merged_inds])\n",
    "        preds.append(text)\n",
    "\n",
    "    return preds\n",
    "\n",
    "model_load = MorseNet(num_classes=num_classes)\n",
    "model_load.load_state_dict(torch.load('MorseNet.pth'))\n",
    "model_load.eval()\n",
    "\n",
    "with torch.no_grad():\n",
    "    train_mess = []\n",
    "    train_predicts = []\n",
    "    for loader in train_dl:\n",
    "        seq, test_target, _, mess = loader\n",
    "        train_mess.extend(mess)\n",
    "\n",
    "        logits = model_load(seq)\n",
    "        predicted_values = ctc_decoder(logits, int_to_char, BLANK_IDX)\n",
    "        train_predicts.extend(predicted_values)\n",
    "\n",
    "    val_mess = []\n",
    "    val_predicts = []\n",
    "    for loader in val_dl:\n",
    "        seq, test_target, _, mess = loader\n",
    "        val_mess.extend(mess)\n",
    "\n",
    "        logits= model_load(seq)\n",
    "        predicted_values = ctc_decoder(logits, int_to_char, BLANK_IDX)\n",
    "        val_predicts.extend(predicted_values)\n",
    "\n",
    "import Levenshtein\n",
    "\n",
    "mean_acc_test = np.mean([Levenshtein.ratio(test_pred, train_mess[ind]) for ind, test_pred in enumerate(train_predicts)])\n",
    "mean_acc_val = np.mean([Levenshtein.ratio(val_pred, val_mess[ind]) for ind, val_pred in enumerate(val_predicts)])\n",
    "\n",
    "\n",
    "print(f\"Mean accurasu by The Levenshtein in train is : {mean_acc_test}\")\n",
    "print(f\"Mean accurasu by The Levenshtein in validate is : {mean_acc_val}\")"
   ]
  },
  {
   "cell_type": "markdown",
   "id": "f49ca828",
   "metadata": {},
   "source": [
    "# Сбор sample_submission"
   ]
  },
  {
   "cell_type": "code",
   "execution_count": 12,
   "id": "c85e44a4",
   "metadata": {},
   "outputs": [
    {
     "name": "stdout",
     "output_type": "stream",
     "text": [
      "CNN размерность выхода: torch.Size([1, 32, 8, 89])\n",
      "CNN число фичей: 256\n"
     ]
    }
   ],
   "source": [
    "def ctc_decoder(logits, int_char_map, blank_label_idx):\n",
    "    preds = []\n",
    "    logits_cpu = logits.cpu() \n",
    "    max_inds = torch.argmax(logits_cpu.detach(), dim=2).t().numpy() # арзмакс по лагитам и преобразование к словарю\n",
    "    \n",
    "    for ind in max_inds:\n",
    "        merged_inds = []\n",
    "        for idx in ind:\n",
    "            if idx != blank_label_idx: \n",
    "                merged_inds.append(idx)\n",
    "        text = \"\".join([int_char_map.get(i, '?') for i in merged_inds])\n",
    "        preds.append(text)\n",
    "\n",
    "    return preds\n",
    "\n",
    "model_load = MorseNet(num_classes=num_classes)\n",
    "model_load.load_state_dict(torch.load('MorseNet.pth'))\n",
    "model_load.eval()\n",
    "\n",
    "test_ds = MosreDataset(df=sample_data,\n",
    "                        data_patch=DATASET_PATCH,\n",
    "                        char_to_int=char_to_int,\n",
    "                        train=False,\n",
    "                        transforms=valid_audio_transforms)\n",
    "\n",
    "\n",
    "test_dl = torch.utils.data.DataLoader(test_ds, batch_size=20, shuffle=False, collate_fn=my_collate)\n",
    "model_load.eval()\n",
    "\n",
    "with torch.no_grad():\n",
    "    test_predicts = []\n",
    "    for loader in test_dl:\n",
    "        seq = loader\n",
    "        logits = model_load(seq)\n",
    "        predicted_values = ctc_decoder(logits, int_to_char, BLANK_IDX)\n",
    "        test_predicts.extend(predicted_values)\n",
    "\n",
    "sample_data.message = test_predicts\n",
    "sample_data.to_csv('sample_submission.csv', index=False)"
   ]
  }
 ],
 "metadata": {
  "kernelspec": {
   "display_name": "Morse_decoder_V2",
   "language": "python",
   "name": "python3"
  },
  "language_info": {
   "codemirror_mode": {
    "name": "ipython",
    "version": 3
   },
   "file_extension": ".py",
   "mimetype": "text/x-python",
   "name": "python",
   "nbconvert_exporter": "python",
   "pygments_lexer": "ipython3",
   "version": "3.12.0"
  }
 },
 "nbformat": 4,
 "nbformat_minor": 5
}
